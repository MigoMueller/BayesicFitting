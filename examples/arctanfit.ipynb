{
 "cells": [
  {
   "cell_type": "markdown",
   "metadata": {},
   "source": [
    "## Purpose: Non-linear fit\n",
    "\n",
    " Demonstration: \n",
    "     1. Arctan Model\n",
    "     2. LevenbergMarquardtFitter\n",
    " \n",
    " Author: Do Kester\n"
   ]
  },
  {
   "cell_type": "markdown",
   "metadata": {},
   "source": [
    "import stuff"
   ]
  },
  {
   "cell_type": "code",
   "execution_count": 46,
   "metadata": {
    "collapsed": false
   },
   "outputs": [],
   "source": [
    "import numpy as numpy\n",
    "import math\n",
    "\n",
    "from ArctanModel import ArctanModel\n",
    "from PolynomialModel import PolynomialModel\n",
    "from LevenbergMarquardtFitter import LevenbergMarquardtFitter\n",
    "from Formatter import formatter as fmt\n",
    "from FitPlot import plotFit\n",
    "import matplotlib.pyplot as plt"
   ]
  },
  {
   "cell_type": "markdown",
   "metadata": {},
   "source": [
    "define some constants"
   ]
  },
  {
   "cell_type": "code",
   "execution_count": 33,
   "metadata": {
    "collapsed": false
   },
   "outputs": [],
   "source": [
    "N = 101\n",
    "x0 = 60             # x position of arctanian\n",
    "seed = 3456\n"
   ]
  },
  {
   "cell_type": "markdown",
   "metadata": {},
   "source": [
    "make data as a set of +1 or -1 values."
   ]
  },
  {
   "cell_type": "code",
   "execution_count": 78,
   "metadata": {
    "collapsed": false
   },
   "outputs": [],
   "source": [
    "x = numpy.linspace( 20.0, 100.0, N, dtype=float )\n",
    "y = numpy.where( ( x + 10 * numpy.random.randn( N ) ) > x0, 1.0, 0.0 )\n",
    "#x += x0\n"
   ]
  },
  {
   "cell_type": "markdown",
   "metadata": {},
   "source": [
    "Define the model"
   ]
  },
  {
   "cell_type": "code",
   "execution_count": 79,
   "metadata": {
    "collapsed": false
   },
   "outputs": [
    {
     "name": "stdout",
     "output_type": "stream",
     "text": [
      "Arctan: f( x:p ) = p_0 * arctan( p_2 * ( x - p_1 ) ) +\n",
      "Polynomial: f( x:p ) = p_0\n"
     ]
    }
   ],
   "source": [
    "arctan = ArctanModel()\n",
    "arctan += PolynomialModel(0)\n",
    "print( arctan )\n",
    "initial = [0.5,50,1,-0.5]\n",
    "arctan.parameters = initial\n"
   ]
  },
  {
   "cell_type": "markdown",
   "metadata": {},
   "source": [
    "define the fitter: LevenbergMarquart"
   ]
  },
  {
   "cell_type": "code",
   "execution_count": 80,
   "metadata": {
    "collapsed": false
   },
   "outputs": [],
   "source": [
    "fitter = LevenbergMarquardtFitter( x, arctan )\n",
    " \n",
    "# find the parameters\n",
    "param = fitter.fit( y )\n",
    "\n",
    "  "
   ]
  },
  {
   "cell_type": "code",
   "execution_count": 81,
   "metadata": {
    "collapsed": false
   },
   "outputs": [
    {
     "name": "stdout",
     "output_type": "stream",
     "text": [
      "Parameters : [    0.360   61.591    0.173    0.525]\n",
      "StDevs     : [    0.039    1.545    0.074    0.032]\n",
      "Chisq      :     6.408\n",
      "Scale      :     0.257\n",
      "Covar matrix :\n",
      "[[    0.002    0.002   -0.002    0.000]\n",
      " [    0.002    2.388   -0.003    0.031]\n",
      " [   -0.002   -0.003    0.005   -0.000]\n",
      " [    0.000    0.031   -0.000    0.001]]\n"
     ]
    }
   ],
   "source": [
    "print( \"Parameters :\", fmt( param ) )\n",
    "print( \"StDevs     :\", fmt( fitter.stdevs ) )\n",
    "print( \"Chisq      :\", fmt( fitter.chisq ) )\n",
    "print( \"Scale      :\", fmt( fitter.scale ) )\n",
    "print( \"Covar matrix :\" )\n",
    "print( fmt( fitter.covariance))"
   ]
  },
  {
   "cell_type": "code",
   "execution_count": 82,
   "metadata": {
    "collapsed": false
   },
   "outputs": [
    {
     "data": {
      "image/png": "[encoded data removed]",
      "text/plain": [
       "<matplotlib.figure.Figure at 0x10f346a90>"
      ]
     },
     "metadata": {},
     "output_type": "display_data"
    }
   ],
   "source": [
    "plotFit( x, y, arctan, ftr=fitter )"
   ]
  },
  {
   "cell_type": "code",
   "execution_count": null,
   "metadata": {
    "collapsed": false
   },
   "outputs": [],
   "source": []
  },
  {
   "cell_type": "code",
   "execution_count": null,
   "metadata": {
    "collapsed": true
   },
   "outputs": [],
   "source": []
  }
 ],
 "metadata": {
  "anaconda-cloud": {},
  "kernelspec": {
   "display_name": "Python [default]",
   "language": "python",
   "name": "python3"
  },
  "language_info": {
   "codemirror_mode": {
    "name": "ipython",
    "version": 3
   },
   "file_extension": ".py",
   "mimetype": "text/x-python",
   "name": "python",
   "nbconvert_exporter": "python",
   "pygments_lexer": "ipython3",
   "version": "3.5.2"
  }
 },
 "nbformat": 4,
 "nbformat_minor": 1
}
