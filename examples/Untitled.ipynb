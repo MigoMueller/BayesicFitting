{
 "cells": [
  {
   "cell_type": "code",
   "execution_count": 8,
   "metadata": {
    "collapsed": true
   },
   "outputs": [],
   "source": [
    "import numpy as numpy\n",
    "import matplotlib.pyplot as plt"
   ]
  },
  {
   "cell_type": "code",
   "execution_count": 3,
   "metadata": {
    "collapsed": false
   },
   "outputs": [
    {
     "name": "stdout",
     "output_type": "stream",
     "text": [
      "2.3283064365386963e-10 0.9999999997671694\n"
     ]
    }
   ],
   "source": [
    "k = 2 << 31\n",
    "print( 1.0 / k, 1 - 1.0/k )"
   ]
  },
  {
   "cell_type": "code",
   "execution_count": 2,
   "metadata": {
    "collapsed": false,
    "scrolled": true
   },
   "outputs": [
    {
     "name": "stdout",
     "output_type": "stream",
     "text": [
      "0   min   0.6267367016044031\n",
      "0   max   0.6267367016044031\n",
      "1   min   0.3444347941437049\n",
      "2   max   0.8827067452615482\n",
      "5   min   0.07634457601000932\n",
      "16   max   0.9568015585028732\n",
      "17   max   0.9855216403918811\n",
      "52   min   0.019729126638491024\n",
      "148   min   0.017460808174107445\n",
      "176   min   0.012014355299632018\n",
      "194   min   0.005154123477133843\n",
      "303   min   0.000855045323762571\n",
      "314   max   0.9912207359952743\n",
      "320   max   0.9976587082956377\n",
      "628   max   0.9993914779929388\n",
      "919   min   0.00025886983742207104\n",
      "1545   max   0.9995902159438697\n",
      "1721   max   0.9998838176498492\n",
      "4868   min   0.0001946745042863407\n",
      "8226   max   0.9999928331807079\n",
      "13906   min   3.070576114028167e-05\n",
      "35306   min   2.1035514758072082e-05\n",
      "50020   max   0.9999947348687019\n",
      "55537   max   0.9999956957678274\n",
      "60935   min   1.2075575532066729e-05\n",
      "144872   min   5.964608192909893e-06\n",
      "319249   max   0.9999977659167647\n",
      "325387   min   4.477704507843683e-06\n",
      "477578   min   6.308776503427538e-07\n",
      "564463   max   0.9999977858197588\n",
      "852313   max   0.9999992553764863\n",
      "1791794   max   0.999999393475262\n",
      "2681858   min   6.235211634786353e-07\n",
      "3146365   min   1.058491582162091e-07\n",
      "3407542   max   0.9999995984566764\n",
      "3833965   max   0.9999997321506675\n",
      "4307743   max   0.9999997962629299\n",
      "8712443   max   0.9999998948468086\n",
      "11453999   min   5.683881221241194e-08\n",
      "22421124   min   4.894321881110386e-08\n",
      "24322902   min   1.7322418721654742e-08\n",
      "27294706   max   0.9999999941529322\n",
      "203649030   min   2.67374855589253e-09\n",
      "277211603   max   0.9999999976361628\n",
      "410696500   max   0.9999999996927429\n",
      "504595350   min   4.357981753244644e-10\n",
      "1887014260   max   0.9999999999161021\n",
      "3694812256   min   4.273960074741012e-10\n",
      "4.273960074741012e-10 0.9999999999161021\n"
     ]
    }
   ],
   "source": [
    "import random\n",
    "mn = 1.0\n",
    "mx = 0.0\n",
    "for k in range( 2<< 31 ):\n",
    "    x = random.random()\n",
    "    if x < mn : \n",
    "        mn = x\n",
    "        print( k, \"  min  \", x )\n",
    "    if x > mx : \n",
    "        mx = x\n",
    "        print( k, \"  max  \", x )\n",
    "print( mn, mx )"
   ]
  },
  {
   "cell_type": "code",
   "execution_count": 4,
   "metadata": {
    "collapsed": false
   },
   "outputs": [
    {
     "name": "stdout",
     "output_type": "stream",
     "text": [
      "-31.148891620982226\n",
      "-33.47257453931929\n"
     ]
    }
   ],
   "source": [
    "import math\n",
    "print( math.log2( 4.2e-10 ))\n",
    "print( math.log2( 1 - 0.9999999999161021 ) )"
   ]
  },
  {
   "cell_type": "code",
   "execution_count": 7,
   "metadata": {
    "collapsed": false
   },
   "outputs": [
    {
     "name": "stdout",
     "output_type": "stream",
     "text": [
      "0 1.0 inf 1.0\n",
      "1 0.1 -0.906193802437 0.1\n",
      "2 0.01 -1.64497635713 0.01\n",
      "3 0.001 -2.18512421913 0.001\n",
      "4 0.0001 -2.62974177621 0.0001\n",
      "5 1e-05 -3.0157332014 1.00000000001e-05\n",
      "6 1.0000000000000002e-06 -3.36117856263 1.00000000003e-06\n",
      "7 1.0000000000000002e-07 -3.67648686204 1.00000000058e-07\n",
      "8 1.0000000000000002e-08 -3.96828413585 1.00000000502e-08\n",
      "9 1.0000000000000003e-09 -4.24109000943 9.99999971718e-10\n",
      "10 1.0000000000000003e-10 -4.49814728054 1.00000008274e-10\n",
      "11 1.0000000000000003e-11 -4.7418744395 1.00000008274e-11\n",
      "12 1.0000000000000002e-12 -4.97413339626 9.9997787828e-13\n",
      "13 1.0000000000000002e-13 -5.19640664163 9.99200722163e-14\n",
      "14 1.0000000000000002e-14 -5.40988370407 9.99200722163e-15\n",
      "15 1e-15 -5.61544924947 9.99200722163e-16\n",
      "16 1.0000000000000001e-16 -5.80501868319 1.11022302463e-16\n",
      "17 1e-17 -inf 0.0\n",
      "18 1e-18 -inf 0.0\n",
      "19 1.0000000000000001e-19 -inf 0.0\n"
     ]
    }
   ],
   "source": [
    "from scipy import special\n",
    "u = 1.0\n",
    "for k in range( 20 ):\n",
    "    d = special.erfinv( 2 * u - 1)\n",
    "    print( k, u, d, 0.5 * ( special.erf( d ) + 1 ) ) \n",
    "    u /= 10"
   ]
  },
  {
   "cell_type": "code",
   "execution_count": 11,
   "metadata": {
    "collapsed": false
   },
   "outputs": [
    {
     "data": {
      "image/png": "[encoded data removed]",
      "text/plain": [
       "<matplotlib.figure.Figure at 0x1084b3320>"
      ]
     },
     "metadata": {},
     "output_type": "display_data"
    }
   ],
   "source": [
    "from GaussPrior import GaussPrior\n",
    "\n",
    "u = ( numpy.arange( 100, dtype=float ) + 0.5 ) / 100 \n",
    "gp = GaussPrior()\n",
    "d = gp.unit2Domain( u )\n",
    "plt.plot( u, d )\n",
    "plt.show()"
   ]
  },
  {
   "cell_type": "code",
   "execution_count": 12,
   "metadata": {
    "collapsed": false
   },
   "outputs": [
    {
     "name": "stdout",
     "output_type": "stream",
     "text": [
      "1.1102230246251565e-16\n"
     ]
    }
   ],
   "source": [
    "x = 1.0 - 0.99999999999999988897769753748434595763683319091796875\n",
    "print( x )\n"
   ]
  },
  {
   "cell_type": "code",
   "execution_count": 9,
   "metadata": {
    "collapsed": false
   },
   "outputs": [
    {
     "name": "stdout",
     "output_type": "stream",
     "text": [
      "60 [2305843009213693952]\n",
      "61 [4611686018427387904]\n"
     ]
    },
    {
     "ename": "OverflowError",
     "evalue": "Python int too large to convert to C long",
     "output_type": "error",
     "traceback": [
      "\u001b[0;31m---------------------------------------------------------------------------\u001b[0m",
      "\u001b[0;31mOverflowError\u001b[0m                             Traceback (most recent call last)",
      "\u001b[0;32m<ipython-input-9-a8b170bd1b3b>\u001b[0m in \u001b[0;36m<module>\u001b[0;34m()\u001b[0m\n\u001b[1;32m      1\u001b[0m \u001b[0;32mfor\u001b[0m \u001b[0mk\u001b[0m \u001b[0;32min\u001b[0m \u001b[0mrange\u001b[0m\u001b[0;34m(\u001b[0m \u001b[0;36m60\u001b[0m\u001b[0;34m,\u001b[0m \u001b[0;36m70\u001b[0m\u001b[0;34m)\u001b[0m \u001b[0;34m:\u001b[0m\u001b[0;34m\u001b[0m\u001b[0m\n\u001b[0;32m----> 2\u001b[0;31m     \u001b[0mprint\u001b[0m\u001b[0;34m(\u001b[0m \u001b[0mk\u001b[0m\u001b[0;34m,\u001b[0m \u001b[0mnumpy\u001b[0m\u001b[0;34m.\u001b[0m\u001b[0masarray\u001b[0m\u001b[0;34m(\u001b[0m \u001b[0;34m[\u001b[0m\u001b[0;36m2\u001b[0m\u001b[0;34m<<\u001b[0m\u001b[0mk\u001b[0m\u001b[0;34m]\u001b[0m\u001b[0;34m,\u001b[0m \u001b[0mdtype\u001b[0m\u001b[0;34m=\u001b[0m\u001b[0mint\u001b[0m\u001b[0;34m)\u001b[0m \u001b[0;34m)\u001b[0m\u001b[0;34m\u001b[0m\u001b[0m\n\u001b[0m",
      "\u001b[0;32m//anaconda/lib/python3.5/site-packages/numpy/core/numeric.py\u001b[0m in \u001b[0;36masarray\u001b[0;34m(a, dtype, order)\u001b[0m\n\u001b[1;32m    480\u001b[0m \u001b[0;34m\u001b[0m\u001b[0m\n\u001b[1;32m    481\u001b[0m     \"\"\"\n\u001b[0;32m--> 482\u001b[0;31m     \u001b[0;32mreturn\u001b[0m \u001b[0marray\u001b[0m\u001b[0;34m(\u001b[0m\u001b[0ma\u001b[0m\u001b[0;34m,\u001b[0m \u001b[0mdtype\u001b[0m\u001b[0;34m,\u001b[0m \u001b[0mcopy\u001b[0m\u001b[0;34m=\u001b[0m\u001b[0;32mFalse\u001b[0m\u001b[0;34m,\u001b[0m \u001b[0morder\u001b[0m\u001b[0;34m=\u001b[0m\u001b[0morder\u001b[0m\u001b[0;34m)\u001b[0m\u001b[0;34m\u001b[0m\u001b[0m\n\u001b[0m\u001b[1;32m    483\u001b[0m \u001b[0;34m\u001b[0m\u001b[0m\n\u001b[1;32m    484\u001b[0m \u001b[0;32mdef\u001b[0m \u001b[0masanyarray\u001b[0m\u001b[0;34m(\u001b[0m\u001b[0ma\u001b[0m\u001b[0;34m,\u001b[0m \u001b[0mdtype\u001b[0m\u001b[0;34m=\u001b[0m\u001b[0;32mNone\u001b[0m\u001b[0;34m,\u001b[0m \u001b[0morder\u001b[0m\u001b[0;34m=\u001b[0m\u001b[0;32mNone\u001b[0m\u001b[0;34m)\u001b[0m\u001b[0;34m:\u001b[0m\u001b[0;34m\u001b[0m\u001b[0m\n",
      "\u001b[0;31mOverflowError\u001b[0m: Python int too large to convert to C long"
     ]
    }
   ],
   "source": [
    "for k in range( 60, 70) :\n",
    "    print( k, numpy.asarray( [2<<k], dtype=int) )"
   ]
  },
  {
   "cell_type": "code",
   "execution_count": 15,
   "metadata": {
    "collapsed": false
   },
   "outputs": [
    {
     "name": "stdout",
     "output_type": "stream",
     "text": [
      "[7418924223626527705 8704617121696857665 9168514901467520824\n",
      " 8783067441094086186 6950919179784439656 1508206865302299780\n",
      " 2669405589871107945 1601285325409868806 5842316230475683264\n",
      " 4958911439680040052]\n"
     ]
    }
   ],
   "source": [
    "print( numpy.random.randint( 0, 2<<62, 10))"
   ]
  },
  {
   "cell_type": "code",
   "execution_count": null,
   "metadata": {
    "collapsed": true
   },
   "outputs": [],
   "source": []
  }
 ],
 "metadata": {
  "anaconda-cloud": {},
  "kernelspec": {
   "display_name": "Python 3",
   "language": "python",
   "name": "python3"
  },
  "language_info": {
   "codemirror_mode": {
    "name": "ipython",
    "version": 3
   },
   "file_extension": ".py",
   "mimetype": "text/x-python",
   "name": "python",
   "nbconvert_exporter": "python",
   "pygments_lexer": "ipython3",
   "version": "3.5.2"
  }
 },
 "nbformat": 4,
 "nbformat_minor": 1
}
