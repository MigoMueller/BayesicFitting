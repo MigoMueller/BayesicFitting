{
 "cells": [
  {
   "cell_type": "markdown",
   "metadata": {},
   "source": [
    "## Purpose: simple fit example\n",
    "\n",
    "Artificial data.\n",
    "\n",
    "Demonstration: \n",
    "    1. Linear Model\n",
    "    2. Parameter fit\n",
    "    3. Autoscaling, Chisq, Standard deviations\n",
    "    4. Confidence region for the fit\n",
    "\n",
    "Author: Do Kester\n"
   ]
  },
  {
   "cell_type": "markdown",
   "metadata": {},
   "source": [
    "import classes"
   ]
  },
  {
   "cell_type": "code",
   "execution_count": 1,
   "metadata": {},
   "outputs": [],
   "source": [
    "import numpy as numpy\n",
    "import math\n",
    "\n",
    "from BayesicFitting import PolynomialModel\n",
    "\n",
    "from BayesicFitting import NestedSampler\n",
    "from BayesicFitting import GaussPrior\n",
    "from BayesicFitting import UniformPrior\n",
    "from BayesicFitting import Tools\n",
    "from BayesicFitting import formatter as fmt\n",
    "from BayesicFitting import plotFit\n",
    "import matplotlib.pyplot as plt\n",
    "\n",
    "%matplotlib osx"
   ]
  },
  {
   "cell_type": "markdown",
   "metadata": {},
   "source": [
    "define some constants"
   ]
  },
  {
   "cell_type": "code",
   "execution_count": 22,
   "metadata": {},
   "outputs": [],
   "source": [
    "# define some constants\n",
    "N = 41\n",
    "b0 = 1.0            # offset of background\n",
    "b1 = 0.8            # slope of background\n",
    "\n",
    "sig = 0.5"
   ]
  },
  {
   "cell_type": "markdown",
   "metadata": {},
   "source": [
    "Make a 1st-degree polynomial"
   ]
  },
  {
   "cell_type": "code",
   "execution_count": 23,
   "metadata": {},
   "outputs": [],
   "source": [
    "xm = numpy.linspace( -2.0, 5.0, N, dtype=float )\n",
    "ym = b0 + b1 * xm\n",
    "\n",
    "numpy.random.seed( 1308 )\n",
    "y = ym + sig * numpy.random.randn( N )\n",
    "x = xm + sig * numpy.random.randn( N )\n",
    "\n",
    "#x = numpy.array( [0,1,9,10], dtype=float )\n",
    "#y = numpy.array( [1,0,10,9], dtype=float )"
   ]
  },
  {
   "cell_type": "markdown",
   "metadata": {},
   "source": [
    "Define the model"
   ]
  },
  {
   "cell_type": "code",
   "execution_count": 24,
   "metadata": {},
   "outputs": [],
   "source": [
    "mdl = PolynomialModel( 1 )\n",
    "mdl.setLimits( -10, 10 )\n",
    "#Tools.printclass( mdl )\n",
    "#problem = ErrorsInXandYProblem( mdl, x, y )"
   ]
  },
  {
   "cell_type": "markdown",
   "metadata": {},
   "source": [
    "define the fitter: Fitter"
   ]
  },
  {
   "cell_type": "code",
   "execution_count": 25,
   "metadata": {},
   "outputs": [
    {
     "name": "stdout",
     "output_type": "stream",
     "text": [
      "+++++++++++++++++++++++++++++++++++++++++++++++++++++++\n",
      "ErrorsInXandYProblem of Polynomial: f( x:p ) = p_0 + p_1 * x\n",
      "+++++++++++++++++++++++++++++++++++++++++++++++++++++++\n",
      "model           Polynomial\n",
      "npars           43\n",
      "partype         <class 'float'>\n",
      "prior           UniformPrior between -3.00 and 6.00\n",
      "weights         None\n",
      "xdata           [-1.9526991144027745  -1.9398326494773452  -1.451523799649207  -1.8274123006311567  -0.9232257149396252  -0.3988229374951342  -1.0176911006067222  -0.6766300939007278  ... ]\n",
      "ydata           [-0.34598348707010523  -0.7330838928693021  -0.32216656170945357  0.2213686911559587  0.8249425186623645  0.6970532437195744  0.14986505770547942  -0.25498753633429716  ... ]\n",
      "+++++++++++++++++++++++++++++++++++++++++++++++++++++++\n",
      "Gauss error distribution\n",
      "+++++++++++++++++++++++++++++++++++++++++++++++++++++++\n",
      "deltaP          1e-06\n",
      "fixed           None\n",
      "hyperpar        [Noise scale. value = 1.000000  ]\n",
      "ncalls          0\n",
      "nparts          0\n",
      "Fit all parameters of\n",
      "  Polynomial: f( x:p ) = p_0 + p_1 * x\n",
      "Using a Gauss error distribution with with unknown scale\n",
      "Moving the walkers with   GalileanEngine  GibbsEngine\n",
      "Using no threads.\n",
      "Iteration   logZ        H     LowL     npar    parameters\n",
      "       0 -1280148.1      4.6 -1280143.5     44  [    1.624   -7.158    4.042    3.327    4.651 ...]\n",
      "     100 -22998.0      5.6 -22992.4     44  [   -1.181    1.286    3.135    5.731   -2.202 ...]\n",
      "     200  -6932.0      6.6  -6925.3     44  [   -7.926    1.793   -2.880   -2.597    3.204 ...]\n",
      "     300  -3039.6      7.6  -3032.0     44  [   -0.109   -2.738    4.745    1.789   -0.287 ...]\n",
      "     400  -1883.6      8.5  -1875.0     44  [   -1.501    2.063    4.352   -0.688    4.982 ...]\n",
      "     500  -1156.3      9.1  -1146.9     44  [    3.967   -0.669    1.766    3.142    5.525 ...]\n",
      "     600   -770.1     10.4   -759.6     44  [    1.136    0.508   -0.214    5.107   -2.311 ...]\n",
      "     700   -561.1     10.1   -550.3     44  [    1.549   -0.529    4.909    0.254   -2.664 ...]\n",
      "     800   -460.6     11.3   -448.6     44  [    1.907   -0.093    3.164    1.343    3.243 ...]\n",
      "     900   -400.9     11.8   -388.4     44  [    1.553   -0.388    5.577    0.972   -0.737 ...]\n",
      "    1000   -356.9     11.9   -344.3     44  [    0.135    0.460   -0.180    5.801    1.271 ...]\n",
      "    1100   -331.8     13.5   -317.3     44  [    3.108   -0.155    2.574    3.616    4.654 ...]\n",
      "    1200   -310.3     13.7   -296.0     44  [    1.256    0.297   -1.294    4.840    4.688 ...]\n",
      "    1300   -290.0     15.1   -273.9     44  [    3.354    0.012   -0.060   -2.899   -2.253 ...]\n",
      "    1400   -272.6     15.8   -255.6     44  [    1.807    0.271   -1.306   -1.901    0.585 ...]\n",
      "    1500   -260.1     16.6   -242.8     44  [    1.857    0.091   -2.056   -0.294    0.974 ...]\n",
      "    1600   -247.6     17.5   -228.8     44  [    1.790    0.205   -0.565   -0.126   -1.343 ...]\n",
      "    1700   -237.2     17.9   -218.4     44  [    1.114    0.387   -1.215    0.041   -1.470 ...]\n",
      "    1800   -228.1     19.0   -208.2     44  [    1.801    0.783    3.387   -2.916   -2.538 ...]\n",
      "    1900   -217.6     20.1   -196.6     44  [    2.564    0.242   -2.886   -0.187   -2.592 ...]\n",
      "    2000   -209.5     20.9   -187.5     44  [    2.836    0.270    0.705   -0.303   -0.920 ...]\n",
      "    2100   -202.3     22.0   -179.3     44  [    2.697    0.280   -2.973   -1.471   -1.867 ...]\n",
      "    2200   -195.1     22.8   -171.1     44  [    1.411    0.444   -1.602   -1.953   -1.161 ...]\n",
      "    2300   -188.7     23.5   -164.3     44  [    1.698    0.479    2.179    0.378   -2.455 ...]\n",
      "    2400   -182.7     24.8   -156.8     44  [    1.365    0.253   -2.804   -0.053   -0.936 ...]\n",
      "    2500   -177.5     25.5   -150.7     44  [    0.718    0.553   -2.865   -0.529   -1.287 ...]\n",
      "    2600   -171.9     26.4   -144.6     44  [    0.898    0.611   -1.151   -2.142   -1.238 ...]\n",
      "    2700   -168.1     27.1   -139.9     44  [    1.716    0.741    0.011   -2.841   -0.342 ...]\n",
      "    2800   -164.4     28.3   -134.7     44  [    1.855    0.802   -0.342   -2.153   -2.510 ...]\n",
      "    2900   -159.3     29.3   -129.0     44  [    0.793    0.874    2.053   -2.707   -1.453 ...]\n",
      "    3000   -155.3     30.1   -123.9     44  [    0.892    0.600   -0.114    0.651    1.674 ...]\n",
      "    3100   -151.7     30.9   -119.5     44  [    0.999    0.689   -2.893   -1.313   -0.462 ...]\n",
      "    3200   -148.1     31.9   -115.0     44  [    1.375    0.440   -1.068   -1.616   -2.975 ...]\n",
      "    3300   -145.6     32.5   -111.7     44  [    0.588    1.059    0.633    1.028   -0.089 ...]\n",
      "    3400   -143.2     33.5   -108.4     44  [    1.175    0.437   -1.211    0.298   -2.353 ...]\n",
      "    3500   -140.6     34.5   -104.9     44  [    0.749    0.612   -2.575   -1.164    0.389 ...]\n",
      "    3600   -138.1     35.5   -101.4     44  [    1.200    0.531   -1.139   -2.716   -1.601 ...]\n",
      "    3700   -136.2     36.2    -98.6     44  [    1.780    0.486   -1.743   -0.909   -2.861 ...]\n",
      "    3800   -134.4     37.1    -96.0     44  [    1.382    0.737   -2.241   -1.978   -1.064 ...]\n",
      "    3900   -132.5     38.1    -92.8     44  [    1.389    0.463   -2.918   -0.079   -1.560 ...]\n",
      "    4000   -131.0     38.9    -90.4     44  [    0.347    0.909   -0.711   -1.521   -0.208 ...]\n",
      "    4100   -129.4     39.8    -88.1     44  [    1.428    0.521   -2.985   -1.527   -0.673 ...]\n",
      "    4200   -128.0     40.8    -85.5     44  [    0.858    0.488   -0.753   -2.261    0.070 ...]\n",
      "    4300   -126.6     41.6    -83.5     44  [    1.456    0.470   -0.842   -2.311    0.956 ...]\n",
      "    4400   -125.6     42.2    -81.5     44  [    0.940    0.644   -1.774   -2.416   -1.717 ...]\n",
      "    4500   -124.5     43.3    -79.2     44  [    1.658    0.534   -0.410   -2.274   -1.610 ...]\n",
      "    4600   -123.4     44.1    -77.4     44  [    0.731    0.795   -2.245   -1.183   -1.373 ...]\n",
      "    4700   -122.4     45.1    -75.4     44  [    0.880    0.790   -2.884   -1.688   -0.549 ...]\n",
      "    4800   -121.2     46.3    -73.2     44  [    0.880    0.790   -1.415   -0.845   -0.393 ...]\n",
      "    4900   -120.3     47.0    -71.6     44  [    1.081    0.549   -2.216   -2.787   -1.417 ...]\n",
      "    5000   -119.6     47.5    -70.2     44  [    1.410    0.519   -2.810   -2.111    0.378 ...]\n",
      "    5100   -119.1     48.0    -69.0     44  [    1.210    0.702   -0.898   -2.205   -2.450 ...]\n",
      "    5200   -118.7     48.6    -67.7     44  [    0.582    0.747   -1.490   -1.349   -2.783 ...]\n",
      "    5300   -118.4     49.2    -66.4     44  [    1.036    0.693   -2.716   -2.404   -0.207 ...]\n",
      "    5400   -118.0     49.9    -65.1     44  [    1.309    0.609   -2.144   -2.225   -1.728 ...]\n",
      "    5500   -117.7     50.5    -64.0     44  [    1.501    0.579   -2.437   -1.952   -2.320 ...]\n",
      "    5600   -117.5     51.1    -62.9     44  [    1.129    0.582   -1.210   -1.946   -2.183 ...]\n",
      "    5700   -117.2     51.7    -61.8     44  [    0.849    0.727   -2.805   -1.732   -1.183 ...]\n",
      "    5800   -117.0     52.3    -60.6     44  [    1.169    0.728   -1.528   -1.177   -0.875 ...]\n",
      "    5900   -116.8     52.9    -59.7     44  [    1.472    0.621   -1.537   -0.345   -2.321 ...]\n",
      "    6000   -116.7     53.4    -58.7     44  [    1.168    0.687   -2.217   -1.961   -1.811 ...]\n",
      "    6100   -116.6     53.8    -57.9     44  [    1.013    0.722   -0.441   -1.723   -1.960 ...]\n",
      "    6200   -116.5     54.2    -57.0     44  [    1.193    0.736   -1.295   -1.874   -2.377 ...]\n",
      "    6300   -116.4     54.5    -56.1     44  [    1.187    0.675   -1.577   -1.730   -2.714 ...]\n",
      "    6400   -116.4     54.8    -55.2     44  [    1.278    0.674   -2.858   -1.812   -2.507 ...]\n",
      "    6500   -116.3     55.1    -54.4     44  [    1.133    0.664   -1.782   -2.839   -1.828 ...]\n",
      "    6600   -116.3     55.4    -53.5     44  [    0.762    0.711   -0.886   -2.396   -2.023 ...]\n",
      "    6700   -116.2     55.6    -52.8     44  [    1.258    0.658   -2.889   -1.279   -1.257 ...]\n",
      "    6800   -116.2     55.8    -52.1     44  [    1.326    0.646   -2.235   -2.421   -1.628 ...]\n",
      "    6900   -116.2     55.9    -51.4     44  [    1.142    0.671   -1.417   -1.676   -0.959 ...]\n",
      "    7000   -116.2     56.0    -50.7     44  [    0.888    0.692   -0.932   -2.062   -1.110 ...]\n",
      "    7100   -116.2     56.1    -50.1     44  [    1.300    0.640   -2.876   -1.764   -1.732 ...]\n",
      "    7200   -116.2     56.2    -49.3     44  [    0.905    0.745   -2.048   -2.159   -1.943 ...]\n"
     ]
    },
    {
     "name": "stdout",
     "output_type": "stream",
     "text": [
      "    7300   -116.2     56.2    -48.5     44  [    1.022    0.726   -2.180   -2.642   -2.747 ...]\n",
      "    7400   -116.1     56.3    -47.8     44  [    0.829    0.711   -1.681   -2.585   -2.253 ...]\n",
      "    7500   -116.1     56.3    -47.1     44  [    1.323    0.679   -2.264   -1.181   -2.389 ...]\n",
      "    7600   -116.1     56.3    -46.5     44  [    0.805    0.726   -1.938   -2.966   -1.427 ...]\n",
      "    7700   -116.1     56.3    -45.8     44  [    1.031    0.716   -2.120   -2.126   -1.142 ...]\n",
      "    7800   -116.1     56.4    -45.2     44  [    1.009    0.751   -1.775   -1.636   -1.508 ...]\n",
      "    7900   -116.1     56.4    -44.5     44  [    1.076    0.710   -2.555   -2.746   -1.710 ...]\n",
      "    8000   -116.1     56.4    -43.9     44  [    1.158    0.696   -2.243   -2.504   -1.715 ...]\n",
      "    8100   -116.1     56.4    -43.4     44  [    1.190    0.747   -1.681   -2.621   -2.771 ...]\n",
      "    8200   -116.1     56.4    -42.9     44  [    0.935    0.630   -2.018   -2.245   -2.091 ...]\n",
      "    8300   -116.1     56.4    -42.4     44  [    1.150    0.717   -2.603   -2.040   -1.176 ...]\n",
      "    8400   -116.1     56.4    -41.8     44  [    1.121    0.675   -2.172   -1.121   -1.464 ...]\n",
      "    8500   -116.1     56.4    -41.1     44  [    1.110    0.717   -1.752   -1.994   -1.121 ...]\n",
      "    8600   -116.1     56.4    -40.4     44  [    0.926    0.766   -1.409   -1.883   -1.657 ...]\n",
      "    8700   -116.1     56.4    -39.8     44  [    1.055    0.749   -1.253   -2.367   -1.989 ...]\n",
      "    8800   -116.1     56.4    -39.2     44  [    1.315    0.664   -1.314   -2.196   -1.011 ...]\n",
      "    8900   -116.1     56.4    -38.6     44  [    0.918    0.722   -2.336   -2.114   -1.135 ...]\n",
      "    9000   -116.1     56.4    -38.1     44  [    0.868    0.758   -1.458   -1.959   -1.290 ...]\n",
      "    9100   -116.1     56.4    -37.7     44  [    0.989    0.655   -1.974   -1.995   -1.702 ...]\n",
      "    9200   -116.1     56.4    -37.2     44  [    0.995    0.719   -1.841   -2.244   -1.338 ...]\n",
      "    9300   -116.1     56.4    -36.6     44  [    0.868    0.750   -1.709   -2.138   -0.937 ...]\n",
      "    9400   -116.1     56.4    -36.2     44  [    0.873    0.775   -1.854   -1.372   -0.915 ...]\n",
      "    9500   -116.1     56.4    -35.6     44  [    1.007    0.746   -2.096   -2.220   -1.170 ...]\n",
      "    9600   -116.1     56.4    -35.1     44  [    1.083    0.695   -2.129   -1.477   -1.905 ...]\n",
      "    9700   -116.1     56.4    -34.7     44  [    1.137    0.732   -2.021   -2.431   -1.500 ...]\n",
      "    9800   -116.1     56.4    -34.3     44  [    1.057    0.746   -2.158   -1.575   -1.142 ...]\n",
      "    9900   -116.1     56.4    -33.9     44  [    0.954    0.719   -1.857   -2.142   -1.797 ...]\n",
      "   10000   -116.1     56.4    -33.6     44  [    0.966    0.746   -1.837   -1.914   -1.065 ...]\n",
      "   10100   -116.1     56.4    -33.2     44  [    1.003    0.726   -1.391   -1.904   -1.536 ...]\n",
      "   10200   -116.1     56.4    -32.8     44  [    1.072    0.708   -2.133   -2.532   -1.768 ...]\n",
      "   10300   -116.1     56.4    -32.5     44  [    1.102    0.682   -1.828   -1.862   -1.547 ...]\n",
      "   10400   -116.1     56.4    -32.1     44  [    0.895    0.752   -1.722   -1.519   -1.731 ...]\n",
      "   10500   -116.1     56.4    -31.7     44  [    1.138    0.723   -1.724   -2.025   -1.907 ...]\n",
      "   10600   -116.1     56.4    -31.4     44  [    1.043    0.714   -1.846   -2.146   -1.889 ...]\n",
      "   10700   -116.1     56.4    -31.1     44  [    1.081    0.684   -1.615   -1.887   -1.695 ...]\n",
      "   10800   -116.1     56.4    -30.8     44  [    1.000    0.708   -1.846   -2.010   -1.661 ...]\n",
      "   10900   -116.1     56.4    -30.5     44  [    1.040    0.728   -1.473   -2.130   -1.664 ...]\n",
      "   11000   -116.1     56.4    -30.2     44  [    1.076    0.710   -1.862   -2.101   -1.531 ...]\n",
      "   11100   -116.1     56.4    -30.0     44  [    0.925    0.749   -2.005   -2.273   -1.355 ...]\n",
      "   11200   -116.1     56.4    -29.8     44  [    0.992    0.695   -2.041   -2.367   -1.681 ...]\n",
      "   11300   -116.1     56.4    -29.5     44  [    1.074    0.714   -2.185   -2.193   -1.296 ...]\n",
      "   11400   -116.1     56.4    -29.2     44  [    1.089    0.687   -2.108   -2.098   -1.521 ...]\n",
      "   11500   -116.1     56.4    -28.9     44  [    1.059    0.703   -1.563   -2.030   -1.530 ...]\n",
      "   11600   -116.1     56.4    -28.6     44  [    0.952    0.759   -1.865   -1.923   -1.008 ...]\n",
      "   11700   -116.1     56.4    -28.3     44  [    1.047    0.759   -2.001   -1.706   -1.580 ...]\n",
      "   11800   -116.1     56.4    -28.0     44  [    1.072    0.687   -1.876   -1.955   -1.477 ...]\n",
      "   11900   -116.1     56.4    -27.7     44  [    0.976    0.742   -2.082   -2.242   -1.871 ...]\n",
      "   12000   -116.1     56.4    -27.5     44  [    0.980    0.731   -1.868   -2.302   -1.744 ...]\n",
      "   12100   -116.1     56.4    -27.2     44  [    1.071    0.730   -2.158   -2.166   -1.744 ...]\n",
      "   12200   -116.1     56.4    -27.0     44  [    1.041    0.708   -2.187   -2.440   -1.531 ...]\n",
      "   12300   -116.1     56.4    -26.9     44  [    1.036    0.724   -1.718   -2.023   -1.647 ...]\n",
      "   12400   -116.1     56.4    -26.7     44  [    1.013    0.714   -1.763   -2.062   -1.674 ...]\n",
      "   12500   -116.1     56.4    -26.4     44  [    1.110    0.697   -1.960   -2.161   -2.047 ...]\n",
      "   12600   -116.1     56.4    -26.3     44  [    1.016    0.726   -1.860   -2.131   -1.496 ...]\n",
      "   12700   -116.1     56.4    -26.1     44  [    0.999    0.714   -1.836   -2.023   -1.561 ...]\n",
      "   12800   -116.1     56.4    -26.0     44  [    0.988    0.746   -1.920   -2.274   -1.599 ...]\n",
      "   12900   -116.1     56.4    -25.8     44  [    0.875    0.762   -2.014   -1.924   -1.426 ...]\n",
      "   13000   -116.1     56.4    -25.6     44  [    0.955    0.753   -1.832   -2.146   -1.460 ...]\n",
      "   13100   -116.1     56.4    -25.4     44  [    0.912    0.751   -1.883   -2.447   -1.584 ...]\n",
      "   13200   -116.1     56.4    -25.2     44  [    1.075    0.678   -1.756   -2.131   -1.514 ...]\n",
      "   13300   -116.1     56.4    -25.1     44  [    0.964    0.734   -1.902   -1.901   -1.528 ...]\n",
      "   13400   -116.1     56.4    -25.0     44  [    1.036    0.713   -1.998   -2.144   -1.490 ...]\n",
      "   13500   -116.1     56.4    -24.8     44  [    0.916    0.765   -1.750   -2.030   -1.320 ...]\n",
      "   13600   -116.1     56.4    -24.7     44  [    1.007    0.719   -1.912   -2.154   -1.686 ...]\n",
      "   13700   -116.1     56.4    -24.5     44  [    0.970    0.754   -2.229   -2.031   -1.427 ...]\n",
      "   13800   -116.1     56.4    -24.4     44  [    0.939    0.742   -2.002   -2.041   -1.357 ...]\n",
      "   13900   -116.1     56.4    -24.3     44  [    1.002    0.726   -1.766   -2.116   -1.469 ...]\n",
      "   14000   -116.1     56.4    -24.2     44  [    0.969    0.751   -1.862   -2.018   -1.639 ...]\n",
      "   14100   -116.1     56.4    -24.1     44  [    0.980    0.746   -1.943   -1.966   -1.555 ...]\n",
      "   14200   -116.1     56.4    -24.0     44  [    0.971    0.756   -1.874   -2.145   -1.650 ...]\n",
      "   14300   -116.1     56.4    -23.9     44  [    0.978    0.734   -1.972   -2.054   -1.749 ...]\n",
      "   14400   -116.1     56.4    -23.8     44  [    0.971    0.756   -1.874   -1.965   -1.650 ...]\n",
      "   14500   -116.1     56.4    -23.7     44  [    1.035    0.715   -2.075   -2.422   -1.526 ...]\n",
      "   14600   -116.1     56.4    -23.6     44  [    1.010    0.726   -2.005   -1.983   -1.457 ...]\n",
      "   14700   -116.1     56.4    -23.5     44  [    0.986    0.730   -1.993   -2.197   -1.382 ...]\n",
      "   14800   -116.1     56.4    -23.4     44  [    1.005    0.725   -1.864   -1.930   -1.390 ...]\n",
      "   14900   -116.1     56.4    -23.3     44  [    0.985    0.746   -1.940   -2.197   -1.509 ...]\n",
      "   15000   -116.1     56.4    -23.2     44  [    0.967    0.729   -2.171   -1.997   -1.429 ...]\n",
      "   15100   -116.1     56.4    -23.2     44  [    0.992    0.734   -1.886   -2.149   -1.821 ...]\n",
      "   15200   -116.1     56.4    -23.1     44  [    1.017    0.728   -1.979   -2.221   -1.578 ...]\n",
      "   15300   -116.1     56.4    -23.0     44  [    1.037    0.726   -1.934   -2.077   -1.673 ...]\n",
      "   15400   -116.1     56.4    -23.0     44  [    0.977    0.732   -1.783   -1.978   -1.450 ...]\n",
      "   15500   -116.1     56.4    -22.9     44  [    0.987    0.745   -2.003   -1.953   -1.521 ...]\n",
      "   15600   -116.1     56.4    -22.9     44  [    1.007    0.730   -1.841   -2.157   -1.554 ...]\n",
      "   15700   -116.1     56.4    -22.8     44  [    1.038    0.736   -1.973   -2.103   -1.700 ...]\n",
      "   15800   -116.1     56.4    -22.7     44  [    0.974    0.738   -2.024   -2.049   -1.566 ...]\n"
     ]
    },
    {
     "name": "stdout",
     "output_type": "stream",
     "text": [
      "   15900   -116.1     56.4    -22.7     44  [    1.024    0.734   -2.026   -1.918   -1.591 ...]\n",
      "   16000   -116.1     56.4    -22.6     44  [    1.044    0.733   -1.865   -2.165   -1.612 ...]\n",
      "   16100   -116.1     56.4    -22.6     44  [    0.971    0.739   -1.967   -2.072   -1.512 ...]\n",
      "   16200   -116.1     56.4    -22.5     44  [    0.995    0.745   -1.861   -1.991   -1.438 ...]\n",
      "   16300   -116.1     56.4    -22.5     44  [    0.947    0.732   -1.768   -2.001   -1.522 ...]\n",
      "   16400   -116.1     56.4    -22.4     44  [    1.003    0.728   -1.990   -2.153   -1.598 ...]\n",
      "   16500   -116.1     56.4    -22.4     44  [    0.966    0.748   -1.951   -2.014   -1.495 ...]\n",
      "   16600   -116.1     56.4    -22.4     44  [    1.001    0.738   -1.922   -1.975   -1.664 ...]\n",
      "   16700   -116.1     56.4    -22.3     44  [    0.922    0.739   -1.973   -1.975   -1.546 ...]\n",
      "   16800   -116.1     56.4    -22.3     44  [    0.982    0.739   -1.816   -2.206   -1.629 ...]\n",
      "   16900   -116.1     56.4    -22.3     44  [    0.988    0.740   -1.885   -2.013   -1.548 ...]\n",
      "   17000   -116.1     56.4    -22.2     44  [    1.032    0.727   -1.986   -2.108   -1.621 ...]\n",
      "   17100   -116.1     56.4    -22.2     44  [    0.950    0.737   -1.792   -2.124   -1.659 ...]\n",
      "   17200   -116.1     56.4    -22.2     44  [    0.952    0.738   -1.845   -2.186   -1.513 ...]\n",
      "   17300   -116.1     56.4    -22.1     44  [    0.981    0.743   -1.878   -2.045   -1.596 ...]\n",
      "   17400   -116.1     56.4    -22.1     44  [    0.980    0.737   -1.934   -1.985   -1.624 ...]\n",
      "   17500   -116.1     56.4    -22.1     44  [    0.997    0.742   -1.871   -2.083   -1.544 ...]\n",
      "   17600   -116.1     56.4    -22.0     44  [    0.972    0.739   -1.847   -1.986   -1.550 ...]\n",
      "   17700   -116.1     56.4    -22.0     44  [    0.957    0.747   -1.966   -1.992   -1.504 ...]\n",
      "   17800   -116.1     56.4    -22.0     44  [    0.973    0.735   -1.938   -1.983   -1.510 ...]\n",
      "   17900   -116.1     56.4    -22.0     44  [    0.978    0.732   -1.870   -2.143   -1.608 ...]\n",
      "   18000   -116.1     56.4    -22.0     44  [    0.998    0.731   -1.846   -2.094   -1.537 ...]\n",
      "   18100   -116.1     56.4    -21.9     44  [    1.000    0.740   -1.879   -1.992   -1.589 ...]\n",
      "   18200   -116.1     56.4    -21.9     44  [    0.973    0.737   -1.913   -2.139   -1.551 ...]\n",
      "   18300   -116.1     56.4    -21.9     44  [    0.995    0.734   -1.993   -2.076   -1.480 ...]\n",
      "   18400   -116.1     56.4    -21.9     44  [    0.966    0.745   -1.887   -2.031   -1.603 ...]\n",
      "   18500   -116.1     56.4    -21.9     44  [    0.993    0.735   -1.953   -2.096   -1.479 ...]\n",
      "   18600   -116.1     56.4    -21.8     44  [    0.981    0.746   -1.940   -2.026   -1.562 ...]\n",
      "   18700   -116.1     56.4    -21.8     44  [    0.980    0.733   -1.910   -2.084   -1.485 ...]\n",
      "   18800   -116.1     56.4    -21.8     44  [    0.983    0.740   -1.957   -2.094   -1.613 ...]\n",
      "   18900   -116.1     56.4    -21.8     44  [    0.988    0.730   -1.844   -2.083   -1.515 ...]\n",
      "   19000   -116.1     56.4    -21.8     44  [    0.996    0.740   -1.859   -2.112   -1.550 ...]\n",
      "   19100   -116.1     56.4    -21.8     44  [    0.980    0.740   -1.873   -2.062   -1.540 ...]\n",
      "   19200   -116.1     56.4    -21.8     44  [    0.991    0.742   -1.909   -1.997   -1.573 ...]\n",
      "   19300   -116.1     56.4    -21.7     44  [    0.977    0.740   -1.855   -2.070   -1.531 ...]\n",
      "   19400   -116.1     56.4    -21.7     44  [    0.980    0.738   -1.878   -2.101   -1.625 ...]\n",
      "   19500   -116.1     56.4    -21.7     44  [    0.979    0.737   -1.876   -2.051   -1.593 ...]\n",
      "   19600   -116.1     56.4    -21.7     44  [    0.983    0.744   -1.915   -2.049   -1.610 ...]\n",
      "   19700   -116.1     56.4    -21.7     44  [    0.977    0.737   -1.882   -2.075   -1.559 ...]\n",
      "   19800   -116.1     56.4    -21.7     44  [    1.000    0.732   -1.885   -2.084   -1.585 ...]\n",
      "   19900   -116.1     56.4    -21.7     44  [    0.975    0.738   -1.867   -2.107   -1.532 ...]\n",
      "   20000   -116.1     56.4    -21.7     44  [    0.998    0.732   -1.975   -2.113   -1.574 ...]\n",
      "   20100   -116.1     56.4    -21.7     44  [    0.987    0.737   -1.926   -2.067   -1.499 ...]\n",
      "   20200   -116.1     56.4    -21.7     44  [    0.980    0.740   -1.867   -2.092   -1.547 ...]\n",
      "   20300   -116.1     56.4    -21.6     44  [    0.990    0.734   -1.884   -2.119   -1.594 ...]\n",
      "   20400   -116.1     56.4    -21.6     44  [    0.997    0.734   -1.966   -2.072   -1.588 ...]\n",
      "   20500   -116.1     56.4    -21.6     44  [    0.997    0.733   -1.912   -2.056   -1.561 ...]\n",
      "   20600   -116.1     56.4    -21.6     44  [    0.980    0.739   -1.886   -2.029   -1.574 ...]\n",
      "   20700   -116.1     56.4    -21.6     44  [    0.993    0.739   -1.903   -2.125   -1.582 ...]\n",
      "   20800   -116.1     56.4    -21.6     44  [    0.994    0.734   -1.949   -2.127   -1.547 ...]\n",
      "   20900   -116.1     56.4    -21.6     44  [    0.986    0.738   -1.929   -2.088   -1.587 ...]\n",
      "   21000   -116.1     56.4    -21.6     44  [    0.987    0.735   -1.895   -2.118   -1.570 ...]\n",
      "   21100   -116.1     56.4    -21.6     44  [    0.990    0.741   -1.934   -2.059   -1.561 ...]\n",
      "   21200   -116.1     56.4    -21.6     44  [    0.991    0.734   -1.909   -2.090   -1.587 ...]\n",
      "   21300   -116.1     56.4    -21.6     44  [    0.994    0.735   -1.930   -2.110   -1.585 ...]\n",
      "   21400   -116.1     56.4    -21.6     44  [    0.975    0.740   -1.910   -2.046   -1.553 ...]\n",
      "   21500   -116.1     56.4    -21.6     44  [    0.982    0.739   -1.880   -2.109   -1.579 ...]\n",
      "   21600   -116.1     56.4    -21.6     44  [    0.987    0.739   -1.911   -2.100   -1.558 ...]\n",
      "   21700   -116.1     56.4    -21.6     44  [    0.997    0.736   -1.914   -2.094   -1.577 ...]\n",
      "   21800   -116.1     56.4    -21.6     44  [    0.997    0.737   -1.917   -2.110   -1.555 ...]\n",
      "   21900   -116.1     56.4    -21.6     44  [    1.002    0.734   -1.932   -2.112   -1.528 ...]\n",
      "   22000   -116.1     56.4    -21.6     44  [    0.990    0.737   -1.906   -2.118   -1.558 ...]\n",
      "   22100   -116.1     56.4    -21.6     44  [    0.977    0.742   -1.927   -2.079   -1.575 ...]\n",
      "   22200   -116.1     56.4    -21.5     44  [    0.989    0.737   -1.876   -2.112   -1.555 ...]\n",
      "   22300   -116.1     56.4    -21.5     44  [    0.981    0.740   -1.887   -2.036   -1.547 ...]\n",
      "   22400   -116.1     56.4    -21.5     44  [    0.993    0.736   -1.892   -2.056   -1.570 ...]\n",
      "   22500   -116.1     56.4    -21.5     44  [    0.985    0.736   -1.909   -2.114   -1.592 ...]\n",
      "Engines              success     reject     failed       best        calls\n",
      "GalileanEngine        123732      58345     120271         76          0\n",
      "GibbsEngine           533133    2514517     459243        229          0\n",
      "Calls to LogL        3809241   to dLogL      58344\n",
      "Samples       22654\n",
      "Evidence       -50.439 +-      0.326\n"
     ]
    },
    {
     "data": {
      "image/png": "[encoded data removed]",
      "text/plain": [
       "<matplotlib.figure.Figure at 0x10a548f28>"
      ]
     },
     "metadata": {},
     "output_type": "display_data"
    }
   ],
   "source": [
    "ns = NestedSampler( x, mdl, y, problem=\"errors\", verbose=2, limits=[0.1,1] )\n",
    "ns.problem.prior = UniformPrior( limits=[-1.0,1.0] )\n",
    "\n",
    "#Tools.printclass( ns.problem )\n",
    "#Tools.printclass( ns.distribution )\n",
    "ns.end = 4.0\n",
    "ns.verbose = 2\n",
    "\n",
    "# find the parameters\n",
    "#keep = {0:0, 1:1, 3:0.5, 4:9.5, 5:9.5}\n",
    "evid = ns.sample( plot=True )\n",
    "\n",
    "  "
   ]
  },
  {
   "cell_type": "code",
   "execution_count": 29,
   "metadata": {
    "scrolled": true
   },
   "outputs": [
    {
     "name": "stdout",
     "output_type": "stream",
     "text": [
      "Parameters : [    1.126    0.663]\n",
      "StDevs     : [    0.229    0.078]\n",
      "xdata      : [   -1.953   -1.940   -1.452   -1.827   -0.923   -0.399   -1.018   -0.677   -0.680   -0.118 ...]\n",
      "Nuisance   : [   -1.733   -1.926   -1.551   -1.596   -0.724   -0.380   -1.152   -1.011   -0.971   -0.392 ...]\n",
      "StdevNuis  : [    0.675    0.623    0.713    0.754    0.740    0.927    0.751    0.704    0.720    0.764 ...]\n",
      "Scale      :     0.921\n"
     ]
    }
   ],
   "source": [
    "print( \"Parameters :\", fmt( ns.parameters, max=None ) )\n",
    "print( \"StDevs     :\", fmt( ns.stdevs, max=10 ) )\n",
    "xopt = ns.samples.nuisance\n",
    "print( \"xdata      :\", fmt( x, max=10))\n",
    "print( \"Nuisance   :\", fmt( xopt, max=10 ) )\n",
    "print( \"StdevNuis  :\", fmt( ns.samples.stdevNuis, max=10 ))\n",
    "print( \"Scale      :\", fmt( ns.scale ) )\n"
   ]
  },
  {
   "cell_type": "code",
   "execution_count": 27,
   "metadata": {},
   "outputs": [
    {
     "data": {
      "image/png": "[encoded data removed]",
      "text/plain": [
       "<matplotlib.figure.Figure at 0x10db408d0>"
      ]
     },
     "metadata": {},
     "output_type": "display_data"
    }
   ],
   "source": [
    "nd = len( x )\n",
    "\n",
    "xml = ns.samples[-1].nuisance\n",
    "parml = ns.samples[-1].parameters\n",
    "yml = mdl.result( xml, parml )\n",
    "yopt = mdl.result( xopt, ns.parameters )\n",
    "plt.figure( \"Errors in X and Y\", figsize=(6,6) )\n",
    "plt.plot( xopt, yopt, 'k-' )\n",
    "plt.plot( xml, yml, 'b-' )\n",
    "for k in range( 0, nd, 1 ):\n",
    "    # plt.plot( [xm[k],xn[k]], [ym[k],yn[k]], 'b-')\n",
    "    # plt.plot( [xm[k],x[k]], [ym[k],y[k]], 'r-')\n",
    "    plt.plot( [x[k],xopt[k]], [y[k],yopt[k]], 'g-')\n",
    "    plt.plot( [x[k],xml[k]], [y[k],yml[k]], 'r-')\n",
    "plt.show()"
   ]
  },
  {
   "cell_type": "code",
   "execution_count": 28,
   "metadata": {},
   "outputs": [
    {
     "data": {
      "image/png": "[encoded data removed]",
      "text/plain": [
       "<matplotlib.figure.Figure at 0x10c8f2eb8>"
      ]
     },
     "metadata": {},
     "output_type": "display_data"
    }
   ],
   "source": [
    "x0 = numpy.zeros( 101, dtype=float )\n",
    "y0 = numpy.zeros( 101, dtype=float )\n",
    "k = 0\n",
    "for w in ns.walkers :\n",
    "    #print( fmt( w.problem.residuals( w.allpars[:-1] ), max=None ) )\n",
    "    xx = w.allpars[2:2+nd]\n",
    "    yy = mdl.result( xx, w.allpars[:2] )\n",
    "    x0[k] = xx[3]\n",
    "    y0[k] = yy[3]\n",
    "    k += 1\n",
    "    plt.plot( xx, yy, 'k,' )\n",
    "plt.plot( x0, y0, 'r,' )\n",
    "plt.plot( x, y, 'b.' )\n",
    "plt.show()"
   ]
  }
 ],
 "metadata": {
  "anaconda-cloud": {},
  "kernelspec": {
   "display_name": "Python 3",
   "language": "python",
   "name": "python3"
  },
  "language_info": {
   "codemirror_mode": {
    "name": "ipython",
    "version": 3
   },
   "file_extension": ".py",
   "mimetype": "text/x-python",
   "name": "python",
   "nbconvert_exporter": "python",
   "pygments_lexer": "ipython3",
   "version": "3.5.4"
  }
 },
 "nbformat": 4,
 "nbformat_minor": 1
}
