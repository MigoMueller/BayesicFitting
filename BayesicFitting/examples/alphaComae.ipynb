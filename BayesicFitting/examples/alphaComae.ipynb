{
 "cells": [
  {
   "cell_type": "markdown",
   "metadata": {},
   "source": [
    "## Alpha Comae\n",
    "\n",
    "Alpha Comae (ACom) is a visible double star with an orbit which is almost perpendicular to the sky plane. The stars are dancing in an apparent straight line around each other. The orbital plane could be so perpendicular that the stars will eclipse. This has not been observed yet. Partly due to a lack of precision in the determination of the orbital elements. \n",
    "\n",
    "We have data from SIDONIE (https://sidonie.oca.eu) and WDS (https://www.usno.navy.mil/USNO/astrometry/optical-IR-prod/wds/int4). Obvious double listings were removed.\n",
    "The distance and angle data are transformed into (x,y) positions. \n",
    "\n",
    "As both stars are very similar spectral type (F5V) and in brightness it is easy to confuse the components. From simple inspection of the data it is immediately obvious that this confusion has crept into the data. An important part in the analysis of the orbital elements is the proper identification of the components.\n",
    "\n",
    "We employ a two stage strategy. First we identify the proper angles, visually, from continuity of the data. After a fit of the orbital elements, we determine the distances of the data to the model and also of the \"mirror-data\" where all (x,y) are changed into (-x,-y). The latter points represent the misidentifications. \n",
    "If an mirror-data point is closer to the model than the pertaining data point, we conclude that we have a misidentification, and replace the data point with the mirror-data point.\n",
    "\n",
    "With the new dataset we run the fitting process again.\n",
    "\n",
    "\n",
    "\n",
    "\n",
    "\n",
    "Author: Do Kester\n"
   ]
  },
  {
   "cell_type": "markdown",
   "metadata": {},
   "source": [
    "We need to import some classes"
   ]
  },
  {
   "cell_type": "code",
   "execution_count": 1,
   "metadata": {},
   "outputs": [],
   "source": [
    "import numpy as numpy\n",
    "import math\n",
    "\n",
    "from astropy.io import ascii\n",
    "from BayesicFitting import StellarOrbitModel\n",
    "from BayesicFitting import MultipleOutputProblem\n",
    "from BayesicFitting import PolynomialModel\n",
    "from BayesicFitting import CircularUniformPrior\n",
    "\n",
    "from BayesicFitting import NestedSampler\n",
    "from BayesicFitting import formatter as fmt\n",
    "from BayesicFitting import plotFit\n",
    "from BayesicFitting import Tools\n",
    "import matplotlib.pyplot as plt\n",
    "\n"
   ]
  },
  {
   "cell_type": "code",
   "execution_count": 2,
   "metadata": {},
   "outputs": [],
   "source": [
    "#%matplotlib osx"
   ]
  },
  {
   "cell_type": "markdown",
   "metadata": {},
   "source": [
    "Read the data"
   ]
  },
  {
   "cell_type": "code",
   "execution_count": 3,
   "metadata": {},
   "outputs": [],
   "source": [
    "tbl = ascii.read( \"data/alfcom.dat\", include_names=['Date', 'Angle', \n",
    "                                'Separ', 'err-a', 'err-s', 'nts', 'pr'] )\n",
    "# print( tbl )\n",
    "# The table lists:\n",
    "#   fractional years \n",
    "#   angle in degree \n",
    "#   separation in arcsec\n",
    "#   number of nights the star is observed\n",
    "#   precision in number of decimals in the separation (2 or 3)\n",
    "yr0 = tbl['Date'].data\n",
    "phi = tbl['Angle'].data\n",
    "dis = tbl['Separ'].data\n",
    "erp = tbl['err-a']\n",
    "erd = tbl['err-s']\n",
    "nts = tbl['nts'].data\n",
    "prc = tbl['pr'].data\n",
    "\n",
    "phi = numpy.where( phi > 300, phi - 360, phi )"
   ]
  },
  {
   "cell_type": "code",
   "execution_count": 4,
   "metadata": {},
   "outputs": [
    {
     "data": {
      "image/png": "[encoded data removed]",
      "text/plain": [
       "<Figure size 432x432 with 1 Axes>"
      ]
     },
     "metadata": {
      "needs_background": "light"
     },
     "output_type": "display_data"
    }
   ],
   "source": [
    "th = phi * math.pi / 180\n",
    "\n",
    "## Do we need a correction for leap years. They are 0.3% longer\n",
    "yr1 = yr0 - 1900\n",
    "ypos = -dis * numpy.cos( th )\n",
    "xpos = dis * numpy.sin( th )\n",
    "\n",
    "\n",
    "plt.figure( \"data\", figsize=(6,6) )\n",
    "q = numpy.where( yr0 <= 1900 )\n",
    "plt.plot( xpos[q], ypos[q], 'k.' )\n",
    "q = numpy.where( numpy.logical_and( 1900 <= yr0, yr0 < 1950 ) )\n",
    "plt.plot( xpos[q], ypos[q], 'b.' )\n",
    "q = numpy.where( numpy.logical_and( 1950 <= yr0, yr0 < 2000 ) )\n",
    "plt.plot( xpos[q], ypos[q], 'r.' )\n",
    "q = numpy.where( yr0 >= 2000 )\n",
    "plt.plot( xpos[q], ypos[q], 'g.' )\n",
    "plt.xlabel( 'x-position' )\n",
    "plt.ylabel( 'y-position' )\n",
    "plt.axis( 'equal' )\n",
    "plt.show()"
   ]
  },
  {
   "cell_type": "markdown",
   "metadata": {},
   "source": [
    "A bit of data massaging. "
   ]
  },
  {
   "cell_type": "code",
   "execution_count": 5,
   "metadata": {},
   "outputs": [
    {
     "name": "stdout",
     "output_type": "stream",
     "text": [
      "        0     0.570     0.190     0.108    -0.560     0.333\n",
      "        1     0.000     3.142     0.000     0.000     0.333\n",
      "        2     0.260     3.367    -0.058     0.253     3.000\n",
      "        3     0.410     3.363    -0.090     0.400     6.333\n",
      "        4     0.860     3.414    -0.231     0.828     2.000\n",
      "        5     0.490     3.355    -0.104     0.479     2.667\n",
      "        6     0.520     3.323    -0.094     0.511     4.333\n",
      "        7     0.700     3.304    -0.113     0.691     1.333\n",
      "        8     0.480     3.316    -0.083     0.473     4.667\n",
      "        9     0.460     3.334    -0.088     0.452     5.333\n",
      "       20     0.070     2.969    -0.012    -0.069     0.333\n",
      "       44     0.130     3.253     0.014    -0.129     0.333\n",
      "       45     0.200     3.185     0.009    -0.200     0.333\n",
      "       60     0.160     3.311     0.027    -0.158    13.333\n",
      "       90     0.530     3.636     0.251    -0.467     0.667\n",
      "       92     0.730     3.328     0.136    -0.717     1.000\n",
      "      133     0.090     3.253     0.010    -0.089     0.667\n",
      "      134     0.090     3.876     0.060    -0.067     0.667\n",
      "      348     0.101     3.304     0.016    -0.100     3.333\n",
      "      477     0.118     3.348     0.024    -0.115    30.000\n",
      "      478     0.117     3.351     0.024    -0.115    30.000\n",
      "      479     0.091     3.355     0.019    -0.089     7.692\n",
      "      480     0.091     3.355     0.019    -0.089     7.692\n"
     ]
    }
   ],
   "source": [
    "# A bit of trial and error to identify the data points\n",
    "per = 25.8696\n",
    "yr9 = yr0 - 9.5\n",
    "orbit = yr9 % per\n",
    "ql = numpy.where( orbit < 13 )\n",
    "qu = numpy.where( orbit >= 13 )\n",
    "\n",
    "## indentification is in chuncks.\n",
    "pql = phi[ql]\n",
    "phi[ql] = numpy.where( pql > 100, pql - 180, pql )\n",
    "pqu = phi[qu]\n",
    "phi[qu] = numpy.where( pqu < 100, pqu + 180, pqu )\n",
    "\n",
    "\n",
    "th = phi * math.pi / 180\n",
    "\n",
    "## Do we need a correction for leap years. They are 0.3% longer\n",
    "yr = yr0 - 1900\n",
    "#xpos = dis * numpy.cos( th )\n",
    "#ypos = dis * numpy.sin( th )\n",
    "\n",
    "ypos = -dis * numpy.cos( th )\n",
    "xpos = dis * numpy.sin( th )\n",
    "\n",
    "\n",
    "\n",
    "# Make weights proportional to the number of nights observed and \n",
    "# divide by 4 if the precision is given in 2 decimals in stead of 3 \n",
    "#wgt = numpy.where( prc == 3, nts, nts / 4 )\n",
    "#wgt = numpy.sqrt( nts ) * numpy.power( 10.0, prc - 3 )\n",
    "erd = numpy.where( erd == 0, 100, erd )\n",
    "#wgt = nts / ( numpy.square( 100 * erd ))\n",
    "wgt = nts / ( 100 * erd )\n",
    "wgt = numpy.where( wgt > 30, 30.0, wgt )\n",
    "\n",
    "## Second stage. Comment next lines out for the first stage.\n",
    "## q lists the data points that were misidentified in the 1st stage.\n",
    "q = numpy.array( [ 20,  44,  45,  60,  90,  92, 133, 134, 348, 477, 478, 479, 480] )\n",
    "xpos[q] *= -1\n",
    "ypos[q] *= -1\n",
    "\n",
    "for k in range(10) :\n",
    "    print( fmt(k),fmt(dis[k]), fmt(th[k]), fmt(xpos[k]), fmt(ypos[k]), fmt(wgt[k]) )\n",
    "\n",
    "\n",
    "for k in q :\n",
    "    print( fmt(k),fmt(dis[k]), fmt(th[k]), fmt(xpos[k]), fmt(ypos[k]), fmt(wgt[k] ) )\n",
    "\n",
    "\n",
    "# Combine xpos and ypos into a 2-d array: pos\n",
    "pos = numpy.append( xpos, ypos ).reshape( 2, -1 ).transpose()"
   ]
  },
  {
   "cell_type": "code",
   "execution_count": 6,
   "metadata": {},
   "outputs": [
    {
     "data": {
      "image/png": "[encoded data removed]",
      "text/plain": [
       "<Figure size 864x360 with 1 Axes>"
      ]
     },
     "metadata": {
      "needs_background": "light"
     },
     "output_type": "display_data"
    },
    {
     "name": "stdout",
     "output_type": "stream",
     "text": [
      "[   -0.012    0.014    0.009    0.027    0.251 ...]\n",
      "[   -0.069   -0.129   -0.200   -0.158   -0.467 ...]\n"
     ]
    }
   ],
   "source": [
    "plt.figure( \"data\", figsize=(12,5) )\n",
    "plt.plot( [-100,116], [0,0], 'k-' )\n",
    "plt.plot( yr, xpos, 'r.' )\n",
    "plt.plot( yr, ypos, 'g.' )\n",
    "#plt.plot( yr, wgt / 10, 'b.' )\n",
    "plt.show()\n",
    "\n",
    "print( fmt( xpos[q] ) )\n",
    "print( fmt( ypos[q] ) ) "
   ]
  },
  {
   "cell_type": "markdown",
   "metadata": {},
   "source": [
    "We define a stellar orbit model. It has 7 parameters: eccentricity, semimajor axis, period, periastron phase, inclination of the orbit, longitude of ascending node and phase of the ascending node.\n",
    "\n",
    "All 4 phase parameters get a CircularUniformPrior 0 to 2 pi.\n"
   ]
  },
  {
   "cell_type": "code",
   "execution_count": 7,
   "metadata": {},
   "outputs": [],
   "source": [
    "twopi = 2 * math.pi\n",
    "mdl = StellarOrbitModel( spherical=False )\n",
    "## eccen, semimaj, period, phase, inclin, node phase, node pos\n",
    "lolim = [0.0, 0.0, 20.0]\n",
    "hilim = [0.9, 1.0, 30.0]\n",
    "mdl.setLimits( lowLimits=lolim, highLimits=hilim )\n",
    "#Tools.printclass( mdl )\n",
    "\n",
    "mdl.setPrior( 3, prior=CircularUniformPrior(), limits=[0,twopi] )\n",
    "mdl.setPrior( 4, prior=CircularUniformPrior(), limits=[0,math.pi] )     ## inclination\n",
    "mdl.setPrior( 5, prior=CircularUniformPrior(), limits=[0,twopi] )\n",
    "mdl.setPrior( 6, prior=CircularUniformPrior(), limits=[0,twopi] )\n",
    "#Tools.printclass( mdl )"
   ]
  },
  {
   "cell_type": "markdown",
   "metadata": {},
   "source": [
    "Define a MultipleOutputProblem which reorganises the multiple outputs: (x,y) into a 1-d array that can be handled by the NestedSampler.\n",
    "\n",
    "Define NestedSampler with extended ensemble for better precision."
   ]
  },
  {
   "cell_type": "code",
   "execution_count": 8,
   "metadata": {},
   "outputs": [
    {
     "name": "stdout",
     "output_type": "stream",
     "text": [
      "Fit all parameters of\n",
      "  StellarOrbit \n",
      "Using a Gauss error distribution with with unknown scale\n",
      "Moving the walkers with   GalileanEngine  ChordEngine\n",
      ">"
     ]
    },
    {
     "name": "stdout",
     "output_type": "stream",
     "text": [
      ">"
     ]
    },
    {
     "name": "stdout",
     "output_type": "stream",
     "text": [
      ">"
     ]
    },
    {
     "name": "stdout",
     "output_type": "stream",
     "text": [
      ">"
     ]
    },
    {
     "name": "stdout",
     "output_type": "stream",
     "text": [
      ">"
     ]
    },
    {
     "name": "stdout",
     "output_type": "stream",
     "text": [
      ">"
     ]
    },
    {
     "name": "stdout",
     "output_type": "stream",
     "text": [
      ">"
     ]
    },
    {
     "name": "stdout",
     "output_type": "stream",
     "text": [
      ">"
     ]
    },
    {
     "name": "stdout",
     "output_type": "stream",
     "text": [
      ">"
     ]
    },
    {
     "name": "stdout",
     "output_type": "stream",
     "text": [
      ">"
     ]
    },
    {
     "name": "stdout",
     "output_type": "stream",
     "text": [
      ">"
     ]
    },
    {
     "name": "stdout",
     "output_type": "stream",
     "text": [
      ">"
     ]
    },
    {
     "name": "stdout",
     "output_type": "stream",
     "text": [
      ">"
     ]
    },
    {
     "name": "stdout",
     "output_type": "stream",
     "text": [
      ">"
     ]
    },
    {
     "name": "stdout",
     "output_type": "stream",
     "text": [
      ">"
     ]
    },
    {
     "name": "stdout",
     "output_type": "stream",
     "text": [
      ">"
     ]
    },
    {
     "name": "stdout",
     "output_type": "stream",
     "text": [
      ">"
     ]
    },
    {
     "name": "stdout",
     "output_type": "stream",
     "text": [
      ">"
     ]
    },
    {
     "name": "stdout",
     "output_type": "stream",
     "text": [
      ">"
     ]
    },
    {
     "name": "stdout",
     "output_type": "stream",
     "text": [
      ">"
     ]
    },
    {
     "name": "stdout",
     "output_type": "stream",
     "text": [
      ">"
     ]
    },
    {
     "name": "stdout",
     "output_type": "stream",
     "text": [
      ">"
     ]
    },
    {
     "name": "stdout",
     "output_type": "stream",
     "text": [
      ">"
     ]
    },
    {
     "name": "stdout",
     "output_type": "stream",
     "text": [
      ">"
     ]
    },
    {
     "name": "stdout",
     "output_type": "stream",
     "text": [
      ">"
     ]
    },
    {
     "name": "stdout",
     "output_type": "stream",
     "text": [
      ">"
     ]
    },
    {
     "name": "stdout",
     "output_type": "stream",
     "text": [
      ">"
     ]
    },
    {
     "name": "stdout",
     "output_type": "stream",
     "text": [
      ">"
     ]
    },
    {
     "name": "stdout",
     "output_type": "stream",
     "text": [
      ">"
     ]
    },
    {
     "name": "stdout",
     "output_type": "stream",
     "text": [
      ">"
     ]
    },
    {
     "name": "stdout",
     "output_type": "stream",
     "text": [
      ">"
     ]
    },
    {
     "name": "stdout",
     "output_type": "stream",
     "text": [
      ">"
     ]
    },
    {
     "name": "stdout",
     "output_type": "stream",
     "text": [
      ">"
     ]
    },
    {
     "name": "stdout",
     "output_type": "stream",
     "text": [
      ">"
     ]
    },
    {
     "name": "stdout",
     "output_type": "stream",
     "text": [
      ">"
     ]
    },
    {
     "name": "stdout",
     "output_type": "stream",
     "text": [
      ">"
     ]
    },
    {
     "name": "stdout",
     "output_type": "stream",
     "text": [
      ">"
     ]
    },
    {
     "name": "stdout",
     "output_type": "stream",
     "text": [
      ">"
     ]
    },
    {
     "name": "stdout",
     "output_type": "stream",
     "text": [
      ">"
     ]
    },
    {
     "name": "stdout",
     "output_type": "stream",
     "text": [
      ">"
     ]
    },
    {
     "name": "stdout",
     "output_type": "stream",
     "text": [
      ">"
     ]
    },
    {
     "name": "stdout",
     "output_type": "stream",
     "text": [
      ">"
     ]
    },
    {
     "name": "stdout",
     "output_type": "stream",
     "text": [
      ">"
     ]
    },
    {
     "name": "stdout",
     "output_type": "stream",
     "text": [
      ">"
     ]
    },
    {
     "name": "stdout",
     "output_type": "stream",
     "text": [
      ">"
     ]
    },
    {
     "name": "stdout",
     "output_type": "stream",
     "text": [
      ">"
     ]
    },
    {
     "name": "stdout",
     "output_type": "stream",
     "text": [
      ">"
     ]
    },
    {
     "name": "stdout",
     "output_type": "stream",
     "text": [
      ">"
     ]
    },
    {
     "name": "stdout",
     "output_type": "stream",
     "text": [
      ">"
     ]
    },
    {
     "name": "stdout",
     "output_type": "stream",
     "text": [
      ">\n"
     ]
    },
    {
     "name": "stdout",
     "output_type": "stream",
     "text": [
      ">"
     ]
    },
    {
     "name": "stdout",
     "output_type": "stream",
     "text": [
      ">"
     ]
    },
    {
     "name": "stdout",
     "output_type": "stream",
     "text": [
      ">"
     ]
    },
    {
     "name": "stdout",
     "output_type": "stream",
     "text": [
      ">"
     ]
    },
    {
     "name": "stdout",
     "output_type": "stream",
     "text": [
      ">"
     ]
    },
    {
     "name": "stdout",
     "output_type": "stream",
     "text": [
      ">"
     ]
    },
    {
     "name": "stdout",
     "output_type": "stream",
     "text": [
      ">"
     ]
    },
    {
     "name": "stdout",
     "output_type": "stream",
     "text": [
      ">"
     ]
    },
    {
     "name": "stdout",
     "output_type": "stream",
     "text": [
      ">"
     ]
    },
    {
     "name": "stdout",
     "output_type": "stream",
     "text": [
      ">"
     ]
    },
    {
     "name": "stdout",
     "output_type": "stream",
     "text": [
      ">"
     ]
    },
    {
     "name": "stdout",
     "output_type": "stream",
     "text": [
      ">"
     ]
    },
    {
     "name": "stdout",
     "output_type": "stream",
     "text": [
      ">"
     ]
    },
    {
     "name": "stdout",
     "output_type": "stream",
     "text": [
      ">"
     ]
    },
    {
     "name": "stdout",
     "output_type": "stream",
     "text": [
      ">"
     ]
    },
    {
     "name": "stdout",
     "output_type": "stream",
     "text": [
      ">"
     ]
    },
    {
     "name": "stdout",
     "output_type": "stream",
     "text": [
      ">"
     ]
    },
    {
     "name": "stdout",
     "output_type": "stream",
     "text": [
      ">"
     ]
    },
    {
     "name": "stdout",
     "output_type": "stream",
     "text": [
      ">"
     ]
    },
    {
     "name": "stdout",
     "output_type": "stream",
     "text": [
      ">"
     ]
    },
    {
     "name": "stdout",
     "output_type": "stream",
     "text": [
      ">"
     ]
    },
    {
     "name": "stdout",
     "output_type": "stream",
     "text": [
      ">"
     ]
    },
    {
     "name": "stdout",
     "output_type": "stream",
     "text": [
      ">"
     ]
    },
    {
     "name": "stdout",
     "output_type": "stream",
     "text": [
      ">"
     ]
    },
    {
     "name": "stdout",
     "output_type": "stream",
     "text": [
      ">"
     ]
    },
    {
     "name": "stdout",
     "output_type": "stream",
     "text": [
      ">"
     ]
    },
    {
     "name": "stdout",
     "output_type": "stream",
     "text": [
      ">"
     ]
    },
    {
     "name": "stdout",
     "output_type": "stream",
     "text": [
      ">"
     ]
    },
    {
     "name": "stdout",
     "output_type": "stream",
     "text": [
      ">"
     ]
    },
    {
     "name": "stdout",
     "output_type": "stream",
     "text": [
      ">"
     ]
    },
    {
     "name": "stdout",
     "output_type": "stream",
     "text": [
      ">"
     ]
    },
    {
     "name": "stdout",
     "output_type": "stream",
     "text": [
      ">"
     ]
    },
    {
     "name": "stdout",
     "output_type": "stream",
     "text": [
      ">"
     ]
    },
    {
     "name": "stdout",
     "output_type": "stream",
     "text": [
      ">"
     ]
    },
    {
     "name": "stdout",
     "output_type": "stream",
     "text": [
      ">"
     ]
    },
    {
     "name": "stdout",
     "output_type": "stream",
     "text": [
      ">"
     ]
    },
    {
     "name": "stdout",
     "output_type": "stream",
     "text": [
      ">"
     ]
    },
    {
     "name": "stdout",
     "output_type": "stream",
     "text": [
      ">"
     ]
    },
    {
     "name": "stdout",
     "output_type": "stream",
     "text": [
      ">"
     ]
    },
    {
     "name": "stdout",
     "output_type": "stream",
     "text": [
      ">"
     ]
    },
    {
     "name": "stdout",
     "output_type": "stream",
     "text": [
      ">"
     ]
    },
    {
     "name": "stdout",
     "output_type": "stream",
     "text": [
      ">"
     ]
    },
    {
     "name": "stdout",
     "output_type": "stream",
     "text": [
      ">"
     ]
    },
    {
     "name": "stdout",
     "output_type": "stream",
     "text": [
      ">"
     ]
    },
    {
     "name": "stdout",
     "output_type": "stream",
     "text": [
      ">"
     ]
    },
    {
     "name": "stdout",
     "output_type": "stream",
     "text": [
      ">"
     ]
    },
    {
     "name": "stdout",
     "output_type": "stream",
     "text": [
      ">"
     ]
    },
    {
     "name": "stdout",
     "output_type": "stream",
     "text": [
      ">"
     ]
    },
    {
     "name": "stdout",
     "output_type": "stream",
     "text": [
      ">"
     ]
    },
    {
     "name": "stdout",
     "output_type": "stream",
     "text": [
      ">\n"
     ]
    },
    {
     "name": "stdout",
     "output_type": "stream",
     "text": [
      ">"
     ]
    },
    {
     "name": "stdout",
     "output_type": "stream",
     "text": [
      ">"
     ]
    },
    {
     "name": "stdout",
     "output_type": "stream",
     "text": [
      ">"
     ]
    },
    {
     "name": "stdout",
     "output_type": "stream",
     "text": [
      ">"
     ]
    },
    {
     "name": "stdout",
     "output_type": "stream",
     "text": [
      ">"
     ]
    },
    {
     "name": "stdout",
     "output_type": "stream",
     "text": [
      ">"
     ]
    },
    {
     "name": "stdout",
     "output_type": "stream",
     "text": [
      ">"
     ]
    },
    {
     "name": "stdout",
     "output_type": "stream",
     "text": [
      ">"
     ]
    },
    {
     "name": "stdout",
     "output_type": "stream",
     "text": [
      ">"
     ]
    },
    {
     "name": "stdout",
     "output_type": "stream",
     "text": [
      ">"
     ]
    },
    {
     "name": "stdout",
     "output_type": "stream",
     "text": [
      ">"
     ]
    },
    {
     "name": "stdout",
     "output_type": "stream",
     "text": [
      ">"
     ]
    },
    {
     "name": "stdout",
     "output_type": "stream",
     "text": [
      ">"
     ]
    },
    {
     "name": "stdout",
     "output_type": "stream",
     "text": [
      ">"
     ]
    },
    {
     "name": "stdout",
     "output_type": "stream",
     "text": [
      ">"
     ]
    },
    {
     "name": "stdout",
     "output_type": "stream",
     "text": [
      ">"
     ]
    },
    {
     "name": "stdout",
     "output_type": "stream",
     "text": [
      ">"
     ]
    },
    {
     "name": "stdout",
     "output_type": "stream",
     "text": [
      ">"
     ]
    },
    {
     "name": "stdout",
     "output_type": "stream",
     "text": [
      ">"
     ]
    },
    {
     "name": "stdout",
     "output_type": "stream",
     "text": [
      ">"
     ]
    },
    {
     "name": "stdout",
     "output_type": "stream",
     "text": [
      ">"
     ]
    },
    {
     "name": "stdout",
     "output_type": "stream",
     "text": [
      ">"
     ]
    },
    {
     "name": "stdout",
     "output_type": "stream",
     "text": [
      ">"
     ]
    },
    {
     "name": "stdout",
     "output_type": "stream",
     "text": [
      ">"
     ]
    },
    {
     "name": "stdout",
     "output_type": "stream",
     "text": [
      ">"
     ]
    },
    {
     "name": "stdout",
     "output_type": "stream",
     "text": [
      ">"
     ]
    },
    {
     "name": "stdout",
     "output_type": "stream",
     "text": [
      ">"
     ]
    },
    {
     "name": "stdout",
     "output_type": "stream",
     "text": [
      ">"
     ]
    },
    {
     "name": "stdout",
     "output_type": "stream",
     "text": [
      ">"
     ]
    },
    {
     "name": "stdout",
     "output_type": "stream",
     "text": [
      ">"
     ]
    },
    {
     "name": "stdout",
     "output_type": "stream",
     "text": [
      ">"
     ]
    },
    {
     "name": "stdout",
     "output_type": "stream",
     "text": [
      ">"
     ]
    },
    {
     "name": "stdout",
     "output_type": "stream",
     "text": [
      ">"
     ]
    },
    {
     "name": "stdout",
     "output_type": "stream",
     "text": [
      ">"
     ]
    },
    {
     "name": "stdout",
     "output_type": "stream",
     "text": [
      ">"
     ]
    },
    {
     "name": "stdout",
     "output_type": "stream",
     "text": [
      ">"
     ]
    },
    {
     "name": "stdout",
     "output_type": "stream",
     "text": [
      ">"
     ]
    },
    {
     "name": "stdout",
     "output_type": "stream",
     "text": [
      ">"
     ]
    },
    {
     "name": "stdout",
     "output_type": "stream",
     "text": [
      ">"
     ]
    },
    {
     "name": "stdout",
     "output_type": "stream",
     "text": [
      ">"
     ]
    },
    {
     "name": "stdout",
     "output_type": "stream",
     "text": [
      ">"
     ]
    },
    {
     "name": "stdout",
     "output_type": "stream",
     "text": [
      ">"
     ]
    },
    {
     "name": "stdout",
     "output_type": "stream",
     "text": [
      ">"
     ]
    },
    {
     "name": "stdout",
     "output_type": "stream",
     "text": [
      ">"
     ]
    },
    {
     "name": "stdout",
     "output_type": "stream",
     "text": [
      ">"
     ]
    },
    {
     "name": "stdout",
     "output_type": "stream",
     "text": [
      ">"
     ]
    },
    {
     "name": "stdout",
     "output_type": "stream",
     "text": [
      ">"
     ]
    },
    {
     "name": "stdout",
     "output_type": "stream",
     "text": [
      ">"
     ]
    },
    {
     "name": "stdout",
     "output_type": "stream",
     "text": [
      ">"
     ]
    },
    {
     "name": "stdout",
     "output_type": "stream",
     "text": [
      ">\n"
     ]
    },
    {
     "name": "stdout",
     "output_type": "stream",
     "text": [
      ">"
     ]
    },
    {
     "name": "stdout",
     "output_type": "stream",
     "text": [
      ">"
     ]
    },
    {
     "name": "stdout",
     "output_type": "stream",
     "text": [
      ">"
     ]
    },
    {
     "name": "stdout",
     "output_type": "stream",
     "text": [
      ">"
     ]
    },
    {
     "name": "stdout",
     "output_type": "stream",
     "text": [
      ">"
     ]
    },
    {
     "name": "stdout",
     "output_type": "stream",
     "text": [
      ">"
     ]
    },
    {
     "name": "stdout",
     "output_type": "stream",
     "text": [
      ">"
     ]
    },
    {
     "name": "stdout",
     "output_type": "stream",
     "text": [
      ">"
     ]
    },
    {
     "name": "stdout",
     "output_type": "stream",
     "text": [
      ">"
     ]
    },
    {
     "name": "stdout",
     "output_type": "stream",
     "text": [
      ">"
     ]
    },
    {
     "name": "stdout",
     "output_type": "stream",
     "text": [
      ">"
     ]
    },
    {
     "name": "stdout",
     "output_type": "stream",
     "text": [
      ">"
     ]
    },
    {
     "name": "stdout",
     "output_type": "stream",
     "text": [
      ">"
     ]
    },
    {
     "name": "stdout",
     "output_type": "stream",
     "text": [
      ">"
     ]
    },
    {
     "name": "stdout",
     "output_type": "stream",
     "text": [
      ">"
     ]
    },
    {
     "name": "stdout",
     "output_type": "stream",
     "text": [
      ">"
     ]
    },
    {
     "name": "stdout",
     "output_type": "stream",
     "text": [
      ">"
     ]
    },
    {
     "name": "stdout",
     "output_type": "stream",
     "text": [
      ">"
     ]
    },
    {
     "name": "stdout",
     "output_type": "stream",
     "text": [
      ">"
     ]
    },
    {
     "name": "stdout",
     "output_type": "stream",
     "text": [
      ">"
     ]
    },
    {
     "name": "stdout",
     "output_type": "stream",
     "text": [
      ">"
     ]
    },
    {
     "name": "stdout",
     "output_type": "stream",
     "text": [
      ">"
     ]
    },
    {
     "name": "stdout",
     "output_type": "stream",
     "text": [
      ">"
     ]
    },
    {
     "name": "stdout",
     "output_type": "stream",
     "text": [
      ">"
     ]
    },
    {
     "name": "stdout",
     "output_type": "stream",
     "text": [
      ">"
     ]
    },
    {
     "name": "stdout",
     "output_type": "stream",
     "text": [
      ">"
     ]
    },
    {
     "name": "stdout",
     "output_type": "stream",
     "text": [
      ">"
     ]
    },
    {
     "name": "stdout",
     "output_type": "stream",
     "text": [
      ">"
     ]
    },
    {
     "name": "stdout",
     "output_type": "stream",
     "text": [
      ">"
     ]
    },
    {
     "name": "stdout",
     "output_type": "stream",
     "text": [
      ">"
     ]
    },
    {
     "name": "stdout",
     "output_type": "stream",
     "text": [
      ">"
     ]
    },
    {
     "name": "stdout",
     "output_type": "stream",
     "text": [
      ">"
     ]
    },
    {
     "name": "stdout",
     "output_type": "stream",
     "text": [
      ">"
     ]
    },
    {
     "name": "stdout",
     "output_type": "stream",
     "text": [
      ">"
     ]
    },
    {
     "name": "stdout",
     "output_type": "stream",
     "text": [
      ">"
     ]
    },
    {
     "name": "stdout",
     "output_type": "stream",
     "text": [
      ">"
     ]
    },
    {
     "name": "stdout",
     "output_type": "stream",
     "text": [
      ">"
     ]
    },
    {
     "name": "stdout",
     "output_type": "stream",
     "text": [
      ">"
     ]
    },
    {
     "name": "stdout",
     "output_type": "stream",
     "text": [
      ">"
     ]
    },
    {
     "name": "stdout",
     "output_type": "stream",
     "text": [
      ">"
     ]
    },
    {
     "name": "stdout",
     "output_type": "stream",
     "text": [
      ">"
     ]
    },
    {
     "name": "stdout",
     "output_type": "stream",
     "text": [
      ">"
     ]
    },
    {
     "name": "stdout",
     "output_type": "stream",
     "text": [
      ">"
     ]
    },
    {
     "name": "stdout",
     "output_type": "stream",
     "text": [
      ">"
     ]
    },
    {
     "name": "stdout",
     "output_type": "stream",
     "text": [
      ">"
     ]
    },
    {
     "name": "stdout",
     "output_type": "stream",
     "text": [
      ">"
     ]
    },
    {
     "name": "stdout",
     "output_type": "stream",
     "text": [
      ">"
     ]
    },
    {
     "name": "stdout",
     "output_type": "stream",
     "text": [
      ">"
     ]
    },
    {
     "name": "stdout",
     "output_type": "stream",
     "text": [
      ">"
     ]
    },
    {
     "name": "stdout",
     "output_type": "stream",
     "text": [
      ">\n"
     ]
    },
    {
     "name": "stdout",
     "output_type": "stream",
     "text": [
      ">"
     ]
    },
    {
     "name": "stdout",
     "output_type": "stream",
     "text": [
      ">"
     ]
    },
    {
     "name": "stdout",
     "output_type": "stream",
     "text": [
      ">"
     ]
    },
    {
     "name": "stdout",
     "output_type": "stream",
     "text": [
      ">"
     ]
    },
    {
     "name": "stdout",
     "output_type": "stream",
     "text": [
      ">"
     ]
    },
    {
     "name": "stdout",
     "output_type": "stream",
     "text": [
      ">"
     ]
    },
    {
     "name": "stdout",
     "output_type": "stream",
     "text": [
      ">"
     ]
    },
    {
     "name": "stdout",
     "output_type": "stream",
     "text": [
      ">"
     ]
    },
    {
     "name": "stdout",
     "output_type": "stream",
     "text": [
      ">"
     ]
    },
    {
     "name": "stdout",
     "output_type": "stream",
     "text": [
      ">"
     ]
    },
    {
     "name": "stdout",
     "output_type": "stream",
     "text": [
      ">"
     ]
    },
    {
     "name": "stdout",
     "output_type": "stream",
     "text": [
      ">"
     ]
    },
    {
     "name": "stdout",
     "output_type": "stream",
     "text": [
      ">"
     ]
    },
    {
     "name": "stdout",
     "output_type": "stream",
     "text": [
      ">"
     ]
    },
    {
     "name": "stdout",
     "output_type": "stream",
     "text": [
      ">"
     ]
    },
    {
     "name": "stdout",
     "output_type": "stream",
     "text": [
      ">"
     ]
    },
    {
     "name": "stdout",
     "output_type": "stream",
     "text": [
      ">"
     ]
    },
    {
     "name": "stdout",
     "output_type": "stream",
     "text": [
      ">"
     ]
    },
    {
     "name": "stdout",
     "output_type": "stream",
     "text": [
      ">"
     ]
    },
    {
     "name": "stdout",
     "output_type": "stream",
     "text": [
      ">"
     ]
    },
    {
     "name": "stdout",
     "output_type": "stream",
     "text": [
      ">"
     ]
    },
    {
     "name": "stdout",
     "output_type": "stream",
     "text": [
      ">"
     ]
    },
    {
     "name": "stdout",
     "output_type": "stream",
     "text": [
      ">"
     ]
    },
    {
     "name": "stdout",
     "output_type": "stream",
     "text": [
      ">"
     ]
    },
    {
     "name": "stdout",
     "output_type": "stream",
     "text": [
      ">"
     ]
    },
    {
     "name": "stdout",
     "output_type": "stream",
     "text": [
      ">"
     ]
    },
    {
     "name": "stdout",
     "output_type": "stream",
     "text": [
      ">"
     ]
    },
    {
     "name": "stdout",
     "output_type": "stream",
     "text": [
      ">"
     ]
    },
    {
     "name": "stdout",
     "output_type": "stream",
     "text": [
      ">"
     ]
    },
    {
     "name": "stdout",
     "output_type": "stream",
     "text": [
      ">"
     ]
    },
    {
     "name": "stdout",
     "output_type": "stream",
     "text": [
      ">"
     ]
    },
    {
     "name": "stdout",
     "output_type": "stream",
     "text": [
      ">"
     ]
    },
    {
     "name": "stdout",
     "output_type": "stream",
     "text": [
      ">"
     ]
    },
    {
     "name": "stdout",
     "output_type": "stream",
     "text": [
      ">"
     ]
    },
    {
     "name": "stdout",
     "output_type": "stream",
     "text": [
      ">"
     ]
    },
    {
     "name": "stdout",
     "output_type": "stream",
     "text": [
      ">"
     ]
    },
    {
     "name": "stdout",
     "output_type": "stream",
     "text": [
      ">"
     ]
    },
    {
     "name": "stdout",
     "output_type": "stream",
     "text": [
      ">"
     ]
    },
    {
     "name": "stdout",
     "output_type": "stream",
     "text": [
      ">"
     ]
    },
    {
     "name": "stdout",
     "output_type": "stream",
     "text": [
      ">"
     ]
    },
    {
     "name": "stdout",
     "output_type": "stream",
     "text": [
      ">"
     ]
    },
    {
     "name": "stdout",
     "output_type": "stream",
     "text": [
      ">"
     ]
    },
    {
     "name": "stdout",
     "output_type": "stream",
     "text": [
      ">"
     ]
    },
    {
     "name": "stdout",
     "output_type": "stream",
     "text": [
      ">"
     ]
    },
    {
     "name": "stdout",
     "output_type": "stream",
     "text": [
      ">"
     ]
    },
    {
     "name": "stdout",
     "output_type": "stream",
     "text": [
      ">"
     ]
    },
    {
     "name": "stdout",
     "output_type": "stream",
     "text": [
      ">"
     ]
    },
    {
     "name": "stdout",
     "output_type": "stream",
     "text": [
      ">"
     ]
    },
    {
     "name": "stdout",
     "output_type": "stream",
     "text": [
      ">"
     ]
    },
    {
     "name": "stdout",
     "output_type": "stream",
     "text": [
      ">\n"
     ]
    },
    {
     "name": "stdout",
     "output_type": "stream",
     "text": [
      ">"
     ]
    },
    {
     "name": "stdout",
     "output_type": "stream",
     "text": [
      ">"
     ]
    },
    {
     "name": "stdout",
     "output_type": "stream",
     "text": [
      ">"
     ]
    },
    {
     "name": "stdout",
     "output_type": "stream",
     "text": [
      ">"
     ]
    },
    {
     "name": "stdout",
     "output_type": "stream",
     "text": [
      ">"
     ]
    },
    {
     "name": "stdout",
     "output_type": "stream",
     "text": [
      ">"
     ]
    },
    {
     "name": "stdout",
     "output_type": "stream",
     "text": [
      ">"
     ]
    },
    {
     "name": "stdout",
     "output_type": "stream",
     "text": [
      ">"
     ]
    },
    {
     "name": "stdout",
     "output_type": "stream",
     "text": [
      ">"
     ]
    },
    {
     "name": "stdout",
     "output_type": "stream",
     "text": [
      ">"
     ]
    },
    {
     "name": "stdout",
     "output_type": "stream",
     "text": [
      ">"
     ]
    },
    {
     "name": "stdout",
     "output_type": "stream",
     "text": [
      ">"
     ]
    },
    {
     "name": "stdout",
     "output_type": "stream",
     "text": [
      ">"
     ]
    },
    {
     "name": "stdout",
     "output_type": "stream",
     "text": [
      ">"
     ]
    },
    {
     "name": "stdout",
     "output_type": "stream",
     "text": [
      ">"
     ]
    },
    {
     "name": "stdout",
     "output_type": "stream",
     "text": [
      ">"
     ]
    },
    {
     "name": "stdout",
     "output_type": "stream",
     "text": [
      ">"
     ]
    },
    {
     "name": "stdout",
     "output_type": "stream",
     "text": [
      ">"
     ]
    },
    {
     "name": "stdout",
     "output_type": "stream",
     "text": [
      ">"
     ]
    },
    {
     "name": "stdout",
     "output_type": "stream",
     "text": [
      ">"
     ]
    },
    {
     "name": "stdout",
     "output_type": "stream",
     "text": [
      ">"
     ]
    },
    {
     "name": "stdout",
     "output_type": "stream",
     "text": [
      ">"
     ]
    },
    {
     "name": "stdout",
     "output_type": "stream",
     "text": [
      ">"
     ]
    },
    {
     "name": "stdout",
     "output_type": "stream",
     "text": [
      ">"
     ]
    },
    {
     "name": "stdout",
     "output_type": "stream",
     "text": [
      ">"
     ]
    },
    {
     "name": "stdout",
     "output_type": "stream",
     "text": [
      ">"
     ]
    },
    {
     "name": "stdout",
     "output_type": "stream",
     "text": [
      ">"
     ]
    },
    {
     "name": "stdout",
     "output_type": "stream",
     "text": [
      ">"
     ]
    },
    {
     "name": "stdout",
     "output_type": "stream",
     "text": [
      ">"
     ]
    },
    {
     "name": "stdout",
     "output_type": "stream",
     "text": [
      ">"
     ]
    },
    {
     "name": "stdout",
     "output_type": "stream",
     "text": [
      ">"
     ]
    },
    {
     "name": "stdout",
     "output_type": "stream",
     "text": [
      ">"
     ]
    },
    {
     "name": "stdout",
     "output_type": "stream",
     "text": [
      ">"
     ]
    },
    {
     "name": "stdout",
     "output_type": "stream",
     "text": [
      ">"
     ]
    },
    {
     "name": "stdout",
     "output_type": "stream",
     "text": [
      ">"
     ]
    },
    {
     "name": "stdout",
     "output_type": "stream",
     "text": [
      ">"
     ]
    },
    {
     "name": "stdout",
     "output_type": "stream",
     "text": [
      ">"
     ]
    },
    {
     "name": "stdout",
     "output_type": "stream",
     "text": [
      ">"
     ]
    },
    {
     "name": "stdout",
     "output_type": "stream",
     "text": [
      ">"
     ]
    },
    {
     "name": "stdout",
     "output_type": "stream",
     "text": [
      ">"
     ]
    },
    {
     "name": "stdout",
     "output_type": "stream",
     "text": [
      ">"
     ]
    },
    {
     "name": "stdout",
     "output_type": "stream",
     "text": [
      ">"
     ]
    },
    {
     "name": "stdout",
     "output_type": "stream",
     "text": [
      ">"
     ]
    },
    {
     "name": "stdout",
     "output_type": "stream",
     "text": [
      ">"
     ]
    },
    {
     "name": "stdout",
     "output_type": "stream",
     "text": [
      ">"
     ]
    },
    {
     "name": "stdout",
     "output_type": "stream",
     "text": [
      ">"
     ]
    },
    {
     "name": "stdout",
     "output_type": "stream",
     "text": [
      ">"
     ]
    },
    {
     "name": "stdout",
     "output_type": "stream",
     "text": [
      ">"
     ]
    },
    {
     "name": "stdout",
     "output_type": "stream",
     "text": [
      ">"
     ]
    },
    {
     "name": "stdout",
     "output_type": "stream",
     "text": [
      ">\n"
     ]
    },
    {
     "name": "stdout",
     "output_type": "stream",
     "text": [
      ">"
     ]
    },
    {
     "name": "stdout",
     "output_type": "stream",
     "text": [
      ">"
     ]
    },
    {
     "name": "stdout",
     "output_type": "stream",
     "text": [
      ">"
     ]
    },
    {
     "name": "stdout",
     "output_type": "stream",
     "text": [
      ">"
     ]
    },
    {
     "name": "stdout",
     "output_type": "stream",
     "text": [
      ">"
     ]
    },
    {
     "name": "stdout",
     "output_type": "stream",
     "text": [
      ">"
     ]
    },
    {
     "name": "stdout",
     "output_type": "stream",
     "text": [
      ">"
     ]
    },
    {
     "name": "stdout",
     "output_type": "stream",
     "text": [
      ">"
     ]
    },
    {
     "name": "stdout",
     "output_type": "stream",
     "text": [
      ">"
     ]
    },
    {
     "name": "stdout",
     "output_type": "stream",
     "text": [
      ">"
     ]
    },
    {
     "name": "stdout",
     "output_type": "stream",
     "text": [
      ">"
     ]
    },
    {
     "name": "stdout",
     "output_type": "stream",
     "text": [
      ">"
     ]
    },
    {
     "name": "stdout",
     "output_type": "stream",
     "text": [
      ">"
     ]
    },
    {
     "name": "stdout",
     "output_type": "stream",
     "text": [
      ">"
     ]
    },
    {
     "name": "stdout",
     "output_type": "stream",
     "text": [
      ">"
     ]
    },
    {
     "name": "stdout",
     "output_type": "stream",
     "text": [
      ">"
     ]
    },
    {
     "name": "stdout",
     "output_type": "stream",
     "text": [
      ">"
     ]
    },
    {
     "name": "stdout",
     "output_type": "stream",
     "text": [
      ">"
     ]
    },
    {
     "name": "stdout",
     "output_type": "stream",
     "text": [
      ">"
     ]
    },
    {
     "name": "stdout",
     "output_type": "stream",
     "text": [
      ">"
     ]
    },
    {
     "name": "stdout",
     "output_type": "stream",
     "text": [
      ">"
     ]
    },
    {
     "name": "stdout",
     "output_type": "stream",
     "text": [
      ">"
     ]
    },
    {
     "name": "stdout",
     "output_type": "stream",
     "text": [
      ">"
     ]
    },
    {
     "name": "stdout",
     "output_type": "stream",
     "text": [
      ">"
     ]
    },
    {
     "name": "stdout",
     "output_type": "stream",
     "text": [
      ">"
     ]
    },
    {
     "name": "stdout",
     "output_type": "stream",
     "text": [
      ">"
     ]
    },
    {
     "name": "stdout",
     "output_type": "stream",
     "text": [
      ">"
     ]
    },
    {
     "name": "stdout",
     "output_type": "stream",
     "text": [
      ">"
     ]
    },
    {
     "name": "stdout",
     "output_type": "stream",
     "text": [
      ">"
     ]
    },
    {
     "name": "stdout",
     "output_type": "stream",
     "text": [
      ">"
     ]
    },
    {
     "name": "stdout",
     "output_type": "stream",
     "text": [
      ">"
     ]
    },
    {
     "name": "stdout",
     "output_type": "stream",
     "text": [
      ">"
     ]
    },
    {
     "name": "stdout",
     "output_type": "stream",
     "text": [
      ">"
     ]
    },
    {
     "name": "stdout",
     "output_type": "stream",
     "text": [
      ">"
     ]
    },
    {
     "name": "stdout",
     "output_type": "stream",
     "text": [
      ">"
     ]
    },
    {
     "name": "stdout",
     "output_type": "stream",
     "text": [
      ">"
     ]
    },
    {
     "name": "stdout",
     "output_type": "stream",
     "text": [
      ">"
     ]
    },
    {
     "name": "stdout",
     "output_type": "stream",
     "text": [
      ">"
     ]
    },
    {
     "name": "stdout",
     "output_type": "stream",
     "text": [
      ">"
     ]
    },
    {
     "name": "stdout",
     "output_type": "stream",
     "text": [
      ">"
     ]
    },
    {
     "name": "stdout",
     "output_type": "stream",
     "text": [
      ">"
     ]
    },
    {
     "name": "stdout",
     "output_type": "stream",
     "text": [
      ">"
     ]
    },
    {
     "name": "stdout",
     "output_type": "stream",
     "text": [
      ">"
     ]
    },
    {
     "name": "stdout",
     "output_type": "stream",
     "text": [
      ">"
     ]
    },
    {
     "name": "stdout",
     "output_type": "stream",
     "text": [
      ">"
     ]
    },
    {
     "name": "stdout",
     "output_type": "stream",
     "text": [
      ">"
     ]
    },
    {
     "name": "stdout",
     "output_type": "stream",
     "text": [
      ">"
     ]
    },
    {
     "name": "stdout",
     "output_type": "stream",
     "text": [
      ">"
     ]
    },
    {
     "name": "stdout",
     "output_type": "stream",
     "text": [
      ">"
     ]
    },
    {
     "name": "stdout",
     "output_type": "stream",
     "text": [
      ">\n"
     ]
    },
    {
     "name": "stdout",
     "output_type": "stream",
     "text": [
      ">"
     ]
    },
    {
     "name": "stdout",
     "output_type": "stream",
     "text": [
      ">"
     ]
    },
    {
     "name": "stdout",
     "output_type": "stream",
     "text": [
      ">"
     ]
    },
    {
     "name": "stdout",
     "output_type": "stream",
     "text": [
      ">"
     ]
    },
    {
     "name": "stdout",
     "output_type": "stream",
     "text": [
      ">"
     ]
    },
    {
     "name": "stdout",
     "output_type": "stream",
     "text": [
      ">"
     ]
    },
    {
     "name": "stdout",
     "output_type": "stream",
     "text": [
      ">"
     ]
    },
    {
     "name": "stdout",
     "output_type": "stream",
     "text": [
      ">"
     ]
    },
    {
     "name": "stdout",
     "output_type": "stream",
     "text": [
      ">"
     ]
    },
    {
     "name": "stdout",
     "output_type": "stream",
     "text": [
      ">"
     ]
    },
    {
     "name": "stdout",
     "output_type": "stream",
     "text": [
      ">"
     ]
    },
    {
     "name": "stdout",
     "output_type": "stream",
     "text": [
      ">"
     ]
    },
    {
     "name": "stdout",
     "output_type": "stream",
     "text": [
      ">"
     ]
    },
    {
     "name": "stdout",
     "output_type": "stream",
     "text": [
      ">"
     ]
    },
    {
     "name": "stdout",
     "output_type": "stream",
     "text": [
      ">"
     ]
    },
    {
     "name": "stdout",
     "output_type": "stream",
     "text": [
      ">"
     ]
    },
    {
     "name": "stdout",
     "output_type": "stream",
     "text": [
      ">"
     ]
    },
    {
     "name": "stdout",
     "output_type": "stream",
     "text": [
      ">"
     ]
    },
    {
     "name": "stdout",
     "output_type": "stream",
     "text": [
      ">"
     ]
    },
    {
     "name": "stdout",
     "output_type": "stream",
     "text": [
      ">"
     ]
    },
    {
     "name": "stdout",
     "output_type": "stream",
     "text": [
      ">"
     ]
    },
    {
     "name": "stdout",
     "output_type": "stream",
     "text": [
      ">"
     ]
    },
    {
     "name": "stdout",
     "output_type": "stream",
     "text": [
      ">"
     ]
    },
    {
     "name": "stdout",
     "output_type": "stream",
     "text": [
      ">"
     ]
    },
    {
     "name": "stdout",
     "output_type": "stream",
     "text": [
      ">"
     ]
    },
    {
     "name": "stdout",
     "output_type": "stream",
     "text": [
      ">"
     ]
    },
    {
     "name": "stdout",
     "output_type": "stream",
     "text": [
      ">"
     ]
    },
    {
     "name": "stdout",
     "output_type": "stream",
     "text": [
      ">"
     ]
    },
    {
     "name": "stdout",
     "output_type": "stream",
     "text": [
      ">"
     ]
    },
    {
     "name": "stdout",
     "output_type": "stream",
     "text": [
      ">"
     ]
    },
    {
     "name": "stdout",
     "output_type": "stream",
     "text": [
      ">"
     ]
    },
    {
     "name": "stdout",
     "output_type": "stream",
     "text": [
      ">"
     ]
    },
    {
     "name": "stdout",
     "output_type": "stream",
     "text": [
      ">"
     ]
    },
    {
     "name": "stdout",
     "output_type": "stream",
     "text": [
      ">"
     ]
    },
    {
     "name": "stdout",
     "output_type": "stream",
     "text": [
      ">"
     ]
    },
    {
     "name": "stdout",
     "output_type": "stream",
     "text": [
      ">"
     ]
    },
    {
     "name": "stdout",
     "output_type": "stream",
     "text": [
      ">"
     ]
    },
    {
     "name": "stdout",
     "output_type": "stream",
     "text": [
      ">"
     ]
    },
    {
     "name": "stdout",
     "output_type": "stream",
     "text": [
      ">"
     ]
    },
    {
     "name": "stdout",
     "output_type": "stream",
     "text": [
      ">"
     ]
    },
    {
     "name": "stdout",
     "output_type": "stream",
     "text": [
      ">"
     ]
    },
    {
     "name": "stdout",
     "output_type": "stream",
     "text": [
      ">"
     ]
    },
    {
     "name": "stdout",
     "output_type": "stream",
     "text": [
      ">"
     ]
    },
    {
     "name": "stdout",
     "output_type": "stream",
     "text": [
      ">"
     ]
    },
    {
     "name": "stdout",
     "output_type": "stream",
     "text": [
      ">"
     ]
    },
    {
     "name": "stdout",
     "output_type": "stream",
     "text": [
      ">"
     ]
    },
    {
     "name": "stdout",
     "output_type": "stream",
     "text": [
      ">"
     ]
    },
    {
     "name": "stdout",
     "output_type": "stream",
     "text": [
      ">"
     ]
    },
    {
     "name": "stdout",
     "output_type": "stream",
     "text": [
      ">"
     ]
    },
    {
     "name": "stdout",
     "output_type": "stream",
     "text": [
      ">\n"
     ]
    },
    {
     "name": "stdout",
     "output_type": "stream",
     "text": [
      ">"
     ]
    },
    {
     "name": "stdout",
     "output_type": "stream",
     "text": [
      ">"
     ]
    },
    {
     "name": "stdout",
     "output_type": "stream",
     "text": [
      ">"
     ]
    },
    {
     "name": "stdout",
     "output_type": "stream",
     "text": [
      ">"
     ]
    },
    {
     "name": "stdout",
     "output_type": "stream",
     "text": [
      ">"
     ]
    },
    {
     "name": "stdout",
     "output_type": "stream",
     "text": [
      ">"
     ]
    },
    {
     "name": "stdout",
     "output_type": "stream",
     "text": [
      ">"
     ]
    },
    {
     "name": "stdout",
     "output_type": "stream",
     "text": [
      ">"
     ]
    },
    {
     "name": "stdout",
     "output_type": "stream",
     "text": [
      ">"
     ]
    },
    {
     "name": "stdout",
     "output_type": "stream",
     "text": [
      ">"
     ]
    },
    {
     "name": "stdout",
     "output_type": "stream",
     "text": [
      ">"
     ]
    },
    {
     "name": "stdout",
     "output_type": "stream",
     "text": [
      ">"
     ]
    },
    {
     "name": "stdout",
     "output_type": "stream",
     "text": [
      ">"
     ]
    },
    {
     "name": "stdout",
     "output_type": "stream",
     "text": [
      ">"
     ]
    },
    {
     "name": "stdout",
     "output_type": "stream",
     "text": [
      ">"
     ]
    },
    {
     "name": "stdout",
     "output_type": "stream",
     "text": [
      ">"
     ]
    },
    {
     "name": "stdout",
     "output_type": "stream",
     "text": [
      ">"
     ]
    },
    {
     "name": "stdout",
     "output_type": "stream",
     "text": [
      ">"
     ]
    },
    {
     "name": "stdout",
     "output_type": "stream",
     "text": [
      ">"
     ]
    },
    {
     "name": "stdout",
     "output_type": "stream",
     "text": [
      ">"
     ]
    },
    {
     "name": "stdout",
     "output_type": "stream",
     "text": [
      ">"
     ]
    },
    {
     "name": "stdout",
     "output_type": "stream",
     "text": [
      ">"
     ]
    },
    {
     "name": "stdout",
     "output_type": "stream",
     "text": [
      ">"
     ]
    },
    {
     "name": "stdout",
     "output_type": "stream",
     "text": [
      ">"
     ]
    },
    {
     "name": "stdout",
     "output_type": "stream",
     "text": [
      ">"
     ]
    },
    {
     "name": "stdout",
     "output_type": "stream",
     "text": [
      ">"
     ]
    },
    {
     "name": "stdout",
     "output_type": "stream",
     "text": [
      ">"
     ]
    },
    {
     "name": "stdout",
     "output_type": "stream",
     "text": [
      ">"
     ]
    },
    {
     "name": "stdout",
     "output_type": "stream",
     "text": [
      ">"
     ]
    },
    {
     "name": "stdout",
     "output_type": "stream",
     "text": [
      ">"
     ]
    },
    {
     "name": "stdout",
     "output_type": "stream",
     "text": [
      ">"
     ]
    },
    {
     "name": "stdout",
     "output_type": "stream",
     "text": [
      ">"
     ]
    },
    {
     "name": "stdout",
     "output_type": "stream",
     "text": [
      ">"
     ]
    },
    {
     "name": "stdout",
     "output_type": "stream",
     "text": [
      ">"
     ]
    },
    {
     "name": "stdout",
     "output_type": "stream",
     "text": [
      ">"
     ]
    },
    {
     "name": "stdout",
     "output_type": "stream",
     "text": [
      ">"
     ]
    },
    {
     "name": "stdout",
     "output_type": "stream",
     "text": [
      ">"
     ]
    },
    {
     "name": "stdout",
     "output_type": "stream",
     "text": [
      ">"
     ]
    },
    {
     "name": "stdout",
     "output_type": "stream",
     "text": [
      ">"
     ]
    },
    {
     "name": "stdout",
     "output_type": "stream",
     "text": [
      ">"
     ]
    },
    {
     "name": "stdout",
     "output_type": "stream",
     "text": [
      ">"
     ]
    },
    {
     "name": "stdout",
     "output_type": "stream",
     "text": [
      ">"
     ]
    },
    {
     "name": "stdout",
     "output_type": "stream",
     "text": [
      ">"
     ]
    },
    {
     "name": "stdout",
     "output_type": "stream",
     "text": [
      ">"
     ]
    },
    {
     "name": "stdout",
     "output_type": "stream",
     "text": [
      ">"
     ]
    },
    {
     "name": "stdout",
     "output_type": "stream",
     "text": [
      ">"
     ]
    },
    {
     "name": "stdout",
     "output_type": "stream",
     "text": [
      ">"
     ]
    },
    {
     "name": "stdout",
     "output_type": "stream",
     "text": [
      ">"
     ]
    },
    {
     "name": "stdout",
     "output_type": "stream",
     "text": [
      ">"
     ]
    },
    {
     "name": "stdout",
     "output_type": "stream",
     "text": [
      ">\n"
     ]
    },
    {
     "name": "stdout",
     "output_type": "stream",
     "text": [
      ">"
     ]
    },
    {
     "name": "stdout",
     "output_type": "stream",
     "text": [
      ">"
     ]
    },
    {
     "name": "stdout",
     "output_type": "stream",
     "text": [
      ">"
     ]
    },
    {
     "name": "stdout",
     "output_type": "stream",
     "text": [
      ">"
     ]
    },
    {
     "name": "stdout",
     "output_type": "stream",
     "text": [
      ">"
     ]
    },
    {
     "name": "stdout",
     "output_type": "stream",
     "text": [
      ">"
     ]
    },
    {
     "name": "stdout",
     "output_type": "stream",
     "text": [
      ">"
     ]
    },
    {
     "name": "stdout",
     "output_type": "stream",
     "text": [
      ">"
     ]
    },
    {
     "name": "stdout",
     "output_type": "stream",
     "text": [
      ">"
     ]
    },
    {
     "name": "stdout",
     "output_type": "stream",
     "text": [
      ">"
     ]
    },
    {
     "name": "stdout",
     "output_type": "stream",
     "text": [
      ">"
     ]
    },
    {
     "name": "stdout",
     "output_type": "stream",
     "text": [
      ">"
     ]
    },
    {
     "name": "stdout",
     "output_type": "stream",
     "text": [
      ">"
     ]
    },
    {
     "name": "stdout",
     "output_type": "stream",
     "text": [
      ">"
     ]
    },
    {
     "name": "stdout",
     "output_type": "stream",
     "text": [
      ">"
     ]
    },
    {
     "name": "stdout",
     "output_type": "stream",
     "text": [
      ">"
     ]
    },
    {
     "name": "stdout",
     "output_type": "stream",
     "text": [
      ">"
     ]
    },
    {
     "name": "stdout",
     "output_type": "stream",
     "text": [
      ">"
     ]
    },
    {
     "name": "stdout",
     "output_type": "stream",
     "text": [
      ">"
     ]
    },
    {
     "name": "stdout",
     "output_type": "stream",
     "text": [
      ">"
     ]
    },
    {
     "name": "stdout",
     "output_type": "stream",
     "text": [
      ">"
     ]
    },
    {
     "name": "stdout",
     "output_type": "stream",
     "text": [
      ">"
     ]
    },
    {
     "name": "stdout",
     "output_type": "stream",
     "text": [
      ">"
     ]
    },
    {
     "name": "stdout",
     "output_type": "stream",
     "text": [
      ">"
     ]
    },
    {
     "name": "stdout",
     "output_type": "stream",
     "text": [
      ">"
     ]
    },
    {
     "name": "stdout",
     "output_type": "stream",
     "text": [
      ">"
     ]
    },
    {
     "name": "stdout",
     "output_type": "stream",
     "text": [
      ">"
     ]
    },
    {
     "name": "stdout",
     "output_type": "stream",
     "text": [
      ">"
     ]
    },
    {
     "name": "stdout",
     "output_type": "stream",
     "text": [
      ">"
     ]
    },
    {
     "name": "stdout",
     "output_type": "stream",
     "text": [
      ">"
     ]
    },
    {
     "name": "stdout",
     "output_type": "stream",
     "text": [
      ">"
     ]
    },
    {
     "name": "stdout",
     "output_type": "stream",
     "text": [
      ">"
     ]
    },
    {
     "name": "stdout",
     "output_type": "stream",
     "text": [
      ">"
     ]
    },
    {
     "name": "stdout",
     "output_type": "stream",
     "text": [
      ">"
     ]
    },
    {
     "name": "stdout",
     "output_type": "stream",
     "text": [
      ">"
     ]
    },
    {
     "name": "stdout",
     "output_type": "stream",
     "text": [
      ">"
     ]
    },
    {
     "name": "stdout",
     "output_type": "stream",
     "text": [
      ">"
     ]
    },
    {
     "name": "stdout",
     "output_type": "stream",
     "text": [
      ">"
     ]
    },
    {
     "name": "stdout",
     "output_type": "stream",
     "text": [
      ">"
     ]
    },
    {
     "name": "stdout",
     "output_type": "stream",
     "text": [
      ">"
     ]
    },
    {
     "name": "stdout",
     "output_type": "stream",
     "text": [
      ">"
     ]
    },
    {
     "name": "stdout",
     "output_type": "stream",
     "text": [
      ">"
     ]
    },
    {
     "name": "stdout",
     "output_type": "stream",
     "text": [
      ">"
     ]
    },
    {
     "name": "stdout",
     "output_type": "stream",
     "text": [
      ">"
     ]
    },
    {
     "name": "stdout",
     "output_type": "stream",
     "text": [
      ">"
     ]
    },
    {
     "name": "stdout",
     "output_type": "stream",
     "text": [
      ">"
     ]
    },
    {
     "name": "stdout",
     "output_type": "stream",
     "text": [
      ">"
     ]
    },
    {
     "name": "stdout",
     "output_type": "stream",
     "text": [
      ">"
     ]
    },
    {
     "name": "stdout",
     "output_type": "stream",
     "text": [
      ">"
     ]
    },
    {
     "name": "stdout",
     "output_type": "stream",
     "text": [
      ">\n"
     ]
    },
    {
     "name": "stdout",
     "output_type": "stream",
     "text": [
      ">"
     ]
    },
    {
     "name": "stdout",
     "output_type": "stream",
     "text": [
      ">"
     ]
    },
    {
     "name": "stdout",
     "output_type": "stream",
     "text": [
      ">"
     ]
    },
    {
     "name": "stdout",
     "output_type": "stream",
     "text": [
      ">"
     ]
    },
    {
     "name": "stdout",
     "output_type": "stream",
     "text": [
      ">"
     ]
    },
    {
     "name": "stdout",
     "output_type": "stream",
     "text": [
      ">"
     ]
    },
    {
     "name": "stdout",
     "output_type": "stream",
     "text": [
      ">"
     ]
    },
    {
     "name": "stdout",
     "output_type": "stream",
     "text": [
      ">"
     ]
    },
    {
     "name": "stdout",
     "output_type": "stream",
     "text": [
      ">"
     ]
    },
    {
     "name": "stdout",
     "output_type": "stream",
     "text": [
      ">"
     ]
    },
    {
     "name": "stdout",
     "output_type": "stream",
     "text": [
      ">"
     ]
    },
    {
     "name": "stdout",
     "output_type": "stream",
     "text": [
      ">"
     ]
    },
    {
     "name": "stdout",
     "output_type": "stream",
     "text": [
      ">"
     ]
    },
    {
     "name": "stdout",
     "output_type": "stream",
     "text": [
      ">"
     ]
    },
    {
     "name": "stdout",
     "output_type": "stream",
     "text": [
      ">"
     ]
    },
    {
     "name": "stdout",
     "output_type": "stream",
     "text": [
      ">"
     ]
    },
    {
     "name": "stdout",
     "output_type": "stream",
     "text": [
      ">"
     ]
    },
    {
     "name": "stdout",
     "output_type": "stream",
     "text": [
      ">"
     ]
    },
    {
     "name": "stdout",
     "output_type": "stream",
     "text": [
      ">"
     ]
    },
    {
     "name": "stdout",
     "output_type": "stream",
     "text": [
      ">"
     ]
    },
    {
     "name": "stdout",
     "output_type": "stream",
     "text": [
      ">"
     ]
    },
    {
     "name": "stdout",
     "output_type": "stream",
     "text": [
      ">"
     ]
    },
    {
     "name": "stdout",
     "output_type": "stream",
     "text": [
      ">"
     ]
    },
    {
     "name": "stdout",
     "output_type": "stream",
     "text": [
      ">"
     ]
    },
    {
     "name": "stdout",
     "output_type": "stream",
     "text": [
      ">"
     ]
    },
    {
     "name": "stdout",
     "output_type": "stream",
     "text": [
      "\n",
      "Iteration   logZ        H     LowL     npar    parameters\n",
      "   52438   7324.9     52.4   7381.1      8  [    0.517    0.671   25.841    2.853    1.572    3.356    4.898    0.037]\n"
     ]
    },
    {
     "name": "stdout",
     "output_type": "stream",
     "text": [
      "Engines              success     reject     failed       best      calls\n",
      "GalileanEngine        358733     119524     136225        113      52438\n",
      "ChordEngine           367614     683273          0         30      52438\n",
      "Calls to LogL        1665369   to dLogL     119524\n",
      "Samples       52938\n",
      "Evidence      3181.183 +-      0.141\n"
     ]
    }
   ],
   "source": [
    "problem = MultipleOutputProblem( model=mdl, xdata=yr, ydata=pos, \n",
    "                                weights=wgt )\n",
    "# define NestedSampler\n",
    "ns = NestedSampler( problem=problem, seed=80409 )\n",
    "ns.ensemble = 500\n",
    "# set limits on the noise scale of the distribution\n",
    "ns.distribution.setLimits( [0.01,100] )\n",
    "# ns.verbose = 2\n",
    "# run NestedSampler\n",
    "evi = ns.sample( )"
   ]
  },
  {
   "cell_type": "markdown",
   "metadata": {},
   "source": [
    "Print parameters and standard deviations, first as they were derived and then in an alternative form with angles in \"degrees\" and the periastron in years."
   ]
  },
  {
   "cell_type": "code",
   "execution_count": 9,
   "metadata": {},
   "outputs": [
    {
     "name": "stdout",
     "output_type": "stream",
     "text": [
      "          eccentri semimajo   period periastr inclinat ascendin ascendin\n",
      "Pars    [    0.516    0.671   25.841    2.854    1.572    3.356    4.898]\n",
      "Stdev   [    0.005    0.003    0.005    0.005    0.001    0.002    0.002]\n",
      "Par_alt [    0.516    0.671   25.841 1911.736   90.041  192.260  280.650]\n",
      "Std_alt [    0.005    0.003    0.005    0.019    0.070    0.096    0.141]\n"
     ]
    },
    {
     "name": "stdout",
     "output_type": "stream",
     "text": [
      "Scale          0.037 +-     0.000\n",
      "Evidence    3181.183\n",
      "periastron times\n",
      " 1834.213 1860.054 1885.895 1911.736 1937.577 1963.418 1989.259 2015.100 2040.941\n"
     ]
    }
   ],
   "source": [
    "sl = ns.samples\n",
    "par = sl.parameters\n",
    "std = sl.stdevs\n",
    "pard = par.copy()\n",
    "pard[3:] *= 180 / math.pi\n",
    "pard[3] *= pard[2] / 360\n",
    "pard[3] += 1900\n",
    "stda = std.copy()\n",
    "stda[3:] *= 180 / math.pi\n",
    "stda[3] *= pard[2] / 360\n",
    "names = mdl.parNames\n",
    "print( \"         \", end=\"\" )\n",
    "for nm in names :\n",
    "    print( \" %8.8s\"% nm, end=\"\" )\n",
    "print()\n",
    "print( \"Pars   \", fmt( par, max=None ) )\n",
    "print( \"Stdev  \", fmt( std, max=None ) )\n",
    "print( \"Par_alt\", fmt( pard, max=None ) )\n",
    "print( \"Std_alt\", fmt( stda, max=None ) )\n",
    "print( \"Scale     \", fmt( sl.scale ), \"+-\", fmt( sl.stdevScale ) )\n",
    "print( \"Evidence  \", fmt( evi ) )\n",
    "print( \"periastron times\" )\n",
    "for k in range( -3, 6 ) :\n",
    "    print( fmt( pard[3] + k * par[2] ), end='' )\n",
    "print()\n",
    "\n"
   ]
  },
  {
   "cell_type": "code",
   "execution_count": 10,
   "metadata": {},
   "outputs": [
    {
     "data": {
      "image/png": "[encoded data removed]",
      "text/plain": [
       "<Figure size 864x360 with 1 Axes>"
      ]
     },
     "metadata": {
      "needs_background": "light"
     },
     "output_type": "display_data"
    }
   ],
   "source": [
    "plt.figure( \"results\", figsize=(12,5) )\n",
    "plt.plot( yr, xpos, 'r.' )\n",
    "plt.plot( yr, ypos, 'g.' )\n",
    "xx = numpy.linspace( yr[0], yr[-1], 201, dtype=float )\n",
    "yy = mdl.result( xx, par )\n",
    "plt.plot( xx, yy[:,0], 'r-' )\n",
    "plt.plot( xx, yy[:,1], 'g-' )\n",
    "\n",
    "plt.xlabel( \"Year (- 1900)\")\n",
    "plt.ylabel( \"position ( x:red, y:green )\")\n",
    "plt.title( \"Alpha Comae\" )\n",
    "plt.show()"
   ]
  },
  {
   "cell_type": "code",
   "execution_count": 11,
   "metadata": {},
   "outputs": [
    {
     "data": {
      "image/png": "[encoded data removed]",
      "text/plain": [
       "<Figure size 864x360 with 1 Axes>"
      ]
     },
     "metadata": {
      "needs_background": "light"
     },
     "output_type": "display_data"
    }
   ],
   "source": [
    "plt.figure( \"Residuals\", figsize=(12,5) )\n",
    "yf = mdl.result( yr, par )\n",
    "xres = xpos - yf[:,0]\n",
    "yres = ypos - yf[:,1]\n",
    "plt.plot( yr, xres, 'r.' )\n",
    "plt.plot( yr, yres, 'g.' )\n",
    "plt.xlabel( \"Year (-1900)\")\n",
    "plt.ylabel( \"residuals ( x:red, y:green )\")\n",
    "plt.show()"
   ]
  },
  {
   "cell_type": "code",
   "execution_count": 12,
   "metadata": {},
   "outputs": [
    {
     "data": {
      "image/png": "[encoded data removed]",
      "text/plain": [
       "<Figure size 432x288 with 1 Axes>"
      ]
     },
     "metadata": {
      "needs_background": "light"
     },
     "output_type": "display_data"
    }
   ],
   "source": [
    "wt = nts / ( 100 * erd )\n",
    "\n",
    "plt.figure( \"residuals vs weigts\" )\n",
    "plt.plot( wt, wt*xres, 'r.' )\n",
    "plt.plot( wt, wt*yres, 'g.' )\n",
    "plt.show()"
   ]
  },
  {
   "cell_type": "markdown",
   "metadata": {},
   "source": [
    "### Check if there are (still) mirror-data residuals which are smaller than the proper residuals. \n",
    "\n",
    "In the 1st stage there were 13 of those points.\n",
    "\n",
    "In the 2nd stage there are none left."
   ]
  },
  {
   "cell_type": "code",
   "execution_count": 13,
   "metadata": {},
   "outputs": [
    {
     "name": "stdout",
     "output_type": "stream",
     "text": [
      "(array([], dtype=int64),)\n"
     ]
    }
   ],
   "source": [
    "resp = numpy.sum( numpy.square( +pos - yf ), 1 )\n",
    "resm = numpy.sum( numpy.square( -pos - yf ), 1 )\n",
    "q = numpy.where( resp > resm )\n",
    "print( q )\n",
    "for k in q[0] :\n",
    "    print( fmt(k),fmt(yr[k]), fmt(pos[k,:]),fmt(resp[k]), fmt(resm[k]) )\n"
   ]
  },
  {
   "cell_type": "markdown",
   "metadata": {},
   "source": [
    "We have a consistent solution i.e. one where all sky angles are consistent with the model derived.\n",
    "\n",
    "What about eclipsing in 2014/5. \n",
    "Using the optimal average solution for the parameters, it seems that the closest approach is on 22 dec 2014. \n",
    "\n",
    "\n",
    "The stars will eclipse when their distance is less than 2 times the angular radius of the stars. The stars are both of the F5V type which are about 1.3 times larger than the sun.  The stars are at a distance of 58.1 lightyear.\n",
    "\n",
    "The results are that an eclipse will occur when the distance is less than about 0.7 mas."
   ]
  },
  {
   "cell_type": "code",
   "execution_count": 14,
   "metadata": {},
   "outputs": [
    {
     "name": "stdout",
     "output_type": "stream",
     "text": [
      "0.000679444211246303\n"
     ]
    }
   ],
   "source": [
    "distance = 58.1 * 9.46e12\n",
    "radsol = 696342\n",
    "size = 180 * 3600 / math.pi * 1.3 * radsol / distance\n",
    "print( 2 * size )\n",
    "\n"
   ]
  },
  {
   "cell_type": "code",
   "execution_count": 15,
   "metadata": {},
   "outputs": [
    {
     "name": "stdout",
     "output_type": "stream",
     "text": [
      "325 20 22 nov\n"
     ]
    },
    {
     "data": {
      "image/png": "[encoded data removed]",
      "text/plain": [
       "<Figure size 432x288 with 1 Axes>"
      ]
     },
     "metadata": {
      "needs_background": "light"
     },
     "output_type": "display_data"
    },
    {
     "name": "stdout",
     "output_type": "stream",
     "text": [
      "time of closest   2014.890\n",
      "     2014   324.889     0.233\n"
     ]
    }
   ],
   "source": [
    "mnts = [31,28,31,30,31,30,31,31,30,31,30,31]\n",
    "mnms = ['jan','feb','mar','apr','may','jun','jul','aug','sep','oct','nov','dec']\n",
    "\n",
    "ys = numpy.linspace( 114., 116., 731, dtype=float )   # 2 years in days\n",
    "xs = mdl.result( ys, par )\n",
    "rs = numpy.sqrt( numpy.square( xs[:,0] ) + numpy.square( xs[:,1] ) )\n",
    "krs = numpy.argmin( rs )\n",
    "\n",
    "k0 = math.floor( krs - 1 )\n",
    "k1 = math.ceil( krs + 1 )\n",
    "\n",
    "npt = 37\n",
    "y0 = 2014.0 + k0/365         # 20 nov 2014 (1 jan starts at 0)\n",
    "y1 = 2014.0 + k1/365         # 22 nov 2014\n",
    "for j in range( 12 ):\n",
    "    mname = mnms[j]\n",
    "    if k0 - mnts[j] < 0 :\n",
    "        break\n",
    "    k0 -= mnts[j]\n",
    "    k1 -= mnts[j]\n",
    "\n",
    "print( krs, k0, k1, mname )\n",
    "\n",
    "ys = numpy.linspace( y0-1900, y1-1900, npt )\n",
    "xs = mdl.result( ys, par )\n",
    "rs = numpy.sqrt( numpy.square( xs[:,0] ) + numpy.square( xs[:,1] ) )\n",
    "march = numpy.linspace( k0, k1, npt )\n",
    "plt.plot( march, rs, 'k-' )\n",
    "plt.plot( march, rs, 'r.' )\n",
    "plt.xlabel( mname + \", 2014\" )\n",
    "plt.ylabel( \"distance in arcsec\" )\n",
    "plt.show()\n",
    "mn = numpy.argmin( rs )\n",
    "ysm = ys[mn] + 1900\n",
    "print( \"time of closest \", fmt(ysm) )\n",
    "ym = int( ysm )\n",
    "day = 365.0 * ( ysm - ym )\n",
    "print( fmt( ym ), fmt( day ), fmt( 1000 * rs[mn] ) )"
   ]
  },
  {
   "cell_type": "markdown",
   "metadata": {},
   "source": [
    "However we should use the posterior for drawing such conclusions. We have the posterior in the form of samples with an associated weight.\n",
    "For each sample we run the model and determine the closest passage to the origin (where ACom A) sits. For the closest approach we get the time, the distance and the duration the orbit stays closer than 0.7 mas."
   ]
  },
  {
   "cell_type": "code",
   "execution_count": 16,
   "metadata": {},
   "outputs": [
    {
     "name": "stdout",
     "output_type": "stream",
     "text": [
      "sumwgts       1.000\n",
      "distance      0.367 +-     0.282 (mas)\n",
      "eclipse?     87.980 %\n",
      "time       2014.890 +-     2.700 (days)\n"
     ]
    }
   ],
   "source": [
    "ys = numpy.linspace( 114., 116., 731, dtype=float )   # 2 years in days\n",
    "ym = numpy.linspace( -2, 2, 97 ) / 365.            # 2 days on each side in hours\n",
    "histy = numpy.zeros( 101 )\n",
    "histp = numpy.zeros( 101 )\n",
    "histr = numpy.zeros( 201 )\n",
    "histw = numpy.zeros( 201 )\n",
    "mnts = [31,28,31,30,31,30,31,31,30,31,30,31]\n",
    "mnms = ['jan','feb','mar','apr','may','jun','jul','aug','sep','oct','nov','dec']\n",
    "sw = sx = sx2 = sy = sy2 = perc = 0\n",
    "for s in sl :\n",
    "    if s.logW < -40.0 : continue      # they do not contribute\n",
    "    wgt = s.weight\n",
    "    \n",
    "    xs = mdl.result( ys, s.parameters )\n",
    "    rs = numpy.sqrt( numpy.square( xs[:,0] ) + numpy.square( xs[:,1] ) )\n",
    "\n",
    "    krs = numpy.argmin( rs )\n",
    "    if krs == 0 or krs == 731 : continue      # no minimum found\n",
    "    \n",
    "    sw += wgt\n",
    "    yms = ys[krs] + ym\n",
    "    xms = mdl.result( yms, s.parameters )\n",
    "    rms = numpy.sqrt( numpy.square( xms[:,0] ) + numpy.square( xms[:,1] ) )\n",
    "    km = numpy.argmin( rms )\n",
    "    yclose = yms[km]\n",
    "    yday = ( yclose - int( yclose ) ) * 365\n",
    "    for n,month in zip( mnts, mnms ) :\n",
    "        if yday < n : break\n",
    "        yday -= n\n",
    "    yhour = ( yday - int( yday ) ) * 24\n",
    "    kh = int( ( ( yclose - 114 ) * 365 - 300 ) * 1 )\n",
    "    if kh < 0 : kh = 0\n",
    "    if kh > 100 : kh = 100\n",
    "    histy[kh] += wgt\n",
    "    xclose = rms[km]\n",
    "    kr = int( xclose * 40000 )\n",
    "    if kr > 200 : kr = 200\n",
    "    histr[kr] += wgt\n",
    "    q = numpy.where( rms < 0.0007 )[0]\n",
    "    lq = 2 * len( q )\n",
    "    if lq > 200 : lq = 200\n",
    "    if lq > 1 : histw[lq:lq+2] += wgt\n",
    "    if xclose < 0.0007 :\n",
    "        perc += wgt\n",
    "        histp[kh] += wgt\n",
    "    #print( \"%4d-%s-%2d:%2d\"%( int(ys[krs]+1900), month, \n",
    "    #        int(yday), int(yhour) ), fmt(1000*xclose), lq )\n",
    "    sy += wgt * yclose\n",
    "    sy2 += wgt * yclose * yclose\n",
    "    sx += wgt * xclose\n",
    "    sx2 += wgt * xclose * xclose\n",
    "\n",
    "sx /= sw\n",
    "sy /= sw \n",
    "perc /= sw\n",
    "perc *= 100\n",
    "sx2 = math.sqrt( sx2/sw - sx * sx )\n",
    "sy2 = math.sqrt( sy2/sw - sy * sy )\n",
    "sy2 *= 365\n",
    "sy += 1900\n",
    "print( \"sumwgts  \", fmt( sw ) )\n",
    "print( \"distance \", fmt(1000*sx), \"+-\", fmt(1000*sx2), \"(mas)\" )\n",
    "print( \"eclipse? \", fmt(perc), \"%\" )\n",
    "print( \"time     \", fmt(sy), \"+-\", fmt(sy2), \"(days)\" )\n"
   ]
  },
  {
   "cell_type": "markdown",
   "metadata": {},
   "source": [
    "Plot 2 histograms. \n",
    "The first one with the times of closest approach: all in black; the eclipsing ones in red.\n",
    "The second one shows the distances on the bottom scale. Again all in black and the eclipsing ones in red. In the same plot in green, is the duration of the eclipse (if so) on the top scale in hours. "
   ]
  },
  {
   "cell_type": "code",
   "execution_count": 17,
   "metadata": {},
   "outputs": [
    {
     "data": {
      "image/png": "[encoded data removed]",
      "text/plain": [
       "<Figure size 432x288 with 1 Axes>"
      ]
     },
     "metadata": {
      "needs_background": "light"
     },
     "output_type": "display_data"
    },
    {
     "data": {
      "image/png": "[encoded data removed]",
      "text/plain": [
       "<Figure size 432x288 with 2 Axes>"
      ]
     },
     "metadata": {
      "needs_background": "light"
     },
     "output_type": "display_data"
    }
   ],
   "source": [
    "## Smooth the histograms somewhat. \n",
    "## Even now the wiggles are probably unreal. \n",
    "nb = 5\n",
    "box = numpy.ones( nb, dtype=float ) / nb\n",
    "ons = numpy.ones_like( histr )\n",
    "for k in range( 1 ) :\n",
    "    histy = numpy.convolve( histy, box, mode=\"same\" )\n",
    "    histp = numpy.convolve( histp, box, mode=\"same\" )\n",
    "    histr = numpy.convolve( histr, box, mode=\"same\" )\n",
    "    histw = numpy.convolve( histw, box, mode=\"same\" )\n",
    "    ons = numpy.convolve( ons, box, mode=\"same\" )\n",
    "histr /= ons\n",
    "histw /= ons\n",
    "\n",
    "hyx = numpy.linspace( 280, 380, 101 )\n",
    "plt.plot( hyx, histy, 'k-' )\n",
    "plt.plot( hyx, histp, 'r-' )\n",
    "plt.xlabel( \"Day of closest separation\" )\n",
    "plt.ylabel( \"Histrogram (red=eclipse)\")\n",
    "plt.xlim( 280, 320 )\n",
    "plt.show()\n",
    "hxx = numpy.linspace( 0, 5, 201 )\n",
    "\n",
    "fig, ax1 = plt.subplots()\n",
    "color = 'tab:red'\n",
    "ax1.set_xlabel('closest separation (mas)')\n",
    "ax1.set_ylabel('Histogram' )\n",
    "ax1.plot( hxx, histr, 'k-' )\n",
    "ax1.plot( hxx[:28], histr[:28], 'r-' )\n",
    "\n",
    "ax2 = ax1.twiny()  # instantiate a second axes that shares the same x-axis\n",
    "color = 'tab:green'\n",
    "ax2.set_xlabel('number of eclipsing hours', color=color)  \n",
    "hxw = numpy.linspace( 0, 100, 201 )\n",
    "ax2.plot( hxw, histw, 'g-' )\n",
    "ax2.tick_params(axis='x', labelcolor=color)\n",
    "\n",
    "\n",
    "plt.show()"
   ]
  },
  {
   "cell_type": "markdown",
   "metadata": {},
   "source": [
    "We can do the same for the possible eclipses in 2026 and 2040. \n",
    "It suggests that we get eclipses at both times, but full posterior analysis will probably temper our hopes. Moreover it is further in the future where projections deteriorate. \n"
   ]
  },
  {
   "cell_type": "code",
   "execution_count": 18,
   "metadata": {},
   "outputs": [
    {
     "name": "stdout",
     "output_type": "stream",
     "text": [
      "2025 362 26 29 dec\n"
     ]
    },
    {
     "data": {
      "image/png": "[encoded data removed]",
      "text/plain": [
       "<Figure size 432x288 with 1 Axes>"
      ]
     },
     "metadata": {
      "needs_background": "light"
     },
     "output_type": "display_data"
    },
    {
     "name": "stdout",
     "output_type": "stream",
     "text": [
      "2025.992979452055\n",
      "     2025   362.438     0.714\n"
     ]
    }
   ],
   "source": [
    "ys = numpy.linspace( 125., 127., 731, dtype=float )   # 2 years in days\n",
    "xs = mdl.result( ys, par )\n",
    "rs = numpy.sqrt( numpy.square( xs[:,0] ) + numpy.square( xs[:,1] ) )\n",
    "krs = numpy.argmin( rs )\n",
    "\n",
    "k0 = math.floor( krs - 2 )\n",
    "k1 = math.ceil( krs + 1 )\n",
    "\n",
    "npt = 49\n",
    "y0 = 2025.0 + k0/365\n",
    "y1 = 2025.0 + k1/365\n",
    "ny = 2025\n",
    "for jj in range( 24 ):\n",
    "    j = jj % 12\n",
    "    mname = mnms[j]\n",
    "    if k0 - mnts[j] < 0 :\n",
    "        break\n",
    "    k0 -= mnts[j]\n",
    "    k1 -= mnts[j]\n",
    "ny += jj // 12\n",
    "\n",
    "print( ny, krs, k0, k1, mname )\n",
    "\n",
    "ys = numpy.linspace( y0-1900, y1-1900, npt )\n",
    "xs = mdl.result( ys, par )\n",
    "rs = numpy.sqrt( numpy.square( xs[:,0] ) + numpy.square( xs[:,1] ) )\n",
    "march = numpy.linspace( k0, k1, npt )\n",
    "plt.plot( march, rs, 'k-' )\n",
    "plt.plot( march, rs, 'r.' )\n",
    "plt.xlabel( \"%s, %d\"%(mname, ny) )\n",
    "plt.ylabel( \"distance in arcsec\" )\n",
    "plt.show()\n",
    "mn = numpy.argmin( rs )\n",
    "ysm = ys[mn] + 1900\n",
    "print( ysm )\n",
    "ym = int( ysm )\n",
    "day = 365.0 * ( ysm - ym )\n",
    "print( fmt( ym ), fmt( day ), fmt( 1000 * rs[mn] ) )"
   ]
  },
  {
   "cell_type": "code",
   "execution_count": 19,
   "metadata": {},
   "outputs": [
    {
     "name": "stdout",
     "output_type": "stream",
     "text": [
      "268 266 269\n",
      "268 22 25 sep\n"
     ]
    },
    {
     "data": {
      "image/png": "[encoded data removed]",
      "text/plain": [
       "<Figure size 432x288 with 1 Axes>"
      ]
     },
     "metadata": {
      "needs_background": "light"
     },
     "output_type": "display_data"
    },
    {
     "name": "stdout",
     "output_type": "stream",
     "text": [
      "2040.7310502283106\n"
     ]
    }
   ],
   "source": [
    "mnts[1] = 29       ## 2040 is leap year\n",
    "ys = numpy.linspace( 140., 141., 367, dtype=float )   # 1 leap years in days\n",
    "xs = mdl.result( ys, par )\n",
    "rs = numpy.sqrt( numpy.square( xs[:,0] ) + numpy.square( xs[:,1] ) )\n",
    "krs = numpy.argmin( rs )\n",
    "\n",
    "k0 = math.floor( krs - 2 )\n",
    "k1 = math.ceil( krs + 1 )\n",
    "print( krs, k0, k1 )\n",
    "npt = 37\n",
    "y0 = 2040.0 + k0/365\n",
    "y1 = 2040.0 + k1/365\n",
    "for j in range( 12 ):\n",
    "    mname = mnms[j]\n",
    "    if k0 - mnts[j] < 0 :\n",
    "        break\n",
    "    k0 -= mnts[j]\n",
    "    k1 -= mnts[j]\n",
    "\n",
    "print( krs, k0, k1, mname )\n",
    "\n",
    "ys = numpy.linspace( y0-1900, y1-1900, npt )\n",
    "xs = mdl.result( ys, par )\n",
    "rs = numpy.sqrt( numpy.square( xs[:,0] ) + numpy.square( xs[:,1] ) )\n",
    "nov = numpy.linspace( k0, k1, npt )\n",
    "#plt.plot( ys, rs, 'k.' )\n",
    "plt.plot( nov, rs, 'k-' )\n",
    "plt.plot( nov, rs, 'r.' )\n",
    "plt.xlabel( mname + \", 2040\" )\n",
    "plt.ylabel( \"distance in arcsec\" )\n",
    "plt.show()\n",
    "mn = numpy.argmin( rs )\n",
    "ysm = ys[mn] + 1900\n",
    "print( ysm )\n",
    "ym = int( ysm )\n",
    "day = 366.0 * ( ysm - ym )\n",
    "#print( fmt( ym ), fmt( day ), fmt( 1000 * rs[mn] ) )\n"
   ]
  },
  {
   "cell_type": "code",
   "execution_count": null,
   "metadata": {},
   "outputs": [],
   "source": []
  },
  {
   "cell_type": "code",
   "execution_count": null,
   "metadata": {},
   "outputs": [],
   "source": []
  }
 ],
 "metadata": {
  "anaconda-cloud": {},
  "kernelspec": {
   "display_name": "Python 3",
   "language": "python",
   "name": "python3"
  },
  "language_info": {
   "codemirror_mode": {
    "name": "ipython",
    "version": 3
   },
   "file_extension": ".py",
   "mimetype": "text/x-python",
   "name": "python",
   "nbconvert_exporter": "python",
   "pygments_lexer": "ipython3",
   "version": "3.6.8"
  }
 },
 "nbformat": 4,
 "nbformat_minor": 1
}
