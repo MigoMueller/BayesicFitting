{
 "cells": [
  {
   "cell_type": "markdown",
   "metadata": {},
   "source": [
    "## HD 2039\n",
    "\n",
    "Radial velocity data for HD2039 were obtained from Tinney et al.(2003).\n",
    "\n",
    "\n",
    "Author: Do Kester\n"
   ]
  },
  {
   "cell_type": "markdown",
   "metadata": {},
   "source": [
    "We need to import some classes"
   ]
  },
  {
   "cell_type": "code",
   "execution_count": 1,
   "metadata": {},
   "outputs": [],
   "source": [
    "import numpy as numpy\n",
    "import math\n",
    "\n",
    "from astropy.io import ascii\n",
    "from BayesicFitting import RadialVelocityModel\n",
    "from BayesicFitting import PolynomialModel\n",
    "from BayesicFitting import CircularUniformPrior\n",
    "\n",
    "from BayesicFitting import NestedSampler\n",
    "from BayesicFitting import formatter as fmt\n",
    "from BayesicFitting import plotFit\n",
    "from BayesicFitting import Tools\n",
    "import matplotlib.pyplot as plt\n",
    "\n"
   ]
  },
  {
   "cell_type": "code",
   "execution_count": 2,
   "metadata": {},
   "outputs": [],
   "source": [
    "#%matplotlib osx"
   ]
  },
  {
   "cell_type": "markdown",
   "metadata": {},
   "source": [
    "Read the data"
   ]
  },
  {
   "cell_type": "code",
   "execution_count": 2,
   "metadata": {},
   "outputs": [],
   "source": [
    "tbl = ascii.read( \"data/HD2039.dat\" )\n",
    "#print( tbl )\n",
    "jd = tbl['JDa'].data\n",
    "rv = tbl['RVa'].data\n",
    "er = tbl['Uncertainty'].data\n"
   ]
  },
  {
   "cell_type": "markdown",
   "metadata": {},
   "source": [
    "We define a radial velocity model. It has 5 parameters: amplitude, period, eccentricity, longitude of periastron, phase since periastron.\n",
    "The phase parameters both get a CircularUniformPrior.\n",
    "We need to add a constant for the systemic velocity of the system."
   ]
  },
  {
   "cell_type": "code",
   "execution_count": 3,
   "metadata": {},
   "outputs": [
    {
     "name": "stdout",
     "output_type": "stream",
     "text": [
      "Polynomial: f( x:p ) = p_0 +\n",
      "RadialVelocity \n",
      "6 1\n",
      "[0.0, 0.0, 1000.0, 0.0, 0.0, 0.0]\n"
     ]
    }
   ],
   "source": [
    "twopi = 2 * math.pi\n",
    "rvm = RadialVelocityModel( )\n",
    "lolim = [0.0, 1000.0, 0.0]\n",
    "hilim = [200.0, 1500.0, 0.99]\n",
    "rvm.setLimits( lowLimits=lolim, highLimits=hilim )\n",
    "rvm.setPrior( 3, prior=CircularUniformPrior(), limits=[0,twopi] )\n",
    "rvm.setPrior( 4, prior=CircularUniformPrior(), limits=[0,twopi] )\n",
    "#Tools.printclass( rvm )\n",
    "pm = PolynomialModel( 0 )\n",
    "pm.setLimits( lowLimits=[0], highLimits=[200] )\n",
    "#sm *= hm\n",
    "mdl = pm + rvm\n",
    "print( mdl )\n",
    "print( mdl.npchain, mdl.npbase )\n",
    "print( [mdl.getPrior(k).lowLimit for k in range( mdl.npchain )])\n",
    "\n"
   ]
  },
  {
   "cell_type": "code",
   "execution_count": 4,
   "metadata": {},
   "outputs": [
    {
     "name": "stdout",
     "output_type": "stream",
     "text": [
      "Fit all parameters of\n",
      "  Polynomial: f( x:p ) = p_0 +\n",
      "  RadialVelocity \n",
      "Using a Gauss error distribution with with unknown scale\n",
      "Moving the walkers with   GalileanEngine\n",
      "Iteration   logZ        H     LowL     npar    parameters\n",
      "       0 -3571791828.8      4.6 -3571791824.2      7  [   92.195   74.282 1094.188    0.806    1.665 ...]\n"
     ]
    },
    {
     "name": "stderr",
     "output_type": "stream",
     "text": [
      "/opt/local/Library/Frameworks/Python.framework/Versions/3.5/lib/python3.5/site-packages/BayesicFitting-1.0.4-py3.5.egg/BayesicFitting/source/FixedModel.py:362: UserWarning: RadialVelocity has no partials defined; using numeric partials.\n"
     ]
    },
    {
     "name": "stdout",
     "output_type": "stream",
     "text": [
      "     100 -21426.5      5.6 -21420.9      7  [  143.393   57.335 1433.680    0.824    6.263 ...]\n",
      "     200   -733.7      6.6   -727.1      7  [  134.359  188.678 1149.172    0.736    0.953 ...]\n",
      "     300   -272.6      7.1   -265.1      7  [  158.268   62.191 1031.888    0.825    1.070 ...]\n",
      "     400   -211.9      6.4   -204.7      7  [   32.450   80.553 1407.688    0.394    1.544 ...]\n",
      "     500   -197.6      6.2   -190.5      7  [   17.696   47.801 1171.774    0.711    0.761 ...]\n",
      "     600   -191.5      6.6   -183.9      7  [   22.751   34.796 1014.000    0.249    2.014 ...]\n",
      "     700   -185.9      7.9   -176.7      7  [    1.479   21.584 1069.258    0.358    0.941 ...]\n",
      "     800   -180.9      8.2   -171.6      7  [   94.167   49.832 1270.904    0.768    3.953 ...]\n",
      "     900   -176.8      9.3   -166.2      7  [   50.472   73.750 1323.641    0.277    4.331 ...]\n",
      "    1000   -171.6     10.2   -160.5      7  [   21.441   51.461 1355.678    0.315    4.888 ...]\n",
      "    1100   -168.8     10.8   -156.6      7  [  114.690  155.449 1373.468    0.927    4.507 ...]\n",
      "    1200   -166.3     11.5   -153.3      7  [   90.640   84.914 1234.710    0.585    4.068 ...]\n",
      "    1300   -162.9     12.9   -148.8      7  [   83.302   76.407 1398.020    0.682    4.464 ...]\n",
      "    1400   -160.7     13.3   -146.1      7  [   97.341  103.241 1454.522    0.706    5.138 ...]\n",
      "    1500   -158.9     14.1   -143.4      7  [  136.531  115.818 1255.415    0.644    4.238 ...]\n",
      "    1600   -157.3     14.8   -141.2      7  [  144.568  117.829 1279.815    0.650    4.341 ...]\n",
      "    1700   -156.4     15.2   -139.7      7  [   93.599   83.457 1254.786    0.634    4.052 ...]\n",
      "    1800   -155.9     15.4   -138.9      7  [   90.869   85.258 1257.776    0.637    4.041 ...]\n",
      "    1900   -155.6     15.6   -138.1      7  [  134.010  113.403 1258.694    0.662    4.322 ...]\n",
      "    2000   -155.4     15.8   -137.5      7  [  171.567  140.726 1246.215    0.708    4.321 ...]\n",
      "    2100   -155.3     15.9   -137.2      7  [  115.948  102.170 1273.642    0.649    4.266 ...]\n",
      "    2200   -155.3     15.9   -136.9      7  [  126.993  109.832 1244.019    0.660    4.159 ...]\n",
      "    2300   -155.3     16.0   -136.8      7  [  126.328  109.485 1247.978    0.660    4.190 ...]\n",
      "    2400   -155.3     16.0   -136.6      7  [  135.073  114.636 1262.214    0.671    4.274 ...]\n",
      "    2500   -155.3     16.0   -136.5      7  [  130.558  114.590 1250.625    0.658    4.264 ...]\n",
      "    2600   -155.3     16.0   -136.5      7  [  173.661  136.391 1235.599    0.698    4.207 ...]\n",
      "    2700   -155.3     16.0   -136.4      7  [  172.823  136.194 1241.823    0.698    4.242 ...]\n",
      "    2800   -155.3     16.0   -136.4      7  [  131.431  113.945 1251.575    0.659    4.234 ...]\n",
      "    2900   -155.3     16.0   -136.4      7  [  174.027  137.126 1253.317    0.708    4.273 ...]\n",
      "    3000   -155.3     16.0   -136.3      7  [  175.419  137.803 1248.751    0.707    4.273 ...]\n",
      "    3100   -155.3     16.0   -136.3      7  [  174.774  136.834 1251.073    0.709    4.270 ...]\n",
      "Engines              success     reject     failed      calls\n",
      "GalileanEngine         17612       5826      10015          0\n",
      "Calls to LogL          33453   to dLogL       5826\n",
      "Samples        3298\n",
      "Evidence       -67.434 +-      0.174\n"
     ]
    },
    {
     "data": {
      "image/png": "[encoded data removed]",
      "text/plain": [
       "<matplotlib.figure.Figure at 0x1116d30f0>"
      ]
     },
     "metadata": {},
     "output_type": "display_data"
    }
   ],
   "source": [
    "# define NestedSampler\n",
    "ns = NestedSampler( jd, mdl, rv, seed=1308 )\n",
    "ns.verbose = 2\n",
    "# set limits on the noise scale of the distribution\n",
    "ns.distribution.setLimits( [0.01,100] )\n",
    "\n",
    "# run NestedSampler\n",
    "evi = ns.sample( plot=True )\n",
    "\n",
    "# RadialVelocityModel has no partial. Numeric partials are used in stead."
   ]
  },
  {
   "cell_type": "code",
   "execution_count": 12,
   "metadata": {},
   "outputs": [
    {
     "name": "stdout",
     "output_type": "stream",
     "text": [
      "[  125.112  109.206 1249.702    0.646    4.187    2.692]\n",
      "[   27.984   17.253   22.173    0.033    0.133    0.068]\n",
      "   14.689     0.319\n",
      "-67.43354322166485\n"
     ]
    }
   ],
   "source": [
    "sl = ns.samples\n",
    "par = sl.parameters\n",
    "std = sl.stdevs\n",
    "print( fmt( par, max=None ) )\n",
    "print( fmt( std, max=None ) )\n",
    "print( fmt( sl.scale ), fmt( sl.stdevScale ) )\n",
    "print( evi )"
   ]
  },
  {
   "cell_type": "code",
   "execution_count": 7,
   "metadata": {},
   "outputs": [
    {
     "data": {
      "image/png": "[encoded data removed]",
      "text/plain": [
       "<matplotlib.figure.Figure at 0x112611198>"
      ]
     },
     "metadata": {},
     "output_type": "display_data"
    }
   ],
   "source": [
    "plt.plot( jd, rv, 'k. ' )\n",
    "xx = numpy.linspace( 100, 1500, 1401, dtype=float )\n",
    "plt.plot( xx, mdl.result( xx, par ), 'r-' )\n",
    "plt.xlabel( \"JulianDays (-2451000)\")\n",
    "plt.ylabel( \"Radial Velocity\")\n",
    "plt.title( \"HD2039\" )\n",
    "plt.show()"
   ]
  },
  {
   "cell_type": "code",
   "execution_count": null,
   "metadata": {},
   "outputs": [],
   "source": []
  }
 ],
 "metadata": {
  "anaconda-cloud": {},
  "kernelspec": {
   "display_name": "Python 3",
   "language": "python",
   "name": "python3"
  },
  "language_info": {
   "codemirror_mode": {
    "name": "ipython",
    "version": 3
   },
   "file_extension": ".py",
   "mimetype": "text/x-python",
   "name": "python",
   "nbconvert_exporter": "python",
   "pygments_lexer": "ipython3",
   "version": "3.5.4"
  }
 },
 "nbformat": 4,
 "nbformat_minor": 1
}
