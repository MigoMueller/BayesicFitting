{
 "cells": [
  {
   "cell_type": "markdown",
   "metadata": {},
   "source": [
    "## HD 2039\n",
    "\n",
    "Radial velocity data for HD2039 were obtained from \n",
    "[Tinney et al.(2003)](./references.md).\n",
    "\n",
    "Demonstration:\n",
    "1. RadialVelocity Model\n",
    "2. Circular Priors\n",
    "3. NestedSampler\n",
    "4. Evidence\n",
    "\n",
    "Author: Do Kester\n"
   ]
  },
  {
   "cell_type": "markdown",
   "metadata": {},
   "source": [
    "We need to import some classes"
   ]
  },
  {
   "cell_type": "code",
   "execution_count": 1,
   "metadata": {
    "execution": {
     "iopub.execute_input": "2022-11-17T03:02:18.666309Z",
     "iopub.status.busy": "2022-11-17T03:02:18.665624Z",
     "iopub.status.idle": "2022-11-17T03:02:19.501483Z",
     "shell.execute_reply": "2022-11-17T03:02:19.501658Z"
    }
   },
   "outputs": [],
   "source": [
    "import numpy as numpy\n",
    "import math\n",
    "\n",
    "from astropy.io import ascii\n",
    "from BayesicFitting import RadialVelocityModel\n",
    "from BayesicFitting import PolynomialModel\n",
    "from BayesicFitting import CircularUniformPrior\n",
    "from BayesicFitting import StellarOrbitModel\n",
    "from BayesicFitting import BasicSplinesModel\n",
    "from BayesicFitting import Fitter\n",
    "\n",
    "from BayesicFitting import NestedSampler\n",
    "from BayesicFitting import formatter as fmt\n",
    "from BayesicFitting import plotFit\n",
    "from BayesicFitting import Tools\n",
    "import matplotlib.pyplot as plt\n",
    "\n"
   ]
  },
  {
   "cell_type": "code",
   "execution_count": 2,
   "metadata": {
    "execution": {
     "iopub.execute_input": "2022-11-17T03:02:19.503392Z",
     "iopub.status.busy": "2022-11-17T03:02:19.503116Z",
     "iopub.status.idle": "2022-11-17T03:02:19.504424Z",
     "shell.execute_reply": "2022-11-17T03:02:19.504602Z"
    }
   },
   "outputs": [],
   "source": [
    "#%matplotlib osx"
   ]
  },
  {
   "cell_type": "markdown",
   "metadata": {},
   "source": [
    "Read the data"
   ]
  },
  {
   "cell_type": "code",
   "execution_count": 3,
   "metadata": {
    "execution": {
     "iopub.execute_input": "2022-11-17T03:02:19.506614Z",
     "iopub.status.busy": "2022-11-17T03:02:19.506352Z",
     "iopub.status.idle": "2022-11-17T03:02:19.510751Z",
     "shell.execute_reply": "2022-11-17T03:02:19.510909Z"
    }
   },
   "outputs": [],
   "source": [
    "tbl = ascii.read( \"data/HD2039-Tinney.dat\" )\n",
    "#print( tbl )\n",
    "jd = tbl['JDa'].data\n",
    "rv = tbl['RVa'].data\n",
    "er = tbl['Uncertainty'].data\n",
    "wgt = None\n",
    "#wgt = 100.0 / numpy.square( er )\n",
    "#print( wgt )"
   ]
  },
  {
   "cell_type": "markdown",
   "metadata": {},
   "source": [
    "We define a radial velocity model. It has 5 parameters: eccentricity, amplitude, period, phase of periastron, longitude of periastron.\n",
    "The phase parameters both get a CircularUniformPrior.\n",
    "We need to add a constant for the systemic velocity of the system."
   ]
  },
  {
   "cell_type": "code",
   "execution_count": 4,
   "metadata": {
    "execution": {
     "iopub.execute_input": "2022-11-17T03:02:19.513792Z",
     "iopub.status.busy": "2022-11-17T03:02:19.513382Z",
     "iopub.status.idle": "2022-11-17T03:02:19.514992Z",
     "shell.execute_reply": "2022-11-17T03:02:19.515164Z"
    }
   },
   "outputs": [
    {
     "name": "stdout",
     "output_type": "stream",
     "text": [
      "Polynomial: f( x:p ) = p_0 +\n",
      "RadialVelocity \n"
     ]
    }
   ],
   "source": [
    "twopi = 2 * math.pi\n",
    "rvm = RadialVelocityModel( )\n",
    "lolim = [0.0, 0.0, 1000.0]\n",
    "hilim = [0.9, 200.0, 1500.0]\n",
    "rvm.setLimits( lowLimits=lolim, highLimits=hilim )\n",
    "rvm.setPrior( 3, prior=CircularUniformPrior(), limits=[0,twopi] )\n",
    "rvm.setPrior( 4, prior=CircularUniformPrior(), limits=[0,twopi] )\n",
    "#Tools.printclass( rvm )\n",
    "pm = PolynomialModel( 0 )\n",
    "pm.setLimits( lowLimits=[0], highLimits=[200] )\n",
    "#sm *= hm\n",
    "mdl = pm + rvm\n",
    "print( mdl )\n"
   ]
  },
  {
   "cell_type": "code",
   "execution_count": 5,
   "metadata": {
    "execution": {
     "iopub.execute_input": "2022-11-17T03:02:19.562221Z",
     "iopub.status.busy": "2022-11-17T03:02:19.561946Z",
     "iopub.status.idle": "2022-11-17T03:04:32.898477Z",
     "shell.execute_reply": "2022-11-17T03:04:32.898720Z"
    }
   },
   "outputs": [
    {
     "name": "stdout",
     "output_type": "stream",
     "text": [
      "Fit all parameters of\n",
      "  Polynomial: f( x:p ) = p_0 +\n",
      "  RadialVelocity \n",
      "Using a Gauss error distribution with unknown scale\n",
      "Moving the walkers with   GalileanEngine  ChordEngine\n",
      ">"
     ]
    },
    {
     "name": "stdout",
     "output_type": "stream",
     "text": [
      ">"
     ]
    },
    {
     "name": "stdout",
     "output_type": "stream",
     "text": [
      ">"
     ]
    },
    {
     "name": "stdout",
     "output_type": "stream",
     "text": [
      ">"
     ]
    },
    {
     "name": "stdout",
     "output_type": "stream",
     "text": [
      ">"
     ]
    },
    {
     "name": "stdout",
     "output_type": "stream",
     "text": [
      ">"
     ]
    },
    {
     "name": "stdout",
     "output_type": "stream",
     "text": [
      ">"
     ]
    },
    {
     "name": "stdout",
     "output_type": "stream",
     "text": [
      ">"
     ]
    },
    {
     "name": "stdout",
     "output_type": "stream",
     "text": [
      ">"
     ]
    },
    {
     "name": "stdout",
     "output_type": "stream",
     "text": [
      ">"
     ]
    },
    {
     "name": "stdout",
     "output_type": "stream",
     "text": [
      ">"
     ]
    },
    {
     "name": "stdout",
     "output_type": "stream",
     "text": [
      ">"
     ]
    },
    {
     "name": "stdout",
     "output_type": "stream",
     "text": [
      ">"
     ]
    },
    {
     "name": "stdout",
     "output_type": "stream",
     "text": [
      ">"
     ]
    },
    {
     "name": "stdout",
     "output_type": "stream",
     "text": [
      ">"
     ]
    },
    {
     "name": "stdout",
     "output_type": "stream",
     "text": [
      ">"
     ]
    },
    {
     "name": "stdout",
     "output_type": "stream",
     "text": [
      ">"
     ]
    },
    {
     "name": "stdout",
     "output_type": "stream",
     "text": [
      ">"
     ]
    },
    {
     "name": "stdout",
     "output_type": "stream",
     "text": [
      ">"
     ]
    },
    {
     "name": "stdout",
     "output_type": "stream",
     "text": [
      ">"
     ]
    },
    {
     "name": "stdout",
     "output_type": "stream",
     "text": [
      ">"
     ]
    },
    {
     "name": "stdout",
     "output_type": "stream",
     "text": [
      ">"
     ]
    },
    {
     "name": "stdout",
     "output_type": "stream",
     "text": [
      ">"
     ]
    },
    {
     "name": "stdout",
     "output_type": "stream",
     "text": [
      ">"
     ]
    },
    {
     "name": "stdout",
     "output_type": "stream",
     "text": [
      ">"
     ]
    },
    {
     "name": "stdout",
     "output_type": "stream",
     "text": [
      ">"
     ]
    },
    {
     "name": "stdout",
     "output_type": "stream",
     "text": [
      ">"
     ]
    },
    {
     "name": "stdout",
     "output_type": "stream",
     "text": [
      ">"
     ]
    },
    {
     "name": "stdout",
     "output_type": "stream",
     "text": [
      ">"
     ]
    },
    {
     "name": "stdout",
     "output_type": "stream",
     "text": [
      ">"
     ]
    },
    {
     "name": "stdout",
     "output_type": "stream",
     "text": [
      ">"
     ]
    },
    {
     "name": "stdout",
     "output_type": "stream",
     "text": [
      ">"
     ]
    },
    {
     "name": "stdout",
     "output_type": "stream",
     "text": [
      ">"
     ]
    },
    {
     "name": "stdout",
     "output_type": "stream",
     "text": [
      ">"
     ]
    },
    {
     "name": "stdout",
     "output_type": "stream",
     "text": [
      ">"
     ]
    },
    {
     "name": "stdout",
     "output_type": "stream",
     "text": [
      ">"
     ]
    },
    {
     "name": "stdout",
     "output_type": "stream",
     "text": [
      ">"
     ]
    },
    {
     "name": "stdout",
     "output_type": "stream",
     "text": [
      ">"
     ]
    },
    {
     "name": "stdout",
     "output_type": "stream",
     "text": [
      ">"
     ]
    },
    {
     "name": "stdout",
     "output_type": "stream",
     "text": [
      ">"
     ]
    },
    {
     "name": "stdout",
     "output_type": "stream",
     "text": [
      ">"
     ]
    },
    {
     "name": "stdout",
     "output_type": "stream",
     "text": [
      ">"
     ]
    },
    {
     "name": "stdout",
     "output_type": "stream",
     "text": [
      ">"
     ]
    },
    {
     "name": "stdout",
     "output_type": "stream",
     "text": [
      ">"
     ]
    },
    {
     "name": "stdout",
     "output_type": "stream",
     "text": [
      ">"
     ]
    },
    {
     "name": "stdout",
     "output_type": "stream",
     "text": [
      ">"
     ]
    },
    {
     "name": "stdout",
     "output_type": "stream",
     "text": [
      ">"
     ]
    },
    {
     "name": "stdout",
     "output_type": "stream",
     "text": [
      ">"
     ]
    },
    {
     "name": "stdout",
     "output_type": "stream",
     "text": [
      ">"
     ]
    },
    {
     "name": "stdout",
     "output_type": "stream",
     "text": [
      ">\n"
     ]
    },
    {
     "name": "stdout",
     "output_type": "stream",
     "text": [
      ">"
     ]
    },
    {
     "name": "stdout",
     "output_type": "stream",
     "text": [
      ">"
     ]
    },
    {
     "name": "stdout",
     "output_type": "stream",
     "text": [
      ">"
     ]
    },
    {
     "name": "stdout",
     "output_type": "stream",
     "text": [
      ">"
     ]
    },
    {
     "name": "stdout",
     "output_type": "stream",
     "text": [
      ">"
     ]
    },
    {
     "name": "stdout",
     "output_type": "stream",
     "text": [
      ">"
     ]
    },
    {
     "name": "stdout",
     "output_type": "stream",
     "text": [
      ">"
     ]
    },
    {
     "name": "stdout",
     "output_type": "stream",
     "text": [
      ">"
     ]
    },
    {
     "name": "stdout",
     "output_type": "stream",
     "text": [
      ">"
     ]
    },
    {
     "name": "stdout",
     "output_type": "stream",
     "text": [
      ">"
     ]
    },
    {
     "name": "stdout",
     "output_type": "stream",
     "text": [
      ">"
     ]
    },
    {
     "name": "stdout",
     "output_type": "stream",
     "text": [
      ">"
     ]
    },
    {
     "name": "stdout",
     "output_type": "stream",
     "text": [
      ">"
     ]
    },
    {
     "name": "stdout",
     "output_type": "stream",
     "text": [
      ">"
     ]
    },
    {
     "name": "stdout",
     "output_type": "stream",
     "text": [
      ">"
     ]
    },
    {
     "name": "stdout",
     "output_type": "stream",
     "text": [
      ">"
     ]
    },
    {
     "name": "stdout",
     "output_type": "stream",
     "text": [
      ">"
     ]
    },
    {
     "name": "stdout",
     "output_type": "stream",
     "text": [
      ">"
     ]
    },
    {
     "name": "stdout",
     "output_type": "stream",
     "text": [
      ">"
     ]
    },
    {
     "name": "stdout",
     "output_type": "stream",
     "text": [
      ">"
     ]
    },
    {
     "name": "stdout",
     "output_type": "stream",
     "text": [
      ">"
     ]
    },
    {
     "name": "stdout",
     "output_type": "stream",
     "text": [
      ">"
     ]
    },
    {
     "name": "stdout",
     "output_type": "stream",
     "text": [
      ">"
     ]
    },
    {
     "name": "stdout",
     "output_type": "stream",
     "text": [
      ">"
     ]
    },
    {
     "name": "stdout",
     "output_type": "stream",
     "text": [
      ">"
     ]
    },
    {
     "name": "stdout",
     "output_type": "stream",
     "text": [
      ">"
     ]
    },
    {
     "name": "stdout",
     "output_type": "stream",
     "text": [
      ">"
     ]
    },
    {
     "name": "stdout",
     "output_type": "stream",
     "text": [
      ">"
     ]
    },
    {
     "name": "stdout",
     "output_type": "stream",
     "text": [
      ">"
     ]
    },
    {
     "name": "stdout",
     "output_type": "stream",
     "text": [
      ">"
     ]
    },
    {
     "name": "stdout",
     "output_type": "stream",
     "text": [
      ">"
     ]
    },
    {
     "name": "stdout",
     "output_type": "stream",
     "text": [
      ">"
     ]
    },
    {
     "name": "stdout",
     "output_type": "stream",
     "text": [
      ">"
     ]
    },
    {
     "name": "stdout",
     "output_type": "stream",
     "text": [
      ">"
     ]
    },
    {
     "name": "stdout",
     "output_type": "stream",
     "text": [
      ">"
     ]
    },
    {
     "name": "stdout",
     "output_type": "stream",
     "text": [
      ">"
     ]
    },
    {
     "name": "stdout",
     "output_type": "stream",
     "text": [
      ">"
     ]
    },
    {
     "name": "stdout",
     "output_type": "stream",
     "text": [
      ">"
     ]
    },
    {
     "name": "stdout",
     "output_type": "stream",
     "text": [
      ">"
     ]
    },
    {
     "name": "stdout",
     "output_type": "stream",
     "text": [
      ">"
     ]
    },
    {
     "name": "stdout",
     "output_type": "stream",
     "text": [
      ">"
     ]
    },
    {
     "name": "stdout",
     "output_type": "stream",
     "text": [
      ">"
     ]
    },
    {
     "name": "stdout",
     "output_type": "stream",
     "text": [
      ">"
     ]
    },
    {
     "name": "stdout",
     "output_type": "stream",
     "text": [
      ">"
     ]
    },
    {
     "name": "stdout",
     "output_type": "stream",
     "text": [
      ">"
     ]
    },
    {
     "name": "stdout",
     "output_type": "stream",
     "text": [
      ">"
     ]
    },
    {
     "name": "stdout",
     "output_type": "stream",
     "text": [
      ">"
     ]
    },
    {
     "name": "stdout",
     "output_type": "stream",
     "text": [
      ">"
     ]
    },
    {
     "name": "stdout",
     "output_type": "stream",
     "text": [
      ">"
     ]
    },
    {
     "name": "stdout",
     "output_type": "stream",
     "text": [
      ">\n"
     ]
    },
    {
     "name": "stdout",
     "output_type": "stream",
     "text": [
      ">"
     ]
    },
    {
     "name": "stdout",
     "output_type": "stream",
     "text": [
      ">"
     ]
    },
    {
     "name": "stdout",
     "output_type": "stream",
     "text": [
      ">"
     ]
    },
    {
     "name": "stdout",
     "output_type": "stream",
     "text": [
      ">"
     ]
    },
    {
     "name": "stdout",
     "output_type": "stream",
     "text": [
      ">"
     ]
    },
    {
     "name": "stdout",
     "output_type": "stream",
     "text": [
      ">"
     ]
    },
    {
     "name": "stdout",
     "output_type": "stream",
     "text": [
      ">"
     ]
    },
    {
     "name": "stdout",
     "output_type": "stream",
     "text": [
      ">"
     ]
    },
    {
     "name": "stdout",
     "output_type": "stream",
     "text": [
      ">"
     ]
    },
    {
     "name": "stdout",
     "output_type": "stream",
     "text": [
      ">"
     ]
    },
    {
     "name": "stdout",
     "output_type": "stream",
     "text": [
      ">"
     ]
    },
    {
     "name": "stdout",
     "output_type": "stream",
     "text": [
      ">"
     ]
    },
    {
     "name": "stdout",
     "output_type": "stream",
     "text": [
      ">"
     ]
    },
    {
     "name": "stdout",
     "output_type": "stream",
     "text": [
      ">"
     ]
    },
    {
     "name": "stdout",
     "output_type": "stream",
     "text": [
      ">"
     ]
    },
    {
     "name": "stdout",
     "output_type": "stream",
     "text": [
      ">"
     ]
    },
    {
     "name": "stdout",
     "output_type": "stream",
     "text": [
      ">"
     ]
    },
    {
     "name": "stdout",
     "output_type": "stream",
     "text": [
      ">"
     ]
    },
    {
     "name": "stdout",
     "output_type": "stream",
     "text": [
      ">"
     ]
    },
    {
     "name": "stdout",
     "output_type": "stream",
     "text": [
      ">"
     ]
    },
    {
     "name": "stdout",
     "output_type": "stream",
     "text": [
      ">"
     ]
    },
    {
     "name": "stdout",
     "output_type": "stream",
     "text": [
      ">"
     ]
    },
    {
     "name": "stdout",
     "output_type": "stream",
     "text": [
      ">"
     ]
    },
    {
     "name": "stdout",
     "output_type": "stream",
     "text": [
      ">"
     ]
    },
    {
     "name": "stdout",
     "output_type": "stream",
     "text": [
      ">"
     ]
    },
    {
     "name": "stdout",
     "output_type": "stream",
     "text": [
      ">"
     ]
    },
    {
     "name": "stdout",
     "output_type": "stream",
     "text": [
      ">"
     ]
    },
    {
     "name": "stdout",
     "output_type": "stream",
     "text": [
      ">"
     ]
    },
    {
     "name": "stdout",
     "output_type": "stream",
     "text": [
      ">"
     ]
    },
    {
     "name": "stdout",
     "output_type": "stream",
     "text": [
      ">"
     ]
    },
    {
     "name": "stdout",
     "output_type": "stream",
     "text": [
      ">"
     ]
    },
    {
     "name": "stdout",
     "output_type": "stream",
     "text": [
      ">"
     ]
    },
    {
     "name": "stdout",
     "output_type": "stream",
     "text": [
      ">"
     ]
    },
    {
     "name": "stdout",
     "output_type": "stream",
     "text": [
      ">"
     ]
    },
    {
     "name": "stdout",
     "output_type": "stream",
     "text": [
      ">"
     ]
    },
    {
     "name": "stdout",
     "output_type": "stream",
     "text": [
      ">"
     ]
    },
    {
     "name": "stdout",
     "output_type": "stream",
     "text": [
      ">"
     ]
    },
    {
     "name": "stdout",
     "output_type": "stream",
     "text": [
      ">"
     ]
    },
    {
     "name": "stdout",
     "output_type": "stream",
     "text": [
      ">"
     ]
    },
    {
     "name": "stdout",
     "output_type": "stream",
     "text": [
      ">"
     ]
    },
    {
     "name": "stdout",
     "output_type": "stream",
     "text": [
      ">"
     ]
    },
    {
     "name": "stdout",
     "output_type": "stream",
     "text": [
      ">"
     ]
    },
    {
     "name": "stdout",
     "output_type": "stream",
     "text": [
      ">"
     ]
    },
    {
     "name": "stdout",
     "output_type": "stream",
     "text": [
      ">"
     ]
    },
    {
     "name": "stdout",
     "output_type": "stream",
     "text": [
      ">"
     ]
    },
    {
     "name": "stdout",
     "output_type": "stream",
     "text": [
      ">"
     ]
    },
    {
     "name": "stdout",
     "output_type": "stream",
     "text": [
      ">"
     ]
    },
    {
     "name": "stdout",
     "output_type": "stream",
     "text": [
      ">"
     ]
    },
    {
     "name": "stdout",
     "output_type": "stream",
     "text": [
      ">"
     ]
    },
    {
     "name": "stdout",
     "output_type": "stream",
     "text": [
      ">\n"
     ]
    },
    {
     "name": "stdout",
     "output_type": "stream",
     "text": [
      ">"
     ]
    },
    {
     "name": "stdout",
     "output_type": "stream",
     "text": [
      ">"
     ]
    },
    {
     "name": "stdout",
     "output_type": "stream",
     "text": [
      ">"
     ]
    },
    {
     "name": "stdout",
     "output_type": "stream",
     "text": [
      ">"
     ]
    },
    {
     "name": "stdout",
     "output_type": "stream",
     "text": [
      ">"
     ]
    },
    {
     "name": "stdout",
     "output_type": "stream",
     "text": [
      ">"
     ]
    },
    {
     "name": "stdout",
     "output_type": "stream",
     "text": [
      ">"
     ]
    },
    {
     "name": "stdout",
     "output_type": "stream",
     "text": [
      ">"
     ]
    },
    {
     "name": "stdout",
     "output_type": "stream",
     "text": [
      ">"
     ]
    },
    {
     "name": "stdout",
     "output_type": "stream",
     "text": [
      ">"
     ]
    },
    {
     "name": "stdout",
     "output_type": "stream",
     "text": [
      ">"
     ]
    },
    {
     "name": "stdout",
     "output_type": "stream",
     "text": [
      ">"
     ]
    },
    {
     "name": "stdout",
     "output_type": "stream",
     "text": [
      ">"
     ]
    },
    {
     "name": "stdout",
     "output_type": "stream",
     "text": [
      ">"
     ]
    },
    {
     "name": "stdout",
     "output_type": "stream",
     "text": [
      ">"
     ]
    },
    {
     "name": "stdout",
     "output_type": "stream",
     "text": [
      ">"
     ]
    },
    {
     "name": "stdout",
     "output_type": "stream",
     "text": [
      ">"
     ]
    },
    {
     "name": "stdout",
     "output_type": "stream",
     "text": [
      ">"
     ]
    },
    {
     "name": "stdout",
     "output_type": "stream",
     "text": [
      ">"
     ]
    },
    {
     "name": "stdout",
     "output_type": "stream",
     "text": [
      ">"
     ]
    },
    {
     "name": "stdout",
     "output_type": "stream",
     "text": [
      ">"
     ]
    },
    {
     "name": "stdout",
     "output_type": "stream",
     "text": [
      ">"
     ]
    },
    {
     "name": "stdout",
     "output_type": "stream",
     "text": [
      ">"
     ]
    },
    {
     "name": "stdout",
     "output_type": "stream",
     "text": [
      ">"
     ]
    },
    {
     "name": "stdout",
     "output_type": "stream",
     "text": [
      ">"
     ]
    },
    {
     "name": "stdout",
     "output_type": "stream",
     "text": [
      ">"
     ]
    },
    {
     "name": "stdout",
     "output_type": "stream",
     "text": [
      ">"
     ]
    },
    {
     "name": "stdout",
     "output_type": "stream",
     "text": [
      ">"
     ]
    },
    {
     "name": "stdout",
     "output_type": "stream",
     "text": [
      ">"
     ]
    },
    {
     "name": "stdout",
     "output_type": "stream",
     "text": [
      ">"
     ]
    },
    {
     "name": "stdout",
     "output_type": "stream",
     "text": [
      "\n",
      "Iteration   logZ        H     LowL     npar    parameters\n",
      "   17939      -166.     17.9      -145.      7 \n",
      "[    0.430    0.672  121.202 1221.207    5.335    5.827   13.508]\n",
      "Engines              success     reject     failed       best      calls\n",
      "GalileanEngine        105411      48305      63551          0      19465\n",
      "ChordEngine           136282     245203          0          0      19465\n",
      "Calls to LogL         598752   to dLogL      48305\n",
      "Samples       18439\n",
      "Evidence       -72.109 +-      0.082\n"
     ]
    },
    {
     "data": {
      "image/png": "[encoded data removed]",
      "text/plain": [
       "<Figure size 864x576 with 2 Axes>"
      ]
     },
     "metadata": {
      "needs_background": "light"
     },
     "output_type": "display_data"
    }
   ],
   "source": [
    "# define NestedSampler\n",
    "ns = NestedSampler( jd, mdl, rv, weights=wgt, seed=1301 )\n",
    "ns.ensemble = 500\n",
    "# set limits on the noise scale of the distribution\n",
    "ns.distribution.setLimits( [0.01,100] )\n",
    "\n",
    "# run NestedSampler\n",
    "evi = ns.sample( plot=True )\n"
   ]
  },
  {
   "cell_type": "code",
   "execution_count": 6,
   "metadata": {
    "execution": {
     "iopub.execute_input": "2022-11-17T03:04:32.923897Z",
     "iopub.status.busy": "2022-11-17T03:04:32.907414Z",
     "iopub.status.idle": "2022-11-17T03:04:32.947551Z",
     "shell.execute_reply": "2022-11-17T03:04:32.947800Z"
    }
   },
   "outputs": [
    {
     "name": "stdout",
     "output_type": "stream",
     "text": [
      "            offset   eccentr   amplit   period    phase    time \n",
      "params   [    4.346    0.716  149.165 1237.079    5.231    5.839]\n",
      "stdevs   [    3.098    0.051   28.079   51.812    0.227    0.077]\n",
      "params   [    4.346    0.716  149.165 1237.079  299.704  138.610]\n",
      "stdevs   [    3.098    0.051   28.079   51.812   13.009    1.835]\n",
      "scale       14.926  +-     1.986\n",
      "evidence   -72.109\n"
     ]
    }
   ],
   "source": [
    "sl = ns.samples\n",
    "par = sl.parameters\n",
    "std = sl.stdevs\n",
    "print( \"            offset   eccentr   amplit   period    phase    time \")\n",
    "print( \"params  \", fmt( par, max=None ) )\n",
    "print( \"stdevs  \", fmt( std, max=None ) )\n",
    "pal = par.copy()\n",
    "stl = std.copy()\n",
    "pal[4] *= 180 / math.pi\n",
    "pal[5] *= 0.5 * pal[2] / math.pi\n",
    "stl[4] *= 180 / math.pi\n",
    "stl[5] *= 0.5 * pal[2] / math.pi\n",
    "print( \"params  \", fmt( pal, max=None ) )\n",
    "print( \"stdevs  \", fmt( stl, max=None ) )\n",
    "print( \"scale   \", fmt( sl.scale ), \" +-\", fmt( sl.stdevScale ) )\n",
    "print( \"evidence\", fmt( evi ) )"
   ]
  },
  {
   "cell_type": "markdown",
   "metadata": {},
   "source": [
    "There were rumours that there could be 2 planets. We add another RadialVelocityModel and try again."
   ]
  },
  {
   "cell_type": "code",
   "execution_count": 7,
   "metadata": {
    "execution": {
     "iopub.execute_input": "2022-11-17T03:04:32.951529Z",
     "iopub.status.busy": "2022-11-17T03:04:32.951247Z",
     "iopub.status.idle": "2022-11-17T03:04:32.952523Z",
     "shell.execute_reply": "2022-11-17T03:04:32.952796Z"
    }
   },
   "outputs": [
    {
     "name": "stdout",
     "output_type": "stream",
     "text": [
      "Polynomial: f( x:p ) = p_0 +\n",
      "RadialVelocity  +\n",
      "RadialVelocity \n"
     ]
    }
   ],
   "source": [
    "twopi = 2 * math.pi\n",
    "rvm1 = RadialVelocityModel( )\n",
    "lolim1 = [0.0, 0.0, 1000.0]\n",
    "hilim1 = [0.9, 200.0, 1500.0]\n",
    "rvm1.setLimits( lowLimits=lolim, highLimits=hilim )\n",
    "rvm1.setPrior( 3, prior=CircularUniformPrior(), limits=[0,twopi] )\n",
    "rvm1.setPrior( 4, prior=CircularUniformPrior(), limits=[0,twopi] )\n",
    "#Tools.printclass( rvm )\n",
    "rvm2 = RadialVelocityModel( )\n",
    "lolim2 = [0.0, 0.0, 10.0]\n",
    "hilim2 = [0.9, 200.0, 1000.0]\n",
    "rvm2.setLimits( lowLimits=lolim2, highLimits=hilim2 )\n",
    "rvm2.setPrior( 3, prior=CircularUniformPrior(), limits=[0,twopi] )\n",
    "rvm2.setPrior( 4, prior=CircularUniformPrior(), limits=[0,twopi] )\n",
    "#Tools.printclass( rvm2 )\n",
    "pm = PolynomialModel( 0 )\n",
    "pm.setLimits( lowLimits=[0], highLimits=[200] )\n",
    "#sm *= hm\n",
    "mdl2 = pm + rvm1 + rvm2\n",
    "print( mdl2 )\n",
    "\n"
   ]
  },
  {
   "cell_type": "code",
   "execution_count": 8,
   "metadata": {
    "execution": {
     "iopub.execute_input": "2022-11-17T03:04:32.956521Z",
     "iopub.status.busy": "2022-11-17T03:04:32.956241Z",
     "iopub.status.idle": "2022-11-17T03:09:26.006751Z",
     "shell.execute_reply": "2022-11-17T03:09:26.006937Z"
    }
   },
   "outputs": [
    {
     "name": "stdout",
     "output_type": "stream",
     "text": [
      "Fit all parameters of\n",
      "  Polynomial: f( x:p ) = p_0 +\n",
      "  RadialVelocity  +\n",
      "  RadialVelocity \n",
      "Using a Gauss error distribution with unknown scale\n",
      "Moving the walkers with   GalileanEngine  ChordEngine\n",
      ">"
     ]
    },
    {
     "name": "stdout",
     "output_type": "stream",
     "text": [
      ">"
     ]
    },
    {
     "name": "stdout",
     "output_type": "stream",
     "text": [
      ">"
     ]
    },
    {
     "name": "stdout",
     "output_type": "stream",
     "text": [
      ">"
     ]
    },
    {
     "name": "stdout",
     "output_type": "stream",
     "text": [
      ">"
     ]
    },
    {
     "name": "stdout",
     "output_type": "stream",
     "text": [
      ">"
     ]
    },
    {
     "name": "stdout",
     "output_type": "stream",
     "text": [
      ">"
     ]
    },
    {
     "name": "stdout",
     "output_type": "stream",
     "text": [
      ">"
     ]
    },
    {
     "name": "stdout",
     "output_type": "stream",
     "text": [
      ">"
     ]
    },
    {
     "name": "stdout",
     "output_type": "stream",
     "text": [
      ">"
     ]
    },
    {
     "name": "stdout",
     "output_type": "stream",
     "text": [
      ">"
     ]
    },
    {
     "name": "stdout",
     "output_type": "stream",
     "text": [
      ">"
     ]
    },
    {
     "name": "stdout",
     "output_type": "stream",
     "text": [
      ">"
     ]
    },
    {
     "name": "stdout",
     "output_type": "stream",
     "text": [
      ">"
     ]
    },
    {
     "name": "stdout",
     "output_type": "stream",
     "text": [
      ">"
     ]
    },
    {
     "name": "stdout",
     "output_type": "stream",
     "text": [
      ">"
     ]
    },
    {
     "name": "stdout",
     "output_type": "stream",
     "text": [
      ">"
     ]
    },
    {
     "name": "stdout",
     "output_type": "stream",
     "text": [
      ">"
     ]
    },
    {
     "name": "stdout",
     "output_type": "stream",
     "text": [
      ">"
     ]
    },
    {
     "name": "stdout",
     "output_type": "stream",
     "text": [
      ">"
     ]
    },
    {
     "name": "stdout",
     "output_type": "stream",
     "text": [
      ">"
     ]
    },
    {
     "name": "stdout",
     "output_type": "stream",
     "text": [
      ">"
     ]
    },
    {
     "name": "stdout",
     "output_type": "stream",
     "text": [
      ">"
     ]
    },
    {
     "name": "stdout",
     "output_type": "stream",
     "text": [
      ">"
     ]
    },
    {
     "name": "stdout",
     "output_type": "stream",
     "text": [
      ">"
     ]
    },
    {
     "name": "stdout",
     "output_type": "stream",
     "text": [
      ">"
     ]
    },
    {
     "name": "stdout",
     "output_type": "stream",
     "text": [
      ">"
     ]
    },
    {
     "name": "stdout",
     "output_type": "stream",
     "text": [
      ">"
     ]
    },
    {
     "name": "stdout",
     "output_type": "stream",
     "text": [
      ">"
     ]
    },
    {
     "name": "stdout",
     "output_type": "stream",
     "text": [
      ">"
     ]
    },
    {
     "name": "stdout",
     "output_type": "stream",
     "text": [
      ">"
     ]
    },
    {
     "name": "stdout",
     "output_type": "stream",
     "text": [
      ">"
     ]
    },
    {
     "name": "stdout",
     "output_type": "stream",
     "text": [
      ">"
     ]
    },
    {
     "name": "stdout",
     "output_type": "stream",
     "text": [
      ">"
     ]
    },
    {
     "name": "stdout",
     "output_type": "stream",
     "text": [
      ">"
     ]
    },
    {
     "name": "stdout",
     "output_type": "stream",
     "text": [
      ">"
     ]
    },
    {
     "name": "stdout",
     "output_type": "stream",
     "text": [
      ">"
     ]
    },
    {
     "name": "stdout",
     "output_type": "stream",
     "text": [
      ">"
     ]
    },
    {
     "name": "stdout",
     "output_type": "stream",
     "text": [
      ">"
     ]
    },
    {
     "name": "stdout",
     "output_type": "stream",
     "text": [
      ">"
     ]
    },
    {
     "name": "stdout",
     "output_type": "stream",
     "text": [
      ">"
     ]
    },
    {
     "name": "stdout",
     "output_type": "stream",
     "text": [
      ">"
     ]
    },
    {
     "name": "stdout",
     "output_type": "stream",
     "text": [
      ">"
     ]
    },
    {
     "name": "stdout",
     "output_type": "stream",
     "text": [
      ">"
     ]
    },
    {
     "name": "stdout",
     "output_type": "stream",
     "text": [
      ">"
     ]
    },
    {
     "name": "stdout",
     "output_type": "stream",
     "text": [
      ">"
     ]
    },
    {
     "name": "stdout",
     "output_type": "stream",
     "text": [
      ">"
     ]
    },
    {
     "name": "stdout",
     "output_type": "stream",
     "text": [
      ">"
     ]
    },
    {
     "name": "stdout",
     "output_type": "stream",
     "text": [
      ">"
     ]
    },
    {
     "name": "stdout",
     "output_type": "stream",
     "text": [
      ">\n"
     ]
    },
    {
     "name": "stdout",
     "output_type": "stream",
     "text": [
      ">"
     ]
    },
    {
     "name": "stdout",
     "output_type": "stream",
     "text": [
      ">"
     ]
    },
    {
     "name": "stdout",
     "output_type": "stream",
     "text": [
      ">"
     ]
    },
    {
     "name": "stdout",
     "output_type": "stream",
     "text": [
      ">"
     ]
    },
    {
     "name": "stdout",
     "output_type": "stream",
     "text": [
      ">"
     ]
    },
    {
     "name": "stdout",
     "output_type": "stream",
     "text": [
      ">"
     ]
    },
    {
     "name": "stdout",
     "output_type": "stream",
     "text": [
      ">"
     ]
    },
    {
     "name": "stdout",
     "output_type": "stream",
     "text": [
      ">"
     ]
    },
    {
     "name": "stdout",
     "output_type": "stream",
     "text": [
      ">"
     ]
    },
    {
     "name": "stdout",
     "output_type": "stream",
     "text": [
      ">"
     ]
    },
    {
     "name": "stdout",
     "output_type": "stream",
     "text": [
      ">"
     ]
    },
    {
     "name": "stdout",
     "output_type": "stream",
     "text": [
      ">"
     ]
    },
    {
     "name": "stdout",
     "output_type": "stream",
     "text": [
      ">"
     ]
    },
    {
     "name": "stdout",
     "output_type": "stream",
     "text": [
      ">"
     ]
    },
    {
     "name": "stdout",
     "output_type": "stream",
     "text": [
      ">"
     ]
    },
    {
     "name": "stdout",
     "output_type": "stream",
     "text": [
      ">"
     ]
    },
    {
     "name": "stdout",
     "output_type": "stream",
     "text": [
      ">"
     ]
    },
    {
     "name": "stdout",
     "output_type": "stream",
     "text": [
      ">"
     ]
    },
    {
     "name": "stdout",
     "output_type": "stream",
     "text": [
      ">"
     ]
    },
    {
     "name": "stdout",
     "output_type": "stream",
     "text": [
      ">"
     ]
    },
    {
     "name": "stdout",
     "output_type": "stream",
     "text": [
      ">"
     ]
    },
    {
     "name": "stdout",
     "output_type": "stream",
     "text": [
      ">"
     ]
    },
    {
     "name": "stdout",
     "output_type": "stream",
     "text": [
      ">"
     ]
    },
    {
     "name": "stdout",
     "output_type": "stream",
     "text": [
      ">"
     ]
    },
    {
     "name": "stdout",
     "output_type": "stream",
     "text": [
      ">"
     ]
    },
    {
     "name": "stdout",
     "output_type": "stream",
     "text": [
      ">"
     ]
    },
    {
     "name": "stdout",
     "output_type": "stream",
     "text": [
      ">"
     ]
    },
    {
     "name": "stdout",
     "output_type": "stream",
     "text": [
      ">"
     ]
    },
    {
     "name": "stdout",
     "output_type": "stream",
     "text": [
      ">"
     ]
    },
    {
     "name": "stdout",
     "output_type": "stream",
     "text": [
      ">"
     ]
    },
    {
     "name": "stdout",
     "output_type": "stream",
     "text": [
      ">"
     ]
    },
    {
     "name": "stdout",
     "output_type": "stream",
     "text": [
      ">"
     ]
    },
    {
     "name": "stdout",
     "output_type": "stream",
     "text": [
      ">"
     ]
    },
    {
     "name": "stdout",
     "output_type": "stream",
     "text": [
      ">"
     ]
    },
    {
     "name": "stdout",
     "output_type": "stream",
     "text": [
      ">"
     ]
    },
    {
     "name": "stdout",
     "output_type": "stream",
     "text": [
      ">"
     ]
    },
    {
     "name": "stdout",
     "output_type": "stream",
     "text": [
      ">"
     ]
    },
    {
     "name": "stdout",
     "output_type": "stream",
     "text": [
      ">"
     ]
    },
    {
     "name": "stdout",
     "output_type": "stream",
     "text": [
      ">"
     ]
    },
    {
     "name": "stdout",
     "output_type": "stream",
     "text": [
      ">"
     ]
    },
    {
     "name": "stdout",
     "output_type": "stream",
     "text": [
      ">"
     ]
    },
    {
     "name": "stdout",
     "output_type": "stream",
     "text": [
      ">"
     ]
    },
    {
     "name": "stdout",
     "output_type": "stream",
     "text": [
      ">"
     ]
    },
    {
     "name": "stdout",
     "output_type": "stream",
     "text": [
      ">"
     ]
    },
    {
     "name": "stdout",
     "output_type": "stream",
     "text": [
      ">"
     ]
    },
    {
     "name": "stdout",
     "output_type": "stream",
     "text": [
      ">"
     ]
    },
    {
     "name": "stdout",
     "output_type": "stream",
     "text": [
      ">"
     ]
    },
    {
     "name": "stdout",
     "output_type": "stream",
     "text": [
      ">"
     ]
    },
    {
     "name": "stdout",
     "output_type": "stream",
     "text": [
      ">"
     ]
    },
    {
     "name": "stdout",
     "output_type": "stream",
     "text": [
      ">\n"
     ]
    },
    {
     "name": "stdout",
     "output_type": "stream",
     "text": [
      ">"
     ]
    },
    {
     "name": "stdout",
     "output_type": "stream",
     "text": [
      ">"
     ]
    },
    {
     "name": "stdout",
     "output_type": "stream",
     "text": [
      ">"
     ]
    },
    {
     "name": "stdout",
     "output_type": "stream",
     "text": [
      ">"
     ]
    },
    {
     "name": "stdout",
     "output_type": "stream",
     "text": [
      ">"
     ]
    },
    {
     "name": "stdout",
     "output_type": "stream",
     "text": [
      ">"
     ]
    },
    {
     "name": "stdout",
     "output_type": "stream",
     "text": [
      ">"
     ]
    },
    {
     "name": "stdout",
     "output_type": "stream",
     "text": [
      ">"
     ]
    },
    {
     "name": "stdout",
     "output_type": "stream",
     "text": [
      ">"
     ]
    },
    {
     "name": "stdout",
     "output_type": "stream",
     "text": [
      ">"
     ]
    },
    {
     "name": "stdout",
     "output_type": "stream",
     "text": [
      ">"
     ]
    },
    {
     "name": "stdout",
     "output_type": "stream",
     "text": [
      ">"
     ]
    },
    {
     "name": "stdout",
     "output_type": "stream",
     "text": [
      ">"
     ]
    },
    {
     "name": "stdout",
     "output_type": "stream",
     "text": [
      ">"
     ]
    },
    {
     "name": "stdout",
     "output_type": "stream",
     "text": [
      ">"
     ]
    },
    {
     "name": "stdout",
     "output_type": "stream",
     "text": [
      ">"
     ]
    },
    {
     "name": "stdout",
     "output_type": "stream",
     "text": [
      ">"
     ]
    },
    {
     "name": "stdout",
     "output_type": "stream",
     "text": [
      ">"
     ]
    },
    {
     "name": "stdout",
     "output_type": "stream",
     "text": [
      ">"
     ]
    },
    {
     "name": "stdout",
     "output_type": "stream",
     "text": [
      ">"
     ]
    },
    {
     "name": "stdout",
     "output_type": "stream",
     "text": [
      ">"
     ]
    },
    {
     "name": "stdout",
     "output_type": "stream",
     "text": [
      ">"
     ]
    },
    {
     "name": "stdout",
     "output_type": "stream",
     "text": [
      ">"
     ]
    },
    {
     "name": "stdout",
     "output_type": "stream",
     "text": [
      ">"
     ]
    },
    {
     "name": "stdout",
     "output_type": "stream",
     "text": [
      ">"
     ]
    },
    {
     "name": "stdout",
     "output_type": "stream",
     "text": [
      ">"
     ]
    },
    {
     "name": "stdout",
     "output_type": "stream",
     "text": [
      ">"
     ]
    },
    {
     "name": "stdout",
     "output_type": "stream",
     "text": [
      ">"
     ]
    },
    {
     "name": "stdout",
     "output_type": "stream",
     "text": [
      ">"
     ]
    },
    {
     "name": "stdout",
     "output_type": "stream",
     "text": [
      ">"
     ]
    },
    {
     "name": "stdout",
     "output_type": "stream",
     "text": [
      ">"
     ]
    },
    {
     "name": "stdout",
     "output_type": "stream",
     "text": [
      ">"
     ]
    },
    {
     "name": "stdout",
     "output_type": "stream",
     "text": [
      ">"
     ]
    },
    {
     "name": "stdout",
     "output_type": "stream",
     "text": [
      ">"
     ]
    },
    {
     "name": "stdout",
     "output_type": "stream",
     "text": [
      ">"
     ]
    },
    {
     "name": "stdout",
     "output_type": "stream",
     "text": [
      ">"
     ]
    },
    {
     "name": "stdout",
     "output_type": "stream",
     "text": [
      ">"
     ]
    },
    {
     "name": "stdout",
     "output_type": "stream",
     "text": [
      ">"
     ]
    },
    {
     "name": "stdout",
     "output_type": "stream",
     "text": [
      ">"
     ]
    },
    {
     "name": "stdout",
     "output_type": "stream",
     "text": [
      ">"
     ]
    },
    {
     "name": "stdout",
     "output_type": "stream",
     "text": [
      ">"
     ]
    },
    {
     "name": "stdout",
     "output_type": "stream",
     "text": [
      ">"
     ]
    },
    {
     "name": "stdout",
     "output_type": "stream",
     "text": [
      ">"
     ]
    },
    {
     "name": "stdout",
     "output_type": "stream",
     "text": [
      ">"
     ]
    },
    {
     "name": "stdout",
     "output_type": "stream",
     "text": [
      ">"
     ]
    },
    {
     "name": "stdout",
     "output_type": "stream",
     "text": [
      ">"
     ]
    },
    {
     "name": "stdout",
     "output_type": "stream",
     "text": [
      ">"
     ]
    },
    {
     "name": "stdout",
     "output_type": "stream",
     "text": [
      ">"
     ]
    },
    {
     "name": "stdout",
     "output_type": "stream",
     "text": [
      ">"
     ]
    },
    {
     "name": "stdout",
     "output_type": "stream",
     "text": [
      ">\n"
     ]
    },
    {
     "name": "stdout",
     "output_type": "stream",
     "text": [
      ">"
     ]
    },
    {
     "name": "stdout",
     "output_type": "stream",
     "text": [
      ">"
     ]
    },
    {
     "name": "stdout",
     "output_type": "stream",
     "text": [
      ">"
     ]
    },
    {
     "name": "stdout",
     "output_type": "stream",
     "text": [
      ">"
     ]
    },
    {
     "name": "stdout",
     "output_type": "stream",
     "text": [
      ">"
     ]
    },
    {
     "name": "stdout",
     "output_type": "stream",
     "text": [
      ">"
     ]
    },
    {
     "name": "stdout",
     "output_type": "stream",
     "text": [
      ">"
     ]
    },
    {
     "name": "stdout",
     "output_type": "stream",
     "text": [
      ">"
     ]
    },
    {
     "name": "stdout",
     "output_type": "stream",
     "text": [
      ">"
     ]
    },
    {
     "name": "stdout",
     "output_type": "stream",
     "text": [
      ">"
     ]
    },
    {
     "name": "stdout",
     "output_type": "stream",
     "text": [
      ">"
     ]
    },
    {
     "name": "stdout",
     "output_type": "stream",
     "text": [
      ">"
     ]
    },
    {
     "name": "stdout",
     "output_type": "stream",
     "text": [
      ">"
     ]
    },
    {
     "name": "stdout",
     "output_type": "stream",
     "text": [
      ">"
     ]
    },
    {
     "name": "stdout",
     "output_type": "stream",
     "text": [
      ">"
     ]
    },
    {
     "name": "stdout",
     "output_type": "stream",
     "text": [
      ">"
     ]
    },
    {
     "name": "stdout",
     "output_type": "stream",
     "text": [
      ">"
     ]
    },
    {
     "name": "stdout",
     "output_type": "stream",
     "text": [
      ">"
     ]
    },
    {
     "name": "stdout",
     "output_type": "stream",
     "text": [
      ">"
     ]
    },
    {
     "name": "stdout",
     "output_type": "stream",
     "text": [
      ">"
     ]
    },
    {
     "name": "stdout",
     "output_type": "stream",
     "text": [
      ">"
     ]
    },
    {
     "name": "stdout",
     "output_type": "stream",
     "text": [
      ">"
     ]
    },
    {
     "name": "stdout",
     "output_type": "stream",
     "text": [
      ">"
     ]
    },
    {
     "name": "stdout",
     "output_type": "stream",
     "text": [
      ">"
     ]
    },
    {
     "name": "stdout",
     "output_type": "stream",
     "text": [
      ">"
     ]
    },
    {
     "name": "stdout",
     "output_type": "stream",
     "text": [
      ">"
     ]
    },
    {
     "name": "stdout",
     "output_type": "stream",
     "text": [
      ">"
     ]
    },
    {
     "name": "stdout",
     "output_type": "stream",
     "text": [
      ">"
     ]
    },
    {
     "name": "stdout",
     "output_type": "stream",
     "text": [
      ">"
     ]
    },
    {
     "name": "stdout",
     "output_type": "stream",
     "text": [
      ">"
     ]
    },
    {
     "name": "stdout",
     "output_type": "stream",
     "text": [
      ">"
     ]
    },
    {
     "name": "stdout",
     "output_type": "stream",
     "text": [
      ">"
     ]
    },
    {
     "name": "stdout",
     "output_type": "stream",
     "text": [
      ">"
     ]
    },
    {
     "name": "stdout",
     "output_type": "stream",
     "text": [
      ">"
     ]
    },
    {
     "name": "stdout",
     "output_type": "stream",
     "text": [
      ">"
     ]
    },
    {
     "name": "stdout",
     "output_type": "stream",
     "text": [
      ">"
     ]
    },
    {
     "name": "stdout",
     "output_type": "stream",
     "text": [
      ">"
     ]
    },
    {
     "name": "stdout",
     "output_type": "stream",
     "text": [
      ">"
     ]
    },
    {
     "name": "stdout",
     "output_type": "stream",
     "text": [
      ">"
     ]
    },
    {
     "name": "stdout",
     "output_type": "stream",
     "text": [
      ">"
     ]
    },
    {
     "name": "stdout",
     "output_type": "stream",
     "text": [
      ">"
     ]
    },
    {
     "name": "stdout",
     "output_type": "stream",
     "text": [
      ">"
     ]
    },
    {
     "name": "stdout",
     "output_type": "stream",
     "text": [
      ">"
     ]
    },
    {
     "name": "stdout",
     "output_type": "stream",
     "text": [
      ">"
     ]
    },
    {
     "name": "stdout",
     "output_type": "stream",
     "text": [
      ">"
     ]
    },
    {
     "name": "stdout",
     "output_type": "stream",
     "text": [
      ">"
     ]
    },
    {
     "name": "stdout",
     "output_type": "stream",
     "text": [
      ">"
     ]
    },
    {
     "name": "stdout",
     "output_type": "stream",
     "text": [
      ">"
     ]
    },
    {
     "name": "stdout",
     "output_type": "stream",
     "text": [
      ">"
     ]
    },
    {
     "name": "stdout",
     "output_type": "stream",
     "text": [
      ">\n"
     ]
    },
    {
     "name": "stdout",
     "output_type": "stream",
     "text": [
      ">"
     ]
    },
    {
     "name": "stdout",
     "output_type": "stream",
     "text": [
      ">"
     ]
    },
    {
     "name": "stdout",
     "output_type": "stream",
     "text": [
      ">"
     ]
    },
    {
     "name": "stdout",
     "output_type": "stream",
     "text": [
      ">"
     ]
    },
    {
     "name": "stdout",
     "output_type": "stream",
     "text": [
      ">"
     ]
    },
    {
     "name": "stdout",
     "output_type": "stream",
     "text": [
      ">"
     ]
    },
    {
     "name": "stdout",
     "output_type": "stream",
     "text": [
      ">"
     ]
    },
    {
     "name": "stdout",
     "output_type": "stream",
     "text": [
      ">"
     ]
    },
    {
     "name": "stdout",
     "output_type": "stream",
     "text": [
      ">"
     ]
    },
    {
     "name": "stdout",
     "output_type": "stream",
     "text": [
      ">"
     ]
    },
    {
     "name": "stdout",
     "output_type": "stream",
     "text": [
      ">"
     ]
    },
    {
     "name": "stdout",
     "output_type": "stream",
     "text": [
      ">"
     ]
    },
    {
     "name": "stdout",
     "output_type": "stream",
     "text": [
      ">"
     ]
    },
    {
     "name": "stdout",
     "output_type": "stream",
     "text": [
      ">"
     ]
    },
    {
     "name": "stdout",
     "output_type": "stream",
     "text": [
      ">"
     ]
    },
    {
     "name": "stdout",
     "output_type": "stream",
     "text": [
      "\n",
      "Iteration   logZ        H     LowL     npar    parameters\n",
      "   21429      -169.     21.4      -139.     12 \n",
      "[    8.627    0.768  183.018 1246.324    5.175    5.889    0.687   14.780   20.228    6.142    2.770   12.199]\n",
      "Engines              success     reject     failed       best      calls\n",
      "GalileanEngine        124440      59440     104070          0      28415\n",
      "ChordEngine           199147     718695         32          0      28415\n",
      "Calls to LogL        1205824   to dLogL      59440\n",
      "Samples       21929\n",
      "Evidence       -73.463 +-      0.090\n"
     ]
    },
    {
     "data": {
      "image/png": "[encoded data removed]",
      "text/plain": [
       "<Figure size 864x576 with 2 Axes>"
      ]
     },
     "metadata": {
      "needs_background": "light"
     },
     "output_type": "display_data"
    }
   ],
   "source": [
    "# define NestedSampler\n",
    "ns1 = NestedSampler( jd, mdl2, rv, weights=wgt, seed=1301 )\n",
    "ns1.ensemble = 500\n",
    "# set limits on the noise scale of the distribution\n",
    "ns1.distribution.setLimits( [0.01,100] )\n",
    "\n",
    "# run NestedSampler\n",
    "evi1 = ns1.sample( plot=True )\n",
    "\n"
   ]
  },
  {
   "cell_type": "code",
   "execution_count": 9,
   "metadata": {
    "execution": {
     "iopub.execute_input": "2022-11-17T03:09:26.061045Z",
     "iopub.status.busy": "2022-11-17T03:09:26.060534Z",
     "iopub.status.idle": "2022-11-17T03:09:26.062396Z",
     "shell.execute_reply": "2022-11-17T03:09:26.062607Z"
    }
   },
   "outputs": [
    {
     "name": "stdout",
     "output_type": "stream",
     "text": [
      "[    4.346    0.716  149.165 1237.079    5.231    5.839]\n",
      "[    3.098    0.051   28.079   51.812    0.227    0.077]\n",
      "[    3.988    0.711  141.686 1261.921    5.139    5.834    0.469   16.152  714.864    3.083    3.208]\n",
      "[    3.240    0.069   32.797   60.874    0.265    0.110    0.310   23.280  279.522    1.801    2.014]\n"
     ]
    }
   ],
   "source": [
    "pars2 = ns1.parameters\n",
    "stdv2 = ns1.stdevs\n",
    "print( fmt( par, max=None ) )\n",
    "print( fmt( std, max=None ) )\n",
    "print( fmt( pars2, max=None ) )\n",
    "print( fmt( stdv2, max=None ) )"
   ]
  },
  {
   "cell_type": "markdown",
   "metadata": {},
   "source": [
    "The evidence did not go up. So the 2 planet model is not better. \n",
    "\n",
    "We plot both models in one figure (green for 1 planet; red for 2). \n",
    "Obviously there is little in the data that supports 2 planets."
   ]
  },
  {
   "cell_type": "code",
   "execution_count": 10,
   "metadata": {
    "execution": {
     "iopub.execute_input": "2022-11-17T03:09:26.070036Z",
     "iopub.status.busy": "2022-11-17T03:09:26.069756Z",
     "iopub.status.idle": "2022-11-17T03:09:26.163684Z",
     "shell.execute_reply": "2022-11-17T03:09:26.163852Z"
    }
   },
   "outputs": [
    {
     "data": {
      "image/png": "[encoded data removed]",
      "text/plain": [
       "<Figure size 720x432 with 1 Axes>"
      ]
     },
     "metadata": {
      "needs_background": "light"
     },
     "output_type": "display_data"
    }
   ],
   "source": [
    "plt.figure( \"HD2039-1\", figsize=[10,6] )\n",
    "plt.plot( jd, rv, 'k. ' )\n",
    "\n",
    "xx = numpy.linspace( 100, 1500, 1401, dtype=float )\n",
    "plt.plot( xx, mdl.result( xx, par ), 'g-' )\n",
    "plt.plot( xx, mdl2.result( xx, ns1.parameters ), 'r-' )\n",
    "plt.xlabel( \"JulianDays (-2451000)\")\n",
    "plt.ylabel( \"Radial Velocity\")\n",
    "plt.title( \"HD2039\" )\n",
    "plt.savefig( \"HD2039-1.png\" )\n",
    "#plt.show()"
   ]
  },
  {
   "cell_type": "code",
   "execution_count": 11,
   "metadata": {
    "execution": {
     "iopub.execute_input": "2022-11-17T03:09:26.171455Z",
     "iopub.status.busy": "2022-11-17T03:09:26.170097Z",
     "iopub.status.idle": "2022-11-17T03:09:26.239006Z",
     "shell.execute_reply": "2022-11-17T03:09:26.239182Z"
    }
   },
   "outputs": [
    {
     "data": {
      "image/png": "[encoded data removed]",
      "text/plain": [
       "<Figure size 720x432 with 1 Axes>"
      ]
     },
     "metadata": {
      "needs_background": "light"
     },
     "output_type": "display_data"
    }
   ],
   "source": [
    "plt.figure( \"HD2039-ml\", figsize=[10,6] )\n",
    "plt.plot( jd, rv, 'k. ' )\n",
    "\n",
    "parml = ns1.samples[-1].parameters\n",
    "xx = numpy.linspace( 100, 1500, 1401, dtype=float )\n",
    "plt.plot( xx, mdl.result( xx, parml[:6] ), 'g-' )\n",
    "plt.plot( xx, mdl2.result( xx, parml ), 'r-' )\n",
    "plt.xlabel( \"JulianDays (-2451000)\")\n",
    "plt.ylabel( \"Radial Velocity\")\n",
    "plt.title( \"HD2039\" )\n",
    "plt.savefig( \"HD2039-ml.png\" )\n",
    "plt.show()"
   ]
  },
  {
   "cell_type": "code",
   "execution_count": 12,
   "metadata": {
    "execution": {
     "iopub.execute_input": "2022-11-17T03:09:26.242565Z",
     "iopub.status.busy": "2022-11-17T03:09:26.242186Z",
     "iopub.status.idle": "2022-11-17T03:09:26.244779Z",
     "shell.execute_reply": "2022-11-17T03:09:26.244951Z"
    }
   },
   "outputs": [
    {
     "name": "stdout",
     "output_type": "stream",
     "text": [
      "[  152.421  152.405  152.388  152.369  152.349 ...  140.257  140.103  139.948  139.792]\n",
      "[  132.376  132.823  133.269  133.714  134.158 ...  182.848  183.149  183.448  183.747]\n",
      "[    9.995   10.064   10.131   10.199   10.266 ...    7.619    7.695    7.771    7.847]\n",
      "[  -19.787  -19.719  -19.651  -19.582  -19.512 ...  -21.681  -21.632  -21.583  -21.533]\n"
     ]
    }
   ],
   "source": [
    "som = StellarOrbitModel()\n",
    "k1 = [0,1,2,3,6]\n",
    "sompar = som.parameters\n",
    "sompar[k1] = pars2[1:6]\n",
    "\n",
    "#print( sompar )\n",
    "yy = som.result( xx, sompar )\n",
    "xm1 = yy[:,0] * numpy.sin( yy[:,1] )\n",
    "ym1 =-yy[:,0] * numpy.cos( yy[:,1] )\n",
    "\n",
    "print( fmt( xm1, tail=4 ) )\n",
    "print( fmt( ym1, tail=4 ) ) \n",
    "\n",
    "sompar[k1] = pars2[6:]\n",
    "\n",
    "#print( sompar )\n",
    "yy = som.result( xx, sompar )\n",
    "xm2 = yy[:,0] * numpy.sin( yy[:,1] )\n",
    "ym2 =-yy[:,0] * numpy.cos( yy[:,1] )\n",
    "\n",
    "print( fmt( xm2, tail=4 ) )\n",
    "print( fmt( ym2, tail=4 ) ) \n",
    "\n"
   ]
  },
  {
   "cell_type": "code",
   "execution_count": 13,
   "metadata": {
    "execution": {
     "iopub.execute_input": "2022-11-17T03:09:26.251795Z",
     "iopub.status.busy": "2022-11-17T03:09:26.250341Z",
     "iopub.status.idle": "2022-11-17T03:09:26.282141Z",
     "shell.execute_reply": "2022-11-17T03:09:26.282377Z"
    }
   },
   "outputs": [
    {
     "data": {
      "image/png": "[encoded data removed]",
      "text/plain": [
       "<Figure size 432x432 with 1 Axes>"
      ]
     },
     "metadata": {
      "needs_background": "light"
     },
     "output_type": "display_data"
    }
   ],
   "source": [
    "plt.figure( \"orbit\", figsize=[6,6] )\n",
    "\n",
    "plt.plot( xm1, ym1, 'k-' )\n",
    "plt.plot( xm2, ym2, 'r-' )\n",
    "plt.plot( [0], [0], 'k*' )\n",
    "plt.show()"
   ]
  },
  {
   "cell_type": "code",
   "execution_count": null,
   "metadata": {},
   "outputs": [],
   "source": []
  }
 ],
 "metadata": {
  "anaconda-cloud": {},
  "kernelspec": {
   "display_name": "Python 3 (ipykernel)",
   "language": "python",
   "name": "python3"
  },
  "language_info": {
   "codemirror_mode": {
    "name": "ipython",
    "version": 3
   },
   "file_extension": ".py",
   "mimetype": "text/x-python",
   "name": "python",
   "nbconvert_exporter": "python",
   "pygments_lexer": "ipython3",
   "version": "3.8.12"
  }
 },
 "nbformat": 4,
 "nbformat_minor": 1
}
